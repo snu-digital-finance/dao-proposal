{
 "cells": [
  {
   "cell_type": "code",
   "execution_count": 1,
   "metadata": {},
   "outputs": [
    {
     "name": "stdout",
     "output_type": "stream",
     "text": [
      "(20767, 39)\n",
      "(253, 4)\n"
     ]
    }
   ],
   "source": [
    "import pandas as pd\n",
    "\n",
    "df = pd.read_excel(\"proposals_preprocess_0812_cleaned.xlsx\")\n",
    "print(df.shape)\n",
    "empty_body = pd.read_excel(\"empty_body.xlsx\")\n",
    "print(empty_body.shape)"
   ]
  },
  {
   "cell_type": "code",
   "execution_count": 62,
   "metadata": {},
   "outputs": [
    {
     "name": "stdout",
     "output_type": "stream",
     "text": [
      "(45, 39)\n",
      "(45, 39)\n"
     ]
    }
   ],
   "source": [
    "# Title has [Election, Candidate] \n",
    "\n",
    "temp = df[\"title\"].str.contains(\"Multi-sig Governance\")\n",
    "candidate = df[temp]\n",
    "print(candidate.shape)\n",
    "print(candidate[candidate[\"body\"].str.contains(\"multi-sig owners\")].shape)\n",
    "\n",
    "df.loc[temp, \"Class A\"] = \"Operations\"\n",
    "df.loc[temp, \"Class B\"] = \"Team\"\n",
    "df.loc[temp, \"Class C\"] = \"Hiring\""
   ]
  },
  {
   "cell_type": "code",
   "execution_count": 63,
   "metadata": {},
   "outputs": [],
   "source": [
    "from util.extract.data import body_for_sim\n",
    "\n",
    "replace = body_for_sim[\"replace\"]\n",
    "deleted = body_for_sim[\"deleted\"]\n",
    "\n",
    "\n",
    "for d in deleted[\"common\"]:\n",
    "    df[\"body\"] = df[\"body\"].str.replace(d, \"\", regex=False)\n",
    "for k in deleted[\"specific\"].keys():\n",
    "    for d in deleted[\"specific\"][k]:\n",
    "        df.loc[df[\"space_id\"] == k, \"body\"] = df.loc[df[\"space_id\"] == k, \"body\"].str.replace(d, \"\", regex=False)\n",
    "\n",
    "df[\"body_lower\"] = df[\"body\"].str.lower()\n",
    "df[\"title_lower\"] = df[\"title\"].str.lower()\n",
    "df = df.sort_values(by=['title_lower', 'body_lower'])\n",
    "\n",
    "# lower에는 모든 영어 소문자와 숫자만 존재. 단 엔터 허용\n",
    "df[\"body_lower\"] = df[\"body_lower\"].str.replace(\"[^a-z0-9\\n]\", \" \", regex=True)\n",
    "df[\"body_lower\"] = df[\"body_lower\"].str.strip()\n",
    "df[\"title_lower\"] = df[\"title_lower\"].str.strip()\n",
    "df = df[df[\"title_lower\"].str.len() > 0]"
   ]
  },
  {
   "cell_type": "code",
   "execution_count": 64,
   "metadata": {},
   "outputs": [],
   "source": [
    "temp1 = df[\"title\"].str.contains(\"Multi-sig Governance\") # 45 rows\n",
    "temp2 = df[\"body_lower\"].str.strip().str.len() == 0\n",
    "df_ = df[~(temp1 | temp2)].sort_values(by=[\"body_lower\"])"
   ]
  },
  {
   "cell_type": "markdown",
   "metadata": {},
   "source": [
    "# With Categorized dataset"
   ]
  },
  {
   "cell_type": "code",
   "execution_count": 65,
   "metadata": {},
   "outputs": [
    {
     "data": {
      "text/plain": [
       "((264, 39), (20205, 39))"
      ]
     },
     "execution_count": 65,
     "metadata": {},
     "output_type": "execute_result"
    }
   ],
   "source": [
    "class_cols = [\"Class A\", \"Class B\", \"Class C\"]\n",
    "\n",
    "# class_cols에 이름이 있는 열들에서 nan이 아닌 행만 가져오기\n",
    "df_class = df_[df_[class_cols].notnull().any(axis=1)].sort_values(by=['body_lower'])\n",
    "df_not = df_[~df_[class_cols].notnull().any(axis=1)].sort_values(by=['body_lower'])\n",
    "df_class.shape, df_not.shape"
   ]
  },
  {
   "cell_type": "code",
   "execution_count": 66,
   "metadata": {},
   "outputs": [
    {
     "name": "stdout",
     "output_type": "stream",
     "text": [
      "(264, 20205)\n"
     ]
    }
   ],
   "source": [
    "# https://wikidocs.net/24603\n",
    "from sklearn.feature_extraction.text import TfidfVectorizer\n",
    "from sklearn.metrics.pairwise import cosine_similarity\n",
    "\n",
    "vectorizer = TfidfVectorizer()\n",
    "\n",
    "df_body = pd.concat([df_class[\"body_lower\"], df_not[\"body_lower\"]])\n",
    "X = vectorizer.fit_transform(df_body)\n",
    "df_class_body = X[:df_class.shape[0]]\n",
    "df_not_body = X[df_class.shape[0]:]\n",
    "\n",
    "cos_mat = cosine_similarity(df_class_body, df_not_body)\n",
    "print(cos_mat.shape)"
   ]
  },
  {
   "cell_type": "code",
   "execution_count": 68,
   "metadata": {},
   "outputs": [],
   "source": [
    "columns = [\"similarity\", \"id_c\", \"space_id_c\", \"title_c\", \"body_c\", \"link_c\", \"id_n\", \"space_id_n\", \"title_n\", \"body_n\", \"link_n\"]\n",
    "df_columns = [\"id\", \"space_id\", \"title\", \"body\", \"link\"]\n",
    "\n",
    "def print_line(data):\n",
    "    print(\"[ID]:\", data[\"id\"])\n",
    "    print(\"[Space ID]:\", data[\"space_id\"])\n",
    "    print(\"[Title]:\", data[\"title\"])\n",
    "    print(data[\"body\"])\n",
    "\n",
    "def find_similar(threshold: int, threshold_upper: int=2, doPrint: bool = False):\n",
    "    global cos_mat, df_class, df_not, columns, class_cols, df_columns\n",
    "\n",
    "    temp = {k: None for k in columns + class_cols}\n",
    "    result = []\n",
    "\n",
    "    over = (cos_mat >= threshold) & (threshold_upper > cos_mat)\n",
    "\n",
    "\n",
    "    for i in (i for i, v in enumerate(over.sum(axis=1)) if v > 0):\n",
    "        y = df_class.iloc[i]\n",
    "        if doPrint:\n",
    "            print(\"-------------------------------------\")\n",
    "            print(\"-------------------------------------\")\n",
    "            print(\"[Category]:\", y[\"Class A\"], y[\"Class B\"], y[\"Class C\"], sep=\"\\t\")\n",
    "            print_line(y)\n",
    "            print(\"-------------------------------------\")\n",
    "        for v in df_columns:\n",
    "            temp[v+\"_c\"] = y[v]\n",
    "        for v in class_cols:\n",
    "            temp[v] = y[v]\n",
    "\n",
    "        \n",
    "        for j in (idx for idx, v in enumerate(over[i]) if v): \n",
    "            x = df_not.iloc[j]\n",
    "            if doPrint:\n",
    "                print(f\"{cos_mat[i, j]}\")\n",
    "                print_line(x)\n",
    "                print(\"======================\\n\\n\")\n",
    "            temp[\"similarity\"] = cos_mat[i, j]\n",
    "            for v in df_columns:\n",
    "                temp[v+\"_n\"] = x[v]\n",
    "            result.append(temp.copy())\n",
    "    return pd.DataFrame(result)"
   ]
  },
  {
   "cell_type": "code",
   "execution_count": 69,
   "metadata": {},
   "outputs": [
    {
     "name": "stdout",
     "output_type": "stream",
     "text": [
      "(50, 14)\n",
      "(58, 14)\n",
      "(76, 14)\n",
      "(66, 14)\n",
      "(60, 14)\n"
     ]
    }
   ],
   "source": [
    "panel = [2, 1, 0.9, 0.8, 0.7, 0.6]\n",
    "df_panel = {}\n",
    "for i in range(len(panel)-1):\n",
    "    result = find_similar(threshold=panel[i+1], threshold_upper=panel[i])\n",
    "    df_panel[f\"over{panel[i+1]}\"] = result\n",
    "    print(result.shape)\n"
   ]
  },
  {
   "cell_type": "code",
   "execution_count": 70,
   "metadata": {},
   "outputs": [],
   "source": [
    "output_file = 'similar_categorized.xlsx'\n",
    "\n",
    "with pd.ExcelWriter(output_file, engine='xlsxwriter') as writer:\n",
    "    for k in df_panel.keys():\n",
    "        df_panel[k].to_excel(writer, sheet_name=k, index=False)"
   ]
  },
  {
   "cell_type": "markdown",
   "metadata": {},
   "source": [
    "# Without Categorized Dataset "
   ]
  },
  {
   "cell_type": "code",
   "execution_count": null,
   "metadata": {},
   "outputs": [],
   "source": [
    "!pip install -q networkx"
   ]
  },
  {
   "cell_type": "code",
   "execution_count": 76,
   "metadata": {},
   "outputs": [],
   "source": [
    "df_not = df_not[~df_not[\"id\"].isin(df_panel[\"over1\"][\"id_n\"])]\n",
    "df_not = df_not[~df_not[\"id\"].isin(df_panel[\"over0.9\"][\"id_n\"])]"
   ]
  },
  {
   "cell_type": "code",
   "execution_count": 77,
   "metadata": {},
   "outputs": [
    {
     "data": {
      "text/plain": [
       "(20141, 20141)"
      ]
     },
     "execution_count": 77,
     "metadata": {},
     "output_type": "execute_result"
    }
   ],
   "source": [
    "vectorizer = TfidfVectorizer()\n",
    "X = vectorizer.fit_transform(df_not[\"body_lower\"])\n",
    "cos_mat = cosine_similarity(X, X)\n",
    "cos_mat.shape"
   ]
  },
  {
   "cell_type": "code",
   "execution_count": 109,
   "metadata": {},
   "outputs": [],
   "source": [
    "import networkx as nx\n",
    "\n",
    "def find_similar_cluster(threshold: int, threshold_upper:int=2):\n",
    "    G = nx.Graph()\n",
    "    for idx in range(len(df_not)):\n",
    "        G.add_node(df_not.iloc[idx][\"id\"])\n",
    "\n",
    "    over = (cos_mat >= threshold) & (threshold_upper > cos_mat) \n",
    "    for i in range(len(df_not)):\n",
    "        for j in range(i + 1, len(df_not)):\n",
    "            if over[i, j]:\n",
    "                G.add_edge(df_not.iloc[i][\"id\"], df_not.iloc[j][\"id\"], weight=cos_mat[i, j])\n",
    "\n",
    "    filtered_components = [\n",
    "        df_not[df_not[\"id\"].isin(list(c))][[\"id\", \"space_id\", \"title\", \"body\", \"link\", \"Class A\", \"Class B\", \"Class C\"]]\n",
    "        for c in list(nx.connected_components(G)) \n",
    "        if len(c) >= 2\n",
    "    ]\n",
    "    filtered_components = sorted(filtered_components, key=lambda x: len(x), reverse=True)\n",
    "\n",
    "    rows = 0\n",
    "    output_file = f'df_not_{threshold}.xlsx'\n",
    "    with pd.ExcelWriter(output_file, engine='xlsxwriter') as writer:\n",
    "        for i, component in enumerate(filtered_components):\n",
    "            component.to_excel(writer, sheet_name=str(i), index=False)\n",
    "            rows += component.shape[0]\n",
    "    print(f\"Number of rows with threshold {threshold}: {rows}\")\n",
    "    return filtered_components"
   ]
  },
  {
   "cell_type": "code",
   "execution_count": 111,
   "metadata": {},
   "outputs": [
    {
     "name": "stderr",
     "output_type": "stream",
     "text": [
      "Exception ignored in: <function ZipFile.__del__ at 0x0000028C61BF9A20>\n",
      "Traceback (most recent call last):\n",
      "  File \"c:\\Python310\\lib\\zipfile.py\", line 1819, in __del__\n",
      "    self.close()\n",
      "  File \"c:\\Python310\\lib\\zipfile.py\", line 1836, in close\n",
      "    self.fp.seek(self.start_dir)\n",
      "ValueError: seek of closed file\n"
     ]
    },
    {
     "name": "stdout",
     "output_type": "stream",
     "text": [
      "Number of rows with threshold 1: 1000\n",
      "1 312\n",
      "Number of rows with threshold 0.9: 3321\n",
      "0.9 1068\n",
      "Number of rows with threshold 0.8: 2768\n",
      "0.8 636\n",
      "Number of rows with threshold 0.7: 3671\n",
      "0.7 802\n"
     ]
    }
   ],
   "source": [
    "panel = [2, 1, 0.9, 0.8, 0.7, 0.6]\n",
    "for i in range(len(panel)-1):\n",
    "    filtered_components = find_similar_cluster(threshold=panel[i+1], threshold_upper=panel[i])\n",
    "    print(panel[i+1], len(filtered_components))"
   ]
  },
  {
   "cell_type": "code",
   "execution_count": null,
   "metadata": {},
   "outputs": [],
   "source": []
  }
 ],
 "metadata": {
  "kernelspec": {
   "display_name": "Python 3",
   "language": "python",
   "name": "python3"
  },
  "language_info": {
   "codemirror_mode": {
    "name": "ipython",
    "version": 3
   },
   "file_extension": ".py",
   "mimetype": "text/x-python",
   "name": "python",
   "nbconvert_exporter": "python",
   "pygments_lexer": "ipython3",
   "version": "3.10.5"
  }
 },
 "nbformat": 4,
 "nbformat_minor": 2
}
