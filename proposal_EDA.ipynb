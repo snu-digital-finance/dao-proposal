{
 "cells": [
  {
   "cell_type": "code",
   "execution_count": 1,
   "metadata": {},
   "outputs": [],
   "source": [
    "import pandas as pd\n",
    "import numpy as np\n",
    "import matplotlib.pyplot as plt\n",
    "\n",
    "df = pd.read_excel('proposals_preprocess_0812_cleaned.xlsx')"
   ]
  },
  {
   "cell_type": "markdown",
   "metadata": {},
   "source": [
    "# 1. Intro: Simple Statistics of Proposal Dataset"
   ]
  },
  {
   "cell_type": "markdown",
   "metadata": {},
   "source": [
    "- Total rows: 20767\n",
    "  - Before removing similar proposals: 20918\n",
    "\n",
    "- Columns"
   ]
  },
  {
   "cell_type": "code",
   "execution_count": 2,
   "metadata": {},
   "outputs": [
    {
     "data": {
      "text/plain": [
       "((20767, 39),\n",
       " Index(['id', 'end', 'app', 'ipfs', 'type', 'body', 'link', 'title', 'start',\n",
       "        'state', 'votes', 'author', 'symbol', 'quorum', 'scores', 'created',\n",
       "        'updated', 'network', 'plugins', 'choices', 'privacy', 'flagged',\n",
       "        'snapshot', 'strategies', 'validation', 'discussion', 'quorumType',\n",
       "        '__typename', 'scores_state', 'scores_total', 'scores_updated',\n",
       "        'scores_by_strategy', 'space_id', 'lang', 'Class A', 'Class B',\n",
       "        'Class C', 'body_lower', 'title_lower'],\n",
       "       dtype='object'))"
      ]
     },
     "execution_count": 2,
     "metadata": {},
     "output_type": "execute_result"
    }
   ],
   "source": [
    "df.shape, df.columns"
   ]
  },
  {
   "cell_type": "markdown",
   "metadata": {},
   "source": [
    "### Columns Containing NaN Values"
   ]
  },
  {
   "cell_type": "code",
   "execution_count": 3,
   "metadata": {},
   "outputs": [
    {
     "name": "stdout",
     "output_type": "stream",
     "text": [
      "app 8716\n",
      "symbol 5005\n",
      "updated 20580\n",
      "privacy 20136\n",
      "discussion 13326\n",
      "scores_state 9\n",
      "Class A 20505\n",
      "Class B 20536\n"
     ]
    }
   ],
   "source": [
    "for c in df.columns[:-3]:\n",
    "    x = df[c].isna().sum()\n",
    "    if x > 0:\n",
    "        print(c, x)"
   ]
  },
  {
   "cell_type": "markdown",
   "metadata": {},
   "source": [
    "### Columns That Are Nearly Empty"
   ]
  },
  {
   "cell_type": "code",
   "execution_count": 4,
   "metadata": {},
   "outputs": [
    {
     "name": "stdout",
     "output_type": "stream",
     "text": [
      "plugins {} 20445\n",
      "\n",
      "validation {'params': {}} 20450\n",
      "\n",
      "quorum 0.0 15948\n",
      "\n"
     ]
    }
   ],
   "source": [
    "for c in [\"plugins\", \"validation\", \"quorum\"]:\n",
    "    temp = df[c].value_counts() \n",
    "    print(c, temp.index[0], temp[0])\n",
    "    print()"
   ]
  },
  {
   "cell_type": "markdown",
   "metadata": {},
   "source": [
    "### Sample data"
   ]
  },
  {
   "cell_type": "code",
   "execution_count": 5,
   "metadata": {},
   "outputs": [
    {
     "data": {
      "text/plain": [
       "id                    0xa8fbe52b54740b3229b16b52eb4e19076052f6dcbd62...\n",
       "end                                                 2023-02-14 06:00:00\n",
       "app                                                            snapshot\n",
       "ipfs                  bafkreibv7tjfz4sksmseddjv7s6ack43c3xpbdidku6no...\n",
       "type                                                      single-choice\n",
       "body                  [PR with multisig payload](\\n*Summary:*\\n Due ...\n",
       "link                  https://snapshot.org/#/balancer.eth/proposal/0...\n",
       "title                       [BIP-182] Enable bb-rf-USD Gauge [Arbitrum]\n",
       "start                                               2023-02-10 06:00:00\n",
       "state                                                            closed\n",
       "votes                                                               312\n",
       "author                       0x9f74662aD05840Ba35d111930501c617920dD68e\n",
       "symbol                                                            veBAL\n",
       "quorum                                                        2000000.0\n",
       "scores                         [4368724.506570457, 0.45167760260639805]\n",
       "created                                             2023-02-10 05:07:24\n",
       "updated                                                             NaN\n",
       "network                                                               1\n",
       "plugins                                                              {}\n",
       "choices                 [\"Yes, let's do it\", 'No, this is not the way']\n",
       "privacy                                                             NaN\n",
       "flagged                                                           False\n",
       "snapshot                                                       16593469\n",
       "strategies            [{'network': '1', 'params': {'symbol': 'veBAL'...\n",
       "validation                                               {'params': {}}\n",
       "discussion            https://forum.balancer.fi/t/bip-182-enable-bb-...\n",
       "quorumType                                                      default\n",
       "__typename                                                     Proposal\n",
       "scores_state                                                      final\n",
       "scores_total                                             4368724.958248\n",
       "scores_updated                                               1676322029\n",
       "scores_by_strategy    [[62862.3285012715, 4305862.1780691845], [0.45...\n",
       "space_id                                                   balancer.eth\n",
       "lang                                                                 en\n",
       "Class A                                                             NaN\n",
       "Class B                                                             NaN\n",
       "Class C                                                             NaN\n",
       "body_lower            pr with multisig payload  \\n summary  \\n due t...\n",
       "title_lower                 [bip-182] enable bb-rf-usd gauge [arbitrum]\n",
       "Name: 100, dtype: object"
      ]
     },
     "execution_count": 5,
     "metadata": {},
     "output_type": "execute_result"
    }
   ],
   "source": [
    "df.iloc[100]"
   ]
  },
  {
   "cell_type": "code",
   "execution_count": 6,
   "metadata": {},
   "outputs": [
    {
     "data": {
      "text/html": [
       "<div>\n",
       "<style scoped>\n",
       "    .dataframe tbody tr th:only-of-type {\n",
       "        vertical-align: middle;\n",
       "    }\n",
       "\n",
       "    .dataframe tbody tr th {\n",
       "        vertical-align: top;\n",
       "    }\n",
       "\n",
       "    .dataframe thead th {\n",
       "        text-align: right;\n",
       "    }\n",
       "</style>\n",
       "<table border=\"1\" class=\"dataframe\">\n",
       "  <thead>\n",
       "    <tr style=\"text-align: right;\">\n",
       "      <th></th>\n",
       "      <th>id</th>\n",
       "      <th>end</th>\n",
       "      <th>app</th>\n",
       "      <th>ipfs</th>\n",
       "      <th>type</th>\n",
       "      <th>body</th>\n",
       "      <th>link</th>\n",
       "      <th>title</th>\n",
       "      <th>start</th>\n",
       "      <th>state</th>\n",
       "      <th>...</th>\n",
       "      <th>scores_total</th>\n",
       "      <th>scores_updated</th>\n",
       "      <th>scores_by_strategy</th>\n",
       "      <th>space_id</th>\n",
       "      <th>lang</th>\n",
       "      <th>Class A</th>\n",
       "      <th>Class B</th>\n",
       "      <th>Class C</th>\n",
       "      <th>body_lower</th>\n",
       "      <th>title_lower</th>\n",
       "    </tr>\n",
       "  </thead>\n",
       "  <tbody>\n",
       "    <tr>\n",
       "      <th>0</th>\n",
       "      <td>0x4849a9ad5e15af25569061b6855d3e51d8b175ae694d...</td>\n",
       "      <td>2022-08-29 23:59:00</td>\n",
       "      <td>snapshot</td>\n",
       "      <td>bafkreiau6jpf3pk2qacq3afgvkkg37yvlhdv65vrv7oid...</td>\n",
       "      <td>single-choice</td>\n",
       "      <td>Background of the proposal While the card powe...</td>\n",
       "      <td>https://snapshot.org/#/tcgverse.eth/proposal/0...</td>\n",
       "      <td>\\tUser Governance Suggestion/\\t</td>\n",
       "      <td>2022-08-23 00:03:56</td>\n",
       "      <td>closed</td>\n",
       "      <td>...</td>\n",
       "      <td>2.605603e+05</td>\n",
       "      <td>1661785146</td>\n",
       "      <td>[[65, 226199.5545767319], [25, 34270.726811205...</td>\n",
       "      <td>tcgverse.eth</td>\n",
       "      <td>en</td>\n",
       "      <td>NaN</td>\n",
       "      <td>NaN</td>\n",
       "      <td>NaN</td>\n",
       "      <td>background of the proposal while the card powe...</td>\n",
       "      <td>user governance suggestion/</td>\n",
       "    </tr>\n",
       "    <tr>\n",
       "      <th>1</th>\n",
       "      <td>0xc6ddfca763cb36bae79a6adef60e4eaf03b60c9b7c85...</td>\n",
       "      <td>2022-01-25 06:05:00</td>\n",
       "      <td>NaN</td>\n",
       "      <td>Qmcz5pvLTyZ2Nm65mbg9izizypt1FavYVwhMrmA2sFcezQ</td>\n",
       "      <td>basic</td>\n",
       "      <td>Description:\\nCurrently, SpiritSwaps gauge sys...</td>\n",
       "      <td>https://snapshot.org/#/spiritswap.eth/proposal...</td>\n",
       "      <td>Go Back BACK Add a Gauge for SpiritSwaps Le...</td>\n",
       "      <td>2022-01-18 06:05:00</td>\n",
       "      <td>closed</td>\n",
       "      <td>...</td>\n",
       "      <td>2.158755e+07</td>\n",
       "      <td>1643058323</td>\n",
       "      <td>[[3439983.6266650585], [8269542.723191773], [9...</td>\n",
       "      <td>spiritswap.eth</td>\n",
       "      <td>en</td>\n",
       "      <td>NaN</td>\n",
       "      <td>NaN</td>\n",
       "      <td>NaN</td>\n",
       "      <td>description \\ncurrently  spiritswaps gauge sys...</td>\n",
       "      <td>go back back add a gauge for spiritswaps lendi...</td>\n",
       "    </tr>\n",
       "    <tr>\n",
       "      <th>2</th>\n",
       "      <td>QmQfm26pDmhM8yVemvXshxxJDZwfpiAjsTEiGgXjWGVaum</td>\n",
       "      <td>2022-01-23 15:03:00</td>\n",
       "      <td>NaN</td>\n",
       "      <td>QmQfm26pDmhM8yVemvXshxxJDZwfpiAjsTEiGgXjWGVaum</td>\n",
       "      <td>single-choice</td>\n",
       "      <td>(qiuhouhongye#b17c)\\n dcldcl\\n- \\n- \\n- Inva...</td>\n",
       "      <td>https://snapshot.org/#/snapshot.dcl.eth/propos...</td>\n",
       "      <td>nftnft</td>\n",
       "      <td>2022-01-16 15:03:00</td>\n",
       "      <td>closed</td>\n",
       "      <td>...</td>\n",
       "      <td>2.068505e+05</td>\n",
       "      <td>1642917800</td>\n",
       "      <td>[[0, 128000, 0, 74575.52888889765, 200, 0], [0...</td>\n",
       "      <td>snapshot.dcl.eth</td>\n",
       "      <td>en</td>\n",
       "      <td>NaN</td>\n",
       "      <td>NaN</td>\n",
       "      <td>NaN</td>\n",
       "      <td>qiuhouhongye b17c \\n dcldcl\\n  \\n  \\n  invalid...</td>\n",
       "      <td>nftnft</td>\n",
       "    </tr>\n",
       "    <tr>\n",
       "      <th>3</th>\n",
       "      <td>0x32f752190c2eb77f4a9983d95149b42f850806948528...</td>\n",
       "      <td>2022-08-16 15:00:00</td>\n",
       "      <td>snapshot</td>\n",
       "      <td>bafkreicvbxx4dqrddeagdef4sfyrbd3rdx2hjhmbwxpsi...</td>\n",
       "      <td>single-choice</td>\n",
       "      <td># Summary\\nAfter working with DappBack success...</td>\n",
       "      <td>https://snapshot.org/#/shapeshiftdao.eth/propo...</td>\n",
       "      <td>[SCP 98] Increasing DappBack Funding</td>\n",
       "      <td>2022-08-09 23:39:54</td>\n",
       "      <td>closed</td>\n",
       "      <td>...</td>\n",
       "      <td>1.577094e+06</td>\n",
       "      <td>1660629605</td>\n",
       "      <td>[[276348.7534241498, 0, 0, 79337.88379679648, ...</td>\n",
       "      <td>shapeshiftdao.eth</td>\n",
       "      <td>en</td>\n",
       "      <td>NaN</td>\n",
       "      <td>NaN</td>\n",
       "      <td>NaN</td>\n",
       "      <td>summary\\nafter working with dappback successfu...</td>\n",
       "      <td>[scp 98] increasing dappback funding</td>\n",
       "    </tr>\n",
       "    <tr>\n",
       "      <th>4</th>\n",
       "      <td>0x66d197533b713be81ac21a56fdc528c23afa57f65aa6...</td>\n",
       "      <td>2023-03-24 02:30:00</td>\n",
       "      <td>snapshot</td>\n",
       "      <td>bafkreib27t5c5awi3vehhjvt4wjbb3ycblcmzxj6lhc3c...</td>\n",
       "      <td>single-choice</td>\n",
       "      <td>\\n There is a shutter function on Snapshot tha...</td>\n",
       "      <td>https://snapshot.org/#/glmrapes.eth/proposal/0...</td>\n",
       "      <td>ANONYMOUS VOTES</td>\n",
       "      <td>2023-03-22 03:00:00</td>\n",
       "      <td>closed</td>\n",
       "      <td>...</td>\n",
       "      <td>1.010000e+02</td>\n",
       "      <td>1679592606</td>\n",
       "      <td>[[35], [19], [47]]</td>\n",
       "      <td>glmrapes.eth</td>\n",
       "      <td>en</td>\n",
       "      <td>NaN</td>\n",
       "      <td>NaN</td>\n",
       "      <td>NaN</td>\n",
       "      <td>there is a shutter function on snapshot that h...</td>\n",
       "      <td>anonymous votes</td>\n",
       "    </tr>\n",
       "  </tbody>\n",
       "</table>\n",
       "<p>5 rows × 39 columns</p>\n",
       "</div>"
      ],
      "text/plain": [
       "                                                  id                 end  \\\n",
       "0  0x4849a9ad5e15af25569061b6855d3e51d8b175ae694d... 2022-08-29 23:59:00   \n",
       "1  0xc6ddfca763cb36bae79a6adef60e4eaf03b60c9b7c85... 2022-01-25 06:05:00   \n",
       "2     QmQfm26pDmhM8yVemvXshxxJDZwfpiAjsTEiGgXjWGVaum 2022-01-23 15:03:00   \n",
       "3  0x32f752190c2eb77f4a9983d95149b42f850806948528... 2022-08-16 15:00:00   \n",
       "4  0x66d197533b713be81ac21a56fdc528c23afa57f65aa6... 2023-03-24 02:30:00   \n",
       "\n",
       "        app                                               ipfs           type  \\\n",
       "0  snapshot  bafkreiau6jpf3pk2qacq3afgvkkg37yvlhdv65vrv7oid...  single-choice   \n",
       "1       NaN     Qmcz5pvLTyZ2Nm65mbg9izizypt1FavYVwhMrmA2sFcezQ          basic   \n",
       "2       NaN     QmQfm26pDmhM8yVemvXshxxJDZwfpiAjsTEiGgXjWGVaum  single-choice   \n",
       "3  snapshot  bafkreicvbxx4dqrddeagdef4sfyrbd3rdx2hjhmbwxpsi...  single-choice   \n",
       "4  snapshot  bafkreib27t5c5awi3vehhjvt4wjbb3ycblcmzxj6lhc3c...  single-choice   \n",
       "\n",
       "                                                body  \\\n",
       "0  Background of the proposal While the card powe...   \n",
       "1  Description:\\nCurrently, SpiritSwaps gauge sys...   \n",
       "2    (qiuhouhongye#b17c)\\n dcldcl\\n- \\n- \\n- Inva...   \n",
       "3  # Summary\\nAfter working with DappBack success...   \n",
       "4  \\n There is a shutter function on Snapshot tha...   \n",
       "\n",
       "                                                link  \\\n",
       "0  https://snapshot.org/#/tcgverse.eth/proposal/0...   \n",
       "1  https://snapshot.org/#/spiritswap.eth/proposal...   \n",
       "2  https://snapshot.org/#/snapshot.dcl.eth/propos...   \n",
       "3  https://snapshot.org/#/shapeshiftdao.eth/propo...   \n",
       "4  https://snapshot.org/#/glmrapes.eth/proposal/0...   \n",
       "\n",
       "                                               title               start  \\\n",
       "0                    \\tUser Governance Suggestion/\\t 2022-08-23 00:03:56   \n",
       "1     Go Back BACK Add a Gauge for SpiritSwaps Le... 2022-01-18 06:05:00   \n",
       "2                                             nftnft 2022-01-16 15:03:00   \n",
       "3               [SCP 98] Increasing DappBack Funding 2022-08-09 23:39:54   \n",
       "4                                   ANONYMOUS VOTES  2023-03-22 03:00:00   \n",
       "\n",
       "    state  ...  scores_total scores_updated  \\\n",
       "0  closed  ...  2.605603e+05     1661785146   \n",
       "1  closed  ...  2.158755e+07     1643058323   \n",
       "2  closed  ...  2.068505e+05     1642917800   \n",
       "3  closed  ...  1.577094e+06     1660629605   \n",
       "4  closed  ...  1.010000e+02     1679592606   \n",
       "\n",
       "                                  scores_by_strategy           space_id lang  \\\n",
       "0  [[65, 226199.5545767319], [25, 34270.726811205...       tcgverse.eth   en   \n",
       "1  [[3439983.6266650585], [8269542.723191773], [9...     spiritswap.eth   en   \n",
       "2  [[0, 128000, 0, 74575.52888889765, 200, 0], [0...   snapshot.dcl.eth   en   \n",
       "3  [[276348.7534241498, 0, 0, 79337.88379679648, ...  shapeshiftdao.eth   en   \n",
       "4                                 [[35], [19], [47]]       glmrapes.eth   en   \n",
       "\n",
       "  Class A  Class B  Class C  \\\n",
       "0     NaN      NaN      NaN   \n",
       "1     NaN      NaN      NaN   \n",
       "2     NaN      NaN      NaN   \n",
       "3     NaN      NaN      NaN   \n",
       "4     NaN      NaN      NaN   \n",
       "\n",
       "                                          body_lower  \\\n",
       "0  background of the proposal while the card powe...   \n",
       "1  description \\ncurrently  spiritswaps gauge sys...   \n",
       "2  qiuhouhongye b17c \\n dcldcl\\n  \\n  \\n  invalid...   \n",
       "3  summary\\nafter working with dappback successfu...   \n",
       "4  there is a shutter function on snapshot that h...   \n",
       "\n",
       "                                         title_lower  \n",
       "0                        user governance suggestion/  \n",
       "1  go back back add a gauge for spiritswaps lendi...  \n",
       "2                                             nftnft  \n",
       "3               [scp 98] increasing dappback funding  \n",
       "4                                    anonymous votes  \n",
       "\n",
       "[5 rows x 39 columns]"
      ]
     },
     "execution_count": 6,
     "metadata": {},
     "output_type": "execute_result"
    }
   ],
   "source": [
    "df.head()"
   ]
  },
  {
   "cell_type": "markdown",
   "metadata": {},
   "source": [
    "### Columns with Nearly Identical Values"
   ]
  },
  {
   "cell_type": "code",
   "execution_count": 7,
   "metadata": {},
   "outputs": [
    {
     "name": "stdout",
     "output_type": "stream",
     "text": [
      "default    20767\n",
      "Name: quorumType, dtype: int64\n",
      "\n",
      "final    20758\n",
      "Name: scores_state, dtype: int64\n",
      "\n",
      "Proposal    20767\n",
      "Name: __typename, dtype: int64\n",
      "\n",
      "closed    20767\n",
      "Name: state, dtype: int64\n",
      "\n",
      "en    20767\n",
      "Name: lang, dtype: int64\n",
      "\n",
      "shutter    631\n",
      "Name: privacy, dtype: int64\n",
      "\n"
     ]
    }
   ],
   "source": [
    "for c in [\"quorumType\", \"scores_state\", \"__typename\", \"state\", \"lang\", \"privacy\"]:\n",
    "    print(df[c].value_counts())\n",
    "    print()\n",
    "\n",
    "# 단, privacy는 대부분 null "
   ]
  },
  {
   "cell_type": "markdown",
   "metadata": {},
   "source": [
    "### Count of Each Value in the Specified Column"
   ]
  },
  {
   "cell_type": "code",
   "execution_count": 8,
   "metadata": {},
   "outputs": [
    {
     "data": {
      "text/plain": [
       "0x5E23D08324f017d5425e59A2782C9ae27aCE0958    1240\n",
       "0xBB7B59Afa3A0E5Be143b8fE9C641F00c1ecB9d69    1078\n",
       "0x724061efDFef4a421e8be05133ad24922D07b5Bf     322\n",
       "0xc3d6f21c79C2567A1858d8b93a4EDBD9dB399d9d     315\n",
       "0xFAD69Bd739c64cC8e3f1C3bb3B60fe4f160174Cc     294\n",
       "                                              ... \n",
       "0xDbCA6155C197BD64FeB008d82e95C9c7B58F67e6       1\n",
       "0x4A5EcF0183001c3980fc002670199D8f17F5F7a7       1\n",
       "0xd6C7c628CacaE68da1D53273db57b303228F6dFc       1\n",
       "0xc329C67338a17741Fe1f69982F97430271ea78c8       1\n",
       "0x63009AE2Bad374C3aDACa32c220F704581363aF4       1\n",
       "Name: author, Length: 3409, dtype: int64"
      ]
     },
     "execution_count": 8,
     "metadata": {},
     "output_type": "execute_result"
    }
   ],
   "source": [
    "df[\"author\"].value_counts()"
   ]
  },
  {
   "cell_type": "code",
   "execution_count": 9,
   "metadata": {},
   "outputs": [
    {
     "data": {
      "text/plain": [
       "count    3409.000000\n",
       "mean        6.091816\n",
       "std        32.873969\n",
       "min         1.000000\n",
       "25%         1.000000\n",
       "50%         1.000000\n",
       "75%         3.000000\n",
       "max      1240.000000\n",
       "Name: author, dtype: float64"
      ]
     },
     "execution_count": 9,
     "metadata": {},
     "output_type": "execute_result"
    }
   ],
   "source": [
    "df[\"author\"].value_counts().describe()"
   ]
  },
  {
   "cell_type": "code",
   "execution_count": 10,
   "metadata": {},
   "outputs": [
    {
     "data": {
      "text/plain": [
       "[0, 0]                                                         28\n",
       "[12, 0]                                                        13\n",
       "[12, 0, 0]                                                     12\n",
       "[1090149.7629480332, 0, 2000342.6]                             12\n",
       "[8, 0]                                                         11\n",
       "                                                               ..\n",
       "[1943.7899316426951, 125.43471789377476]                        1\n",
       "[243, 8]                                                        1\n",
       "[3308366.534076784, 115048.57695947617]                         1\n",
       "[3578524.370561624, 39519.54304532145, 35581.40995378613]       1\n",
       "[21551.668878425327, 5536832.137618381, 1113471.6192419045]     1\n",
       "Name: scores, Length: 20371, dtype: int64"
      ]
     },
     "execution_count": 10,
     "metadata": {},
     "output_type": "execute_result"
    }
   ],
   "source": [
    "df[\"scores\"].value_counts()"
   ]
  },
  {
   "cell_type": "code",
   "execution_count": 11,
   "metadata": {},
   "outputs": [
    {
     "data": {
      "text/plain": [
       "1        15937\n",
       "56        2299\n",
       "137        897\n",
       "42161      577\n",
       "250        274\n",
       "1088       244\n",
       "1284       204\n",
       "100        102\n",
       "43114       79\n",
       "592         50\n",
       "2400        47\n",
       "10          34\n",
       "321         17\n",
       "324          3\n",
       "4            2\n",
       "8453         1\n",
       "Name: network, dtype: int64"
      ]
     },
     "execution_count": 11,
     "metadata": {},
     "output_type": "execute_result"
    }
   ],
   "source": [
    "df[\"network\"].value_counts()"
   ]
  },
  {
   "cell_type": "code",
   "execution_count": 12,
   "metadata": {},
   "outputs": [
    {
     "data": {
      "text/plain": [
       "['for', 'against', 'abstain']                                                                                                       3065\n",
       "['yes', 'no']                                                                                                                       3009\n",
       "['for', 'against']                                                                                                                  1646\n",
       "['yes', 'no', 'abstain']                                                                                                            1243\n",
       "['yae', 'nay', 'abstain']                                                                                                            401\n",
       "                                                                                                                                    ... \n",
       "['i work in cryptocurrency', \"i don't work in cryptocurrency \", \"i'm a beginner\", \"i'll donate to your dream\", 'happy birthday']       1\n",
       "['i accept the idea!', 'i do not accept the idea!']                                                                                    1\n",
       "['add green check mark', 'add your vote', 'add check and vote', 'leave as is', 'abstain']                                              1\n",
       "['yes toxic & corrupt', 'just toxic', 'just corrupt', 'invalid question/options']                                                      1\n",
       "['yes - lets do it', 'no - we have a better idea', 'invalid question/options']                                                         1\n",
       "Name: choices, Length: 7326, dtype: int64"
      ]
     },
     "execution_count": 12,
     "metadata": {},
     "output_type": "execute_result"
    }
   ],
   "source": [
    "df[\"choices\"].str.lower().value_counts()"
   ]
  },
  {
   "cell_type": "code",
   "execution_count": 13,
   "metadata": {},
   "outputs": [
    {
     "data": {
      "text/plain": [
       "[{'network': '56', 'params': {'symbol': 'CAKE', 'address': '0x0E09FaBB73Bd3Ade0a17ECC321fD13a19e81cE82', 'decimals': 18}}]                                                                                                                                                                                                                                                                                                                                                                                                                                                                                                                                                                                                                                                                                                                                                                                                                                                                                                                                                                                                                                                                                                                                                                                                                                                                                                                                                                                                                                                                                                                                                                                                                                                                                                                                                                                                                                                                                                                                                                                                                                                                                                                                                                                                                                                                                                                                                                                                                                                                                                                                                                                                                                                                                                                                                                                                                                                                                                                                                                                                                                                                                                                                                                                                                                                                                                                                                                                                                                                                                                                                                                                                                                                                                                                                                                                                                   1491\n",
       "[{'network': '1', 'params': {'symbol': 'WMANA', 'address': '0xfd09cf7cfffa9932e33668311c4777cb9db3c9be', 'decimals': 18}}, {'network': '1', 'params': {'symbol': 'LAND', 'address': '0xf87e31492faf9a91b02ee0deaad50d51d56d5d4d', 'multiplier': 2000}}, {'network': '1', 'params': {'symbol': 'ESTATE', 'address': '0x959e104e1a4db6317fa58f8295f586e1a978c297', 'multiplier': 2000}}, {'network': '1', 'params': {'name': 'multichain', 'graphs': {'137': 'https://api.thegraph.com/subgraphs/name/decentraland/blocks-matic-mainnet'}, 'symbol': 'MANA', 'strategies': [{'name': 'erc20-balance-of', 'params': {'address': '0x0f5d2fb29fb7d3cfee444a200298f468908cc942', 'decimals': 18}, 'network': '1'}, {'name': 'erc20-balance-of', 'params': {'address': '0xA1c57f48F0Deb89f569dFbE6E2B7f46D33606fD4', 'decimals': 18}, 'network': '137'}]}}, {'network': '1', 'params': {'symbol': 'NAMES', 'address': '0x2a187453064356c898cae034eaed119e1663acb8', 'multiplier': 100}}, {'network': '1', 'params': {'symbol': 'VP (delegated)', 'strategies': [{'name': 'erc20-balance-of', 'params': {'symbol': 'WMANA', 'address': '0xfd09cf7cfffa9932e33668311c4777cb9db3c9be', 'decimals': 18}}, {'name': 'erc721-with-multiplier', 'params': {'symbol': 'LAND', 'address': '0xf87e31492faf9a91b02ee0deaad50d51d56d5d4d', 'multiplier': 2000}}, {'name': 'decentraland-estate-size', 'params': {'symbol': 'ESTATE', 'address': '0x959e104e1a4db6317fa58f8295f586e1a978c297', 'multiplier': 2000}}, {'name': 'multichain', 'params': {'name': 'multichain', 'graphs': {'137': 'https://api.thegraph.com/subgraphs/name/decentraland/blocks-matic-mainnet'}, 'symbol': 'MANA', 'strategies': [{'name': 'erc20-balance-of', 'params': {'address': '0x0f5d2fb29fb7d3cfee444a200298f468908cc942', 'decimals': 18}, 'network': '1'}, {'name': 'erc20-balance-of', 'params': {'address': '0xA1c57f48F0Deb89f569dFbE6E2B7f46D33606fD4', 'decimals': 18}, 'network': '137'}]}}, {'name': 'erc721-with-multiplier', 'params': {'symbol': 'NAMES', 'address': '0x2a187453064356c898cae034eaed119e1663acb8', 'multiplier': 100}}]}}]                                                                                                                                                                                                                                                                                                                                                                                                                                                                                                                                                                                                                                                                                                                                                                                                                                                                                                                                                                                                                                                                                                                                                                                                                                                                                                                                                                                                                                                                                                                                                                                                                                                                                                                                                                                                                       1004\n",
       "[{'network': '1', 'params': {'symbol': 'WMANA', 'address': '0xfd09cf7cfffa9932e33668311c4777cb9db3c9be', 'decimals': 18}}, {'network': '1', 'params': {'symbol': 'LAND', 'address': '0xf87e31492faf9a91b02ee0deaad50d51d56d5d4d', 'multiplier': 2000}}, {'network': '1', 'params': {'symbol': 'ESTATE', 'address': '0x959e104e1a4db6317fa58f8295f586e1a978c297', 'multiplier': 2000}}, {'network': '1', 'params': {'name': 'multichain', 'graphs': {'137': 'https://api.thegraph.com/subgraphs/name/decentraland/blocks-matic-mainnet'}, 'symbol': 'MANA', 'strategies': [{'name': 'erc20-balance-of', 'params': {'address': '0x0f5d2fb29fb7d3cfee444a200298f468908cc942', 'decimals': 18}, 'network': '1'}, {'name': 'erc20-balance-of', 'params': {'address': '0xA1c57f48F0Deb89f569dFbE6E2B7f46D33606fD4', 'decimals': 18}, 'network': '137'}]}}, {'network': '1', 'params': {'symbol': 'NAMES', 'address': '0x2a187453064356c898cae034eaed119e1663acb8', 'multiplier': 100}}, {'network': '1', 'params': {'symbol': 'VP (delegated)', 'strategies': [{'name': 'erc20-balance-of', 'params': {'symbol': 'WMANA', 'address': '0xfd09cf7cfffa9932e33668311c4777cb9db3c9be', 'decimals': 18}}, {'name': 'erc721-with-multiplier', 'params': {'symbol': 'LAND', 'address': '0xf87e31492faf9a91b02ee0deaad50d51d56d5d4d', 'multiplier': 2000}}, {'name': 'decentraland-estate-size', 'params': {'symbol': 'ESTATE', 'address': '0x959e104e1a4db6317fa58f8295f586e1a978c297', 'multiplier': 2000}}, {'name': 'multichain', 'params': {'name': 'multichain', 'graphs': {'137': 'https://api.thegraph.com/subgraphs/name/decentraland/blocks-matic-mainnet'}, 'symbol': 'MANA', 'strategies': [{'name': 'erc20-balance-of', 'params': {'address': '0x0f5d2fb29fb7d3cfee444a200298f468908cc942', 'decimals': 18}, 'network': '1'}, {'name': 'erc20-balance-of', 'params': {'address': '0xA1c57f48F0Deb89f569dFbE6E2B7f46D33606fD4', 'decimals': 18}, 'network': '137'}]}}, {'name': 'erc721-with-multiplier', 'params': {'symbol': 'NAMES', 'address': '0x2a187453064356c898cae034eaed119e1663acb8', 'multiplier': 100}}, {'name': 'decentraland-wearable-rarity', 'params': {'symbol': 'WEARABLE', 'collections': ['0x32b7495895264ac9d0b12d32afd435453458b1c6', '0xd35147be6401dcb20811f2104c33de8e97ed6818', '0xc04528c14c8ffd84c7c1fb6719b4a89853035cdd', '0xc1f4b0eea2bd6690930e6c66efd3e197d620b9c2', '0xf64dc33a192e056bb5f0e5049356a0498b502d50', '0xc3af02c0fd486c8e9da5788b915d6fff3f049866'], 'multipliers': {'epic': 10, 'rare': 5, 'mythic': 1000, 'uncommon': 1, 'legendary': 100}}}, {'name': 'decentraland-rental-lessors', 'params': {'symbol': 'RENTAL', 'addresses': {'land': '0xf87e31492faf9a91b02ee0deaad50d51d56d5d4d', 'estate': '0x959e104e1a4db6317fa58f8295f586e1a978c297'}, 'subgraphs': {'rentals': 'https://api.thegraph.com/subgraphs/name/decentraland/rentals-ethereum-mainnet', 'marketplace': 'https://api.thegraph.com/subgraphs/name/decentraland/marketplace'}, 'multipliers': {'land': 2000, 'estateSize': 2000}}}]}}, {'network': '1', 'params': {'symbol': 'WEARABLE', 'collections': ['0x32b7495895264ac9d0b12d32afd435453458b1c6', '0xd35147be6401dcb20811f2104c33de8e97ed6818', '0xc04528c14c8ffd84c7c1fb6719b4a89853035cdd', '0xc1f4b0eea2bd6690930e6c66efd3e197d620b9c2', '0xf64dc33a192e056bb5f0e5049356a0498b502d50', '0xc3af02c0fd486c8e9da5788b915d6fff3f049866'], 'multipliers': {'epic': 10, 'rare': 5, 'mythic': 1000, 'uncommon': 1, 'legendary': 100}}}, {'network': '1', 'params': {'symbol': 'RENTAL', 'addresses': {'land': '0xf87e31492faf9a91b02ee0deaad50d51d56d5d4d', 'estate': '0x959e104e1a4db6317fa58f8295f586e1a978c297'}, 'subgraphs': {'rentals': 'https://api.thegraph.com/subgraphs/name/decentraland/rentals-ethereum-mainnet', 'marketplace': 'https://api.thegraph.com/subgraphs/name/decentraland/marketplace'}, 'multipliers': {'land': 2000, 'estateSize': 2000}}}]     963\n",
       "[{'network': '1', 'params': {'symbol': 'vBNT', 'address': '0x892f481BD6E9d7D26aE365211D9B45175d5D00e4', 'decimals': 18, 'methodABI': {'name': 'votesOf', 'type': 'function', 'inputs': [{'name': '_voter', 'type': 'address', 'internalType': 'address'}], 'outputs': [{'name': '', 'type': 'uint256', 'internalType': 'uint256'}], 'stateMutability': 'view'}}}, {'network': '1', 'params': {'symbol': 'vBNT (delegated)', 'strategies': [{'name': 'contract-call', 'params': {'address': '0x892f481BD6E9d7D26aE365211D9B45175d5D00e4', 'decimals': 18, 'methodABI': {'name': 'votesOf', 'type': 'function', 'inputs': [{'name': '_voter', 'type': 'address', 'internalType': 'address'}], 'outputs': [{'name': '', 'type': 'uint256', 'internalType': 'uint256'}], 'stateMutability': 'view'}}}]}}]                                                                                                                                                                                                                                                                                                                                                                                                                                                                                                                                                                                                                                                                                                                                                                                                                                                                                                                                                                                                                                                                                                                                                                                                                                                                                                                                                                                                                                                                                                                                                                                                                                                                                                                                                                                                                                                                                                                                                                                                                                                                                                                                                                                                                                                                                                                                                                                                                                                                                                                                                                                                                                                                                                                                                                                                                                                                                                                                                                                                                                                                                                                                         445\n",
       "[{'network': '1', 'params': {'symbol': 'aAAVE', 'address': '0xffc97d72e13e01096502cb8eb52dee56f74dad7b', 'decimals': 18}}, {'network': '1', 'params': {'symbol': 'AAVE+stkAAVE', 'decimals': 18, 'powerType': 'vote', 'governanceStrategy': '0xb7e383ef9b1e9189fc0f71fb30af8aa14377429e'}}, {'network': '1', 'params': {'graphs': {'137': 'https://api.thegraph.com/subgraphs/name/sameepsi/maticblocks'}, 'symbol': 'Matic AAVE+amAAVE', 'strategies': [{'name': 'erc20-balance-of', 'params': {'symbol': 'AAVE', 'address': '0xD6DF932A45C0f255f85145f286eA0b292B21C90B', 'decimals': 18}, 'network': '137'}, {'name': 'erc20-balance-of', 'params': {'symbol': 'amAAVE', 'address': '0x1d2a0E5EC8E5bBDCA5CB219e649B565d8e5c3360', 'decimals': 18}, 'network': 137}]}}, {'network': '1', 'params': {'args': ['%{address}'], 'symbol': 'AAVE in stkBPT', 'address': '0xC0259c59D9f980E3b5e2574cD78C9A9Bc6A8E3fc', 'decimals': 18, 'methodABI': {'name': 'balanceOf', 'type': 'function', 'inputs': [{'name': 'account', 'type': 'address', 'internalType': 'address'}], 'outputs': [{'name': '', 'type': 'uint256', 'internalType': 'uint256'}], 'stateMutability': 'view'}}}]                                                                                                                                                                                                                                                                                                                                                                                                                                                                                                                                                                                                                                                                                                                                                                                                                                                                                                                                                                                                                                                                                                                                                                                                                                                                                                                                                                                                                                                                                                                                                                                                                                                                                                                                                                                                                                                                                                                                                                                                                                                                                                                                                                                                                                                                                                                                                                                                                                                                                                                                                                                                                                                                                                                                                               405\n",
       "                                                                                                                                                                                                                                                                                                                                                                                                                                                                                                                                                                                                                                                                                                                                                                                                                                                                                                                                                                                                                                                                                                                                                                                                                                                                                                                                                                                                                                                                                                                                                                                                                                                                                                                                                                                                                                                                                                                                                                                                                                                                                                                                                                                                                                                                                                                                                                                                                                                                                                                                                                                                                                                                                                                                                                                                                                                                                                                                                                                                                                                                                                                                                                                                                                                                                                                                                                                                                                                                                                                                                                                                                                                                                                                                                                                                                                                                                                                                             ... \n",
       "[{'network': '1', 'params': {'args': ['0xb26C4B3Ca601136Daf98593feAeff9E0CA702a8D', '%{address}'], 'symbol': 'ALDDAO pending ALD', 'address': '0x78Dbc6888F6CCa11CAc3d4B0027557f25d15ad23', 'decimals': 18, 'methodABI': {'name': 'earned', 'type': 'function', 'inputs': [{'name': '_rewardToken', 'type': 'address', 'internalType': 'address'}, {'name': '_account', 'type': 'address', 'internalType': 'address'}], 'outputs': [{'name': '', 'type': 'uint256', 'internalType': 'uint256'}], 'constant': True, 'stateMutability': 'view'}}}]                                                                                                                                                                                                                                                                                                                                                                                                                                                                                                                                                                                                                                                                                                                                                                                                                                                                                                                                                                                                                                                                                                                                                                                                                                                                                                                                                                                                                                                                                                                                                                                                                                                                                                                                                                                                                                                                                                                                                                                                                                                                                                                                                                                                                                                                                                                                                                                                                                                                                                                                                                                                                                                                                                                                                                                                                                                                                                                                                                                                                                                                                                                                                                                                                                                                                                                                                                                                1\n",
       "[{'network': '1', 'params': {'symbol': 'DIA', 'address': '0x84cA8bc7997272c7CfB4D0Cd3D55cd942B3c9419', 'decimals': 18}}, {'network': '42161', 'params': {'symbol': 'ARB', 'weight': 0.00462, 'address': '0x912ce59144191c1204e64559fe8253a0e49e6548', 'decimals': 18}}, {'network': '1', 'params': {'symbol': 'GRAI', 'weight': 11.203, 'address': '0x15f74458aE0bFdAA1a96CA1aa779D715Cc1Eefe4', 'decimals': 18}}]                                                                                                                                                                                                                                                                                                                                                                                                                                                                                                                                                                                                                                                                                                                                                                                                                                                                                                                                                                                                                                                                                                                                                                                                                                                                                                                                                                                                                                                                                                                                                                                                                                                                                                                                                                                                                                                                                                                                                                                                                                                                                                                                                                                                                                                                                                                                                                                                                                                                                                                                                                                                                                                                                                                                                                                                                                                                                                                                                                                                                                                                                                                                                                                                                                                                                                                                                                                                                                                                                                                              1\n",
       "[{'network': '250', 'params': {'lp': {'numerator': 1, 'denominator': 2}, 'boo': {'numerator': 1, 'denominator': 1}, 'symbol': 'SpookyVotes', 'vaultTokens': [{'symbol': 'BOO-FTM in beefy', 'address': '0xEe3a7c885Fd3cc5358FF583F2DAB3b8bC473316f', 'decimals': 18, 'numerator': 2, 'denominator': 1}, {'symbol': 'BOO in beefy', 'address': '0x15DD4398721733D8273FD4Ed9ac5eadC6c018866', 'decimals': 18, 'numerator': 2, 'denominator': 1}, {'symbol': 'BOO in reaper.farm', 'address': '0x08a9A35A70d1AE4D9c1035fc92ab5D278f4B7800', 'decimals': 18, 'numerator': 3, 'denominator': 2}, {'symbol': 'BOO-FTM in reaper.farm', 'address': '0xc653C5128C8D135FF8ad796353128AFf872Ff1bA', 'decimals': 18, 'numerator': 1, 'denominator': 1}, {'symbol': 'xBOO in reaper.farm', 'address': '0xea2F54C34a9f2c56bfEE6bf497A08dA32306aed3', 'decimals': 18, 'numerator': 3, 'denominator': 2}, {'symbol': 'xBOO in reaper.farm', 'address': '0xFC550BAD3c14160CBA7bc05ee263b3F060149AFF', 'decimals': 18, 'numerator': 3, 'denominator': 2}, {'symbol': 'BOO in yearn', 'address': '0x0fBbf9848D969776a5Eb842EdAfAf29ef4467698', 'decimals': 18, 'numerator': 1, 'denominator': 1}, {'symbol': 'BOO/xBOO vAMM LP', 'address': '0x5804F6C40f44cF7593F73cf3aa16F7037213A623', 'decimals': 18, 'numerator': 26, 'denominator': 10}, {'symbol': 'BOO/xBOO staked in SOLIDEX', 'address': '0x60E1e67fd41e86Cf5d19E72CA4fbCA38aA0C52F9', 'decimals': 18, 'numerator': 26, 'denominator': 10}]}}, {'network': '250', 'params': {'symbol': 'SpookyVotes', 'address': '0xF6D99497d35cdeB5087D080f6bf4C5a63C908230', 'decimals': 18, 'methodABI': {'name': 'getVotes', 'type': 'function', 'inputs': [{'name': '_user', 'type': 'address', 'internalType': 'address'}], 'outputs': [{'name': 'amount', 'type': 'uint256', 'internalType': 'uint256'}], 'stateMutability': 'view'}}}, {'network': '250', 'params': {'pid': 7, 'symbol': 'SpookyVotes in 0xDAO', 'weight': 2, 'chefAddress': '0xa7821C3e9fC1bF961e280510c471031120716c3d', 'uniPairAddress': None}}]                                                                                                                                                                                                                                                                                                                                                                                                                                                                                                                                                                                                                                                                                                                                                                                                                                                                                                                                                                                                                                                                                                                                                                                                                                                                                                                                                                                                                                                                                                                                                                                                                                                                                                                                                                                                                                                                                            1\n",
       "[{'network': '250', 'params': {'lp': {'numerator': 1, 'denominator': 2}, 'boo': {'numerator': 1, 'denominator': 1}, 'symbol': 'SpookyVotes', 'vaultTokens': [{'symbol': 'BOO-FTM in beefy', 'address': '0xEe3a7c885Fd3cc5358FF583F2DAB3b8bC473316f', 'decimals': 18, 'numerator': 2, 'denominator': 1}, {'symbol': 'BOO in beefy', 'address': '0x15DD4398721733D8273FD4Ed9ac5eadC6c018866', 'decimals': 18, 'numerator': 2, 'denominator': 1}, {'symbol': 'BOO in reaper.farm', 'address': '0x08a9A35A70d1AE4D9c1035fc92ab5D278f4B7800', 'decimals': 18, 'numerator': 3, 'denominator': 2}, {'symbol': 'BOO-FTM in reaper.farm', 'address': '0xc653C5128C8D135FF8ad796353128AFf872Ff1bA', 'decimals': 18, 'numerator': 1, 'denominator': 1}, {'symbol': 'xBOO in reaper.farm', 'address': '0xea2F54C34a9f2c56bfEE6bf497A08dA32306aed3', 'decimals': 18, 'numerator': 3, 'denominator': 2}, {'symbol': 'xBOO in reaper.farm', 'address': '0xFC550BAD3c14160CBA7bc05ee263b3F060149AFF', 'decimals': 18, 'numerator': 3, 'denominator': 2}, {'symbol': 'BOO in yearn', 'address': '0x0fBbf9848D969776a5Eb842EdAfAf29ef4467698', 'decimals': 18, 'numerator': 1, 'denominator': 1}, {'symbol': 'BOO/xBOO vAMM LP', 'address': '0x5804F6C40f44cF7593F73cf3aa16F7037213A623', 'decimals': 18, 'numerator': 26, 'denominator': 10}, {'symbol': 'BOO/xBOO staked in SOLIDEX', 'address': '0x60E1e67fd41e86Cf5d19E72CA4fbCA38aA0C52F9', 'decimals': 18, 'numerator': 26, 'denominator': 10}, {'symbol': 'BOO/xBOO staked in Solidly', 'address': '0x9A1f8ADae1A0b79ED1263640Ee78421e9A5c9b68', 'decimals': 18, 'numerator': 26, 'denominator': 10}]}}, {'network': '250', 'params': {'symbol': 'SpookyVotes', 'address': '0xF6D99497d35cdeB5087D080f6bf4C5a63C908230', 'decimals': 18, 'methodABI': {'name': 'getVotes', 'type': 'function', 'inputs': [{'name': '_user', 'type': 'address', 'internalType': 'address'}], 'outputs': [{'name': 'amount', 'type': 'uint256', 'internalType': 'uint256'}], 'stateMutability': 'view'}}}, {'network': '250', 'params': {'pid': 7, 'symbol': 'SpookyVotes in 0xDAO', 'weight': 2, 'chefAddress': '0xa7821C3e9fC1bF961e280510c471031120716c3d', 'uniPairAddress': None}}]                                                                                                                                                                                                                                                                                                                                                                                                                                                                                                                                                                                                                                                                                                                                                                                                                                                                                                                                                                                                                                                                                                                                                                                                                                                                                                                                                                                                                                                                                                                                                                                                                                                                                                                                     1\n",
       "[{'network': '1', 'params': {'symbol': 'RADAR', 'address': '0x44709a920fccf795fbc57baa433cc3dd53c44dbe', 'decimals': 18}}, {'network': '1', 'params': {'symbol': 'RADAR', 'address': '0x44709a920fccf795fbc57baa433cc3dd53c44dbe', 'useStakedBalances': 'true'}}, {'network': '1', 'params': {'symbol': 'RADAR', 'address': '0xc19e6c7b5E98AD23FA6a81c5021b0b79686a8fB8', 'decimals': 18, 'methodABI': {'name': 'lockedBalanceOf', 'type': 'function', 'inputs': [{'name': 'account', 'type': 'address', 'internalType': 'address'}], 'outputs': [{'name': '', 'type': 'uint256', 'internalType': 'uint256'}], 'stateMutability': 'view'}}}]                                                                                                                                                                                                                                                                                                                                                                                                                                                                                                                                                                                                                                                                                                                                                                                                                                                                                                                                                                                                                                                                                                                                                                                                                                                                                                                                                                                                                                                                                                                                                                                                                                                                                                                                                                                                                                                                                                                                                                                                                                                                                                                                                                                                                                                                                                                                                                                                                                                                                                                                                                                                                                                                                                                                                                                                                                                                                                                                                                                                                                                                                                                                                                                                                                                                                                    1\n",
       "Name: strategies, Length: 850, dtype: int64"
      ]
     },
     "execution_count": 13,
     "metadata": {},
     "output_type": "execute_result"
    }
   ],
   "source": [
    "df[\"strategies\"].value_counts()"
   ]
  },
  {
   "cell_type": "code",
   "execution_count": 14,
   "metadata": {},
   "outputs": [
    {
     "data": {
      "text/plain": [
       "1.200000e+01    51\n",
       "1.300000e+01    46\n",
       "1.100000e+01    43\n",
       "1.000000e+01    42\n",
       "1.400000e+01    42\n",
       "                ..\n",
       "7.990863e+05     1\n",
       "4.405783e+05     1\n",
       "1.765608e+05     1\n",
       "8.357407e+05     1\n",
       "6.671855e+06     1\n",
       "Name: scores_total, Length: 19045, dtype: int64"
      ]
     },
     "execution_count": 14,
     "metadata": {},
     "output_type": "execute_result"
    }
   ],
   "source": [
    "df[\"scores_total\"].value_counts()"
   ]
  },
  {
   "cell_type": "code",
   "execution_count": 15,
   "metadata": {},
   "outputs": [
    {
     "data": {
      "text/plain": [
       "[[0], [0]]                                                                                                                                                                                                                                                                                                                                                                                                                                                                                28\n",
       "[[12], [0]]                                                                                                                                                                                                                                                                                                                                                                                                                                                                               13\n",
       "[[761588.5729547191, 328561.1899933141], [0, 0], [2000099.23, 243.37]]                                                                                                                                                                                                                                                                                                                                                                                                                    12\n",
       "[[12], [0], [0]]                                                                                                                                                                                                                                                                                                                                                                                                                                                                          12\n",
       "[[8], [0]]                                                                                                                                                                                                                                                                                                                                                                                                                                                                                11\n",
       "                                                                                                                                                                                                                                                                                                                                                                                                                                                                                          ..\n",
       "[[4, 0, 0, 235, 4, 0], [0, 0, 0, 8, 0, 0]]                                                                                                                                                                                                                                                                                                                                                                                                                                                 1\n",
       "[[3308366.5340767843], [115048.57695947617]]                                                                                                                                                                                                                                                                                                                                                                                                                                               1\n",
       "[[1331447.0202032437, 943524.6488315426, 238899.00700765575, 87771.15888114141, 157711.65771685808, 82214.1463483802, 726924.1803315167, 10032.551241426956], [2192.4693821042188, 5297.609647139735, 2948.408524532028, 83.4839969777672, 2514.243758735252, 3378.6754780230094, 23070.695620406157, 33.95663740363807], [2862.4135143334356, 4404.998260640205, 1890.103092858211, 228.08718701186567, 1981.82012295787, 1303.8511524716916, 22866.85380435947, 43.282819153423944]]     1\n",
       "[[0, 0, 0, 4.334641556554634, 0, 0, 0, 0], [0, 12000, 34000, 4913.021519925864, 153300, 4044131.293083826, 74338, 0], [0, 14000, 8000, 986.8918601940156, 15200, 8465.243009482145, 20, 0]]                                                                                                                                                                                                                                                                                                1\n",
       "[[0, 2000, 8000, 544.6688784253295, 10300, 0, 707, 0], [0, 42000, 90000, 45809.448875802045, 288900, 5008010.688742576, 62112, 0], [0, 6000, 0, 604.1958310006115, 300, 1106567.423410904, 0, 0]]                                                                                                                                                                                                                                                                                          1\n",
       "Name: scores_by_strategy, Length: 20405, dtype: int64"
      ]
     },
     "execution_count": 15,
     "metadata": {},
     "output_type": "execute_result"
    }
   ],
   "source": [
    "df[\"scores_by_strategy\"].value_counts()"
   ]
  },
  {
   "cell_type": "markdown",
   "metadata": {},
   "source": [
    "# 2. Proposal Counts for Each Space"
   ]
  },
  {
   "cell_type": "markdown",
   "metadata": {},
   "source": [
    "### Proposal Counts for Each Space\n",
    "- Total count\n",
    "- Mean\n",
    "- Standard Deviation\n",
    "- Percentile"
   ]
  },
  {
   "cell_type": "code",
   "execution_count": 16,
   "metadata": {},
   "outputs": [
    {
     "data": {
      "text/plain": [
       "count     245.000000\n",
       "mean       84.763265\n",
       "std       194.916231\n",
       "min         1.000000\n",
       "25%        22.000000\n",
       "50%        38.000000\n",
       "75%        78.000000\n",
       "max      2318.000000\n",
       "Name: space_id, dtype: float64"
      ]
     },
     "execution_count": 16,
     "metadata": {},
     "output_type": "execute_result"
    }
   ],
   "source": [
    "space_counts = df['space_id'].value_counts()\n",
    "space_counts.describe()"
   ]
  },
  {
   "cell_type": "code",
   "execution_count": 17,
   "metadata": {},
   "outputs": [
    {
     "name": "stdout",
     "output_type": "stream",
     "text": [
      "Spaces under 5 proposals: (21,)\n",
      "Spaces under 10 proposals: (28,)\n"
     ]
    },
    {
     "data": {
      "text/plain": [
       "poktdao.eth               10\n",
       "concentratordao.eth        9\n",
       "primexyz.eth               9\n",
       "infinex.eth                8\n",
       "btcismylove.eth            7\n",
       "paragonsdao.eth            7\n",
       "pnounsdao.eth              7\n",
       "goopsnapshot.eth           5\n",
       "web3-no1.eth               4\n",
       "meiridi.eth                3\n",
       "rusha.eth                  3\n",
       "babyfive.eth               3\n",
       "dorg.eth                   3\n",
       "digitalriyal.eth           2\n",
       "thehong.eth                2\n",
       "fabien.eth                 2\n",
       "insuretoken.eth            2\n",
       "pozoaxel.eth               1\n",
       "cuchorapido.eth            1\n",
       "01meta.eth                 1\n",
       "xxx.freesubs.eth           1\n",
       "apollodao.eth              1\n",
       "signinhere.eth             1\n",
       "kwenta.eth                 1\n",
       "defjnite.eth               1\n",
       "biteren.eth                1\n",
       "haitang.eth                1\n",
       "lens.changliuchuan.eth     1\n",
       "Name: space_id, dtype: int64"
      ]
     },
     "execution_count": 17,
     "metadata": {},
     "output_type": "execute_result"
    }
   ],
   "source": [
    "print(\"Spaces under 5 proposals:\", space_counts[space_counts <= 5].shape)\n",
    "\n",
    "print(\"Spaces under 10 proposals:\", space_counts[space_counts <= 10].shape)\n",
    "space_counts[space_counts <= 10]"
   ]
  },
  {
   "cell_type": "code",
   "execution_count": 18,
   "metadata": {},
   "outputs": [
    {
     "name": "stdout",
     "output_type": "stream",
     "text": [
      "Spaces under 2 proposals: 15\n"
     ]
    },
    {
     "data": {
      "text/html": [
       "<div>\n",
       "<style scoped>\n",
       "    .dataframe tbody tr th:only-of-type {\n",
       "        vertical-align: middle;\n",
       "    }\n",
       "\n",
       "    .dataframe tbody tr th {\n",
       "        vertical-align: top;\n",
       "    }\n",
       "\n",
       "    .dataframe thead th {\n",
       "        text-align: right;\n",
       "    }\n",
       "</style>\n",
       "<table border=\"1\" class=\"dataframe\">\n",
       "  <thead>\n",
       "    <tr style=\"text-align: right;\">\n",
       "      <th></th>\n",
       "      <th>title</th>\n",
       "      <th>body</th>\n",
       "      <th>space_id</th>\n",
       "    </tr>\n",
       "  </thead>\n",
       "  <tbody>\n",
       "    <tr>\n",
       "      <th>15555</th>\n",
       "      <td>Proposal - Make Polygon a Country</td>\n",
       "      <td>If no one is saying I got a Proposal For you: ...</td>\n",
       "      <td>01meta.eth</td>\n",
       "    </tr>\n",
       "    <tr>\n",
       "      <th>15036</th>\n",
       "      <td>Partnership &amp; Mutual Grant with Gitcoin</td>\n",
       "      <td>Developer DAOs mission is to accelerate the ed...</td>\n",
       "      <td>apollodao.eth</td>\n",
       "    </tr>\n",
       "    <tr>\n",
       "      <th>10627</th>\n",
       "      <td>FROGAGA Lucky Box Airdrops</td>\n",
       "      <td>Upcoming trending NFT series! #FROGAGA Lucky B...</td>\n",
       "      <td>biteren.eth</td>\n",
       "    </tr>\n",
       "    <tr>\n",
       "      <th>16540</th>\n",
       "      <td>Propuesta para sueldo retroactivo de Stovedove</td>\n",
       "      <td>User: Stovedove\\nCantidad: 150,000\\n75%: 112,5...</td>\n",
       "      <td>cuchorapido.eth</td>\n",
       "    </tr>\n",
       "    <tr>\n",
       "      <th>11501</th>\n",
       "      <td>Have you already done Tabi?</td>\n",
       "      <td>According to developers, the funds will be pri...</td>\n",
       "      <td>defjnite.eth</td>\n",
       "    </tr>\n",
       "    <tr>\n",
       "      <th>12980</th>\n",
       "      <td>Launch quests | $ZK</td>\n",
       "      <td>Perform simple tasks and wait for drop $ZK tok...</td>\n",
       "      <td>digitalriyal.eth</td>\n",
       "    </tr>\n",
       "    <tr>\n",
       "      <th>19531</th>\n",
       "      <td>Topaz  Aptos  AIRDR0P APT</td>\n",
       "      <td>The long-awaited drop from Topaz.\\nTo particip...</td>\n",
       "      <td>digitalriyal.eth</td>\n",
       "    </tr>\n",
       "    <tr>\n",
       "      <th>19368</th>\n",
       "      <td>This is a long title this is a long title this...</td>\n",
       "      <td>This is a long title this is a long title this...</td>\n",
       "      <td>fabien.eth</td>\n",
       "    </tr>\n",
       "    <tr>\n",
       "      <th>18734</th>\n",
       "      <td>Snapshot Hackathon #1</td>\n",
       "      <td>Weight rank the projects you like\\n*\\n# Treasu...</td>\n",
       "      <td>fabien.eth</td>\n",
       "    </tr>\n",
       "    <tr>\n",
       "      <th>4189</th>\n",
       "      <td>[Phase 2] HIP-54: Airdrop to Democratic Heroes</td>\n",
       "      <td>Modify the term of office of the elected Missi...</td>\n",
       "      <td>haitang.eth</td>\n",
       "    </tr>\n",
       "    <tr>\n",
       "      <th>8441</th>\n",
       "      <td>Community Growth Incentive Programs - Reimburs...</td>\n",
       "      <td>In order to drive the natural growth of our co...</td>\n",
       "      <td>insuretoken.eth</td>\n",
       "    </tr>\n",
       "    <tr>\n",
       "      <th>4922</th>\n",
       "      <td>[Transitioning to Contribution Phase]</td>\n",
       "      <td>[Different Phases]:\\ninSure DeFi has been crea...</td>\n",
       "      <td>insuretoken.eth</td>\n",
       "    </tr>\n",
       "    <tr>\n",
       "      <th>12834</th>\n",
       "      <td>KIP-123: Launch $KSX (Community Temp Check)</td>\n",
       "      <td># Simple Summary\\nThis KIP introduces the $KSX...</td>\n",
       "      <td>kwenta.eth</td>\n",
       "    </tr>\n",
       "    <tr>\n",
       "      <th>20751</th>\n",
       "      <td>You need to be a core member of the space in o...</td>\n",
       "      <td>You need to be a core member of the space in o...</td>\n",
       "      <td>lens.changliuchuan.eth</td>\n",
       "    </tr>\n",
       "    <tr>\n",
       "      <th>18496</th>\n",
       "      <td>Should ZkSync use Gitcoin Passport as a requir...</td>\n",
       "      <td>The Gitcoin Passport is an excellent way to pr...</td>\n",
       "      <td>pozoaxel.eth</td>\n",
       "    </tr>\n",
       "    <tr>\n",
       "      <th>14544</th>\n",
       "      <td>Official AIRDROP | ZkSync x Polygon</td>\n",
       "      <td>Official AIRDROP | ZkSync x Polygon\\nMint NFT ...</td>\n",
       "      <td>signinhere.eth</td>\n",
       "    </tr>\n",
       "    <tr>\n",
       "      <th>4205</th>\n",
       "      <td>[Phase 3] HIP-56 - Length of stay of the Missi...</td>\n",
       "      <td>Proof of Humanity was born as a 1p1v DAO witho...</td>\n",
       "      <td>thehong.eth</td>\n",
       "    </tr>\n",
       "    <tr>\n",
       "      <th>4193</th>\n",
       "      <td>[Phase 2] HIP-75: Remove the Mission Board Mem...</td>\n",
       "      <td>This HIP aims to remove the figure of Mission ...</td>\n",
       "      <td>thehong.eth</td>\n",
       "    </tr>\n",
       "    <tr>\n",
       "      <th>6594</th>\n",
       "      <td>Aleo Network Development Priorities</td>\n",
       "      <td>This vote is designed to engage the Aleo commu...</td>\n",
       "      <td>xxx.freesubs.eth</td>\n",
       "    </tr>\n",
       "  </tbody>\n",
       "</table>\n",
       "</div>"
      ],
      "text/plain": [
       "                                                   title  \\\n",
       "15555                  Proposal - Make Polygon a Country   \n",
       "15036            Partnership & Mutual Grant with Gitcoin   \n",
       "10627                         FROGAGA Lucky Box Airdrops   \n",
       "16540     Propuesta para sueldo retroactivo de Stovedove   \n",
       "11501                        Have you already done Tabi?   \n",
       "12980                               Launch quests | $ZK    \n",
       "19531                          Topaz  Aptos  AIRDR0P APT   \n",
       "19368  This is a long title this is a long title this...   \n",
       "18734                              Snapshot Hackathon #1   \n",
       "4189      [Phase 2] HIP-54: Airdrop to Democratic Heroes   \n",
       "8441   Community Growth Incentive Programs - Reimburs...   \n",
       "4922               [Transitioning to Contribution Phase]   \n",
       "12834        KIP-123: Launch $KSX (Community Temp Check)   \n",
       "20751  You need to be a core member of the space in o...   \n",
       "18496  Should ZkSync use Gitcoin Passport as a requir...   \n",
       "14544                Official AIRDROP | ZkSync x Polygon   \n",
       "4205   [Phase 3] HIP-56 - Length of stay of the Missi...   \n",
       "4193   [Phase 2] HIP-75: Remove the Mission Board Mem...   \n",
       "6594                 Aleo Network Development Priorities   \n",
       "\n",
       "                                                    body  \\\n",
       "15555  If no one is saying I got a Proposal For you: ...   \n",
       "15036  Developer DAOs mission is to accelerate the ed...   \n",
       "10627  Upcoming trending NFT series! #FROGAGA Lucky B...   \n",
       "16540  User: Stovedove\\nCantidad: 150,000\\n75%: 112,5...   \n",
       "11501  According to developers, the funds will be pri...   \n",
       "12980  Perform simple tasks and wait for drop $ZK tok...   \n",
       "19531  The long-awaited drop from Topaz.\\nTo particip...   \n",
       "19368  This is a long title this is a long title this...   \n",
       "18734  Weight rank the projects you like\\n*\\n# Treasu...   \n",
       "4189   Modify the term of office of the elected Missi...   \n",
       "8441   In order to drive the natural growth of our co...   \n",
       "4922   [Different Phases]:\\ninSure DeFi has been crea...   \n",
       "12834  # Simple Summary\\nThis KIP introduces the $KSX...   \n",
       "20751  You need to be a core member of the space in o...   \n",
       "18496  The Gitcoin Passport is an excellent way to pr...   \n",
       "14544  Official AIRDROP | ZkSync x Polygon\\nMint NFT ...   \n",
       "4205   Proof of Humanity was born as a 1p1v DAO witho...   \n",
       "4193   This HIP aims to remove the figure of Mission ...   \n",
       "6594   This vote is designed to engage the Aleo commu...   \n",
       "\n",
       "                     space_id  \n",
       "15555              01meta.eth  \n",
       "15036           apollodao.eth  \n",
       "10627             biteren.eth  \n",
       "16540         cuchorapido.eth  \n",
       "11501            defjnite.eth  \n",
       "12980        digitalriyal.eth  \n",
       "19531        digitalriyal.eth  \n",
       "19368              fabien.eth  \n",
       "18734              fabien.eth  \n",
       "4189              haitang.eth  \n",
       "8441          insuretoken.eth  \n",
       "4922          insuretoken.eth  \n",
       "12834              kwenta.eth  \n",
       "20751  lens.changliuchuan.eth  \n",
       "18496            pozoaxel.eth  \n",
       "14544          signinhere.eth  \n",
       "4205              thehong.eth  \n",
       "4193              thehong.eth  \n",
       "6594         xxx.freesubs.eth  "
      ]
     },
     "execution_count": 18,
     "metadata": {},
     "output_type": "execute_result"
    }
   ],
   "source": [
    "temp = space_counts[space_counts <= 2].index.tolist()\n",
    "\n",
    "print(\"Spaces under 2 proposals:\", len(temp))\n",
    "\n",
    "df[df[\"space_id\"].isin(temp)][[\"title\", \"body\", \"space_id\"]].sort_values(by=\"space_id\")"
   ]
  },
  {
   "cell_type": "code",
   "execution_count": 19,
   "metadata": {},
   "outputs": [
    {
     "data": {
      "image/png": "[encoded data removed]",
      "text/plain": [
       "<Figure size 1200x800 with 1 Axes>"
      ]
     },
     "metadata": {},
     "output_type": "display_data"
    }
   ],
   "source": [
    "log_space_counts = np.log10(space_counts)\n",
    "\n",
    "plt.figure(figsize=(12, 8))\n",
    "log_space_counts.plot(kind='bar', color='lightblue')\n",
    "plt.xlabel('Space ID')\n",
    "plt.ylabel('Log10 of the Count of Proposals')\n",
    "plt.title('Log10 of the Number of Proposals per Space',\n",
    "          pad=20, fontsize=16)\n",
    "plt.xticks([], [])  # Remove x-axis ticks\n",
    "plt.show()"
   ]
  },
  {
   "cell_type": "markdown",
   "metadata": {},
   "source": [
    "### Number of Followers, Proposals, and Votes for Each Space \n",
    "- Proposal count and vote count in this section are the number ***before preprocessing deletion***"
   ]
  },
  {
   "cell_type": "code",
   "execution_count": 20,
   "metadata": {},
   "outputs": [
    {
     "name": "stdout",
     "output_type": "stream",
     "text": [
      "(245, 47)\n"
     ]
    },
    {
     "data": {
      "text/plain": [
       "<matplotlib.legend.Legend at 0x17cffa69ff0>"
      ]
     },
     "execution_count": 20,
     "metadata": {},
     "output_type": "execute_result"
    },
    {
     "data": {
      "image/png": "[encoded data removed]",
      "text/plain": [
       "<Figure size 640x480 with 1 Axes>"
      ]
     },
     "metadata": {},
     "output_type": "display_data"
    }
   ],
   "source": [
    "df_space = pd.read_excel('spaces_cut.xlsx')\n",
    "df_space = df_space[df_space['id'].isin(space_counts.index)]\n",
    "print(df_space.shape)\n",
    "\n",
    "plt.hist(df_space['followersCount'].apply(np.log), label=\"followersCount\", alpha=0.5, bins=30)\n",
    "plt.hist(df_space['proposalsCount'].apply(np.log), label=\"proposalsCount\", alpha=0.5, bins=30)\n",
    "plt.hist(df_space['votesCount'].apply(np.log), label=\"votesCount\", alpha=0.5, bins=30)\n",
    "plt.xlabel('Log10 of the Count')\n",
    "plt.ylabel('Frequency')\n",
    "plt.title('Log10 of the Number of Followers, Proposals, and Votes for Each Space ',\n",
    "          pad=20, fontsize=16)\n",
    "plt.legend()"
   ]
  },
  {
   "cell_type": "code",
   "execution_count": 21,
   "metadata": {},
   "outputs": [
    {
     "data": {
      "text/html": [
       "<div>\n",
       "<style scoped>\n",
       "    .dataframe tbody tr th:only-of-type {\n",
       "        vertical-align: middle;\n",
       "    }\n",
       "\n",
       "    .dataframe tbody tr th {\n",
       "        vertical-align: top;\n",
       "    }\n",
       "\n",
       "    .dataframe thead th {\n",
       "        text-align: right;\n",
       "    }\n",
       "</style>\n",
       "<table border=\"1\" class=\"dataframe\">\n",
       "  <thead>\n",
       "    <tr style=\"text-align: right;\">\n",
       "      <th></th>\n",
       "      <th>followersCount</th>\n",
       "      <th>proposalsCount</th>\n",
       "      <th>votesCount</th>\n",
       "    </tr>\n",
       "  </thead>\n",
       "  <tbody>\n",
       "    <tr>\n",
       "      <th>count</th>\n",
       "      <td>245.000000</td>\n",
       "      <td>245.000000</td>\n",
       "      <td>2.450000e+02</td>\n",
       "    </tr>\n",
       "    <tr>\n",
       "      <th>mean</th>\n",
       "      <td>12399.938776</td>\n",
       "      <td>152.853061</td>\n",
       "      <td>1.293534e+05</td>\n",
       "    </tr>\n",
       "    <tr>\n",
       "      <th>std</th>\n",
       "      <td>65209.787856</td>\n",
       "      <td>333.606993</td>\n",
       "      <td>1.209157e+06</td>\n",
       "    </tr>\n",
       "    <tr>\n",
       "      <th>min</th>\n",
       "      <td>102.000000</td>\n",
       "      <td>21.000000</td>\n",
       "      <td>2.130000e+02</td>\n",
       "    </tr>\n",
       "    <tr>\n",
       "      <th>25%</th>\n",
       "      <td>243.000000</td>\n",
       "      <td>36.000000</td>\n",
       "      <td>1.501000e+03</td>\n",
       "    </tr>\n",
       "    <tr>\n",
       "      <th>50%</th>\n",
       "      <td>652.000000</td>\n",
       "      <td>66.000000</td>\n",
       "      <td>3.471000e+03</td>\n",
       "    </tr>\n",
       "    <tr>\n",
       "      <th>75%</th>\n",
       "      <td>2797.000000</td>\n",
       "      <td>119.000000</td>\n",
       "      <td>1.224000e+04</td>\n",
       "    </tr>\n",
       "    <tr>\n",
       "      <th>max</th>\n",
       "      <td>917335.000000</td>\n",
       "      <td>3725.000000</td>\n",
       "      <td>1.794336e+07</td>\n",
       "    </tr>\n",
       "  </tbody>\n",
       "</table>\n",
       "</div>"
      ],
      "text/plain": [
       "       followersCount  proposalsCount    votesCount\n",
       "count      245.000000      245.000000  2.450000e+02\n",
       "mean     12399.938776      152.853061  1.293534e+05\n",
       "std      65209.787856      333.606993  1.209157e+06\n",
       "min        102.000000       21.000000  2.130000e+02\n",
       "25%        243.000000       36.000000  1.501000e+03\n",
       "50%        652.000000       66.000000  3.471000e+03\n",
       "75%       2797.000000      119.000000  1.224000e+04\n",
       "max     917335.000000     3725.000000  1.794336e+07"
      ]
     },
     "execution_count": 21,
     "metadata": {},
     "output_type": "execute_result"
    }
   ],
   "source": [
    "df_space[['followersCount', 'proposalsCount', 'votesCount']].describe()"
   ]
  },
  {
   "cell_type": "markdown",
   "metadata": {},
   "source": [
    "# 3. Total votes by spaces"
   ]
  },
  {
   "cell_type": "markdown",
   "metadata": {},
   "source": [
    "### Aggregate Vote Counts per Space"
   ]
  },
  {
   "cell_type": "code",
   "execution_count": 22,
   "metadata": {},
   "outputs": [
    {
     "data": {
      "text/plain": [
       "count         2.450000\n",
       "mean       1262.667061\n",
       "std       11997.817455\n",
       "min           0.120000\n",
       "25%           8.360000\n",
       "50%          27.100000\n",
       "75%         110.720000\n",
       "max      177959.240000\n",
       "Name: votes, dtype: float64"
      ]
     },
     "execution_count": 22,
     "metadata": {},
     "output_type": "execute_result"
    }
   ],
   "source": [
    "space_votes = df.groupby('space_id')['votes'].sum()\n",
    "space_votes.describe() / 100 # divide by 100 due to the large numbers"
   ]
  },
  {
   "cell_type": "code",
   "execution_count": 23,
   "metadata": {},
   "outputs": [
    {
     "data": {
      "text/plain": [
       "space_id\n",
       "stgdao.eth                17795924\n",
       "arbitrumfoundation.eth     5289055\n",
       "aave.eth                   3103339\n",
       "cakevote.eth                431105\n",
       "aavegotchi.eth              396567\n",
       "gmx.eth                     305324\n",
       "uniswapgovernance.eth       275334\n",
       "metislayer2.eth             242481\n",
       "speraxdao.eth               202107\n",
       "gitcoindao.eth              180367\n",
       "Name: votes, dtype: int64"
      ]
     },
     "execution_count": 23,
     "metadata": {},
     "output_type": "execute_result"
    }
   ],
   "source": [
    "space_votes.sort_values(ascending=False).head(10)"
   ]
  },
  {
   "cell_type": "markdown",
   "metadata": {},
   "source": [
    "### Rankings: Top 5 and Bottom 5 by Total Votes"
   ]
  },
  {
   "cell_type": "code",
   "execution_count": 24,
   "metadata": {},
   "outputs": [
    {
     "name": "stdout",
     "output_type": "stream",
     "text": [
      "<Top 5>\n",
      "space_id\n",
      "stgdao.eth                1\n",
      "arbitrumfoundation.eth    2\n",
      "aave.eth                  3\n",
      "cakevote.eth              4\n",
      "aavegotchi.eth            5\n",
      "Name: votes, dtype: int32\n",
      "\n",
      "<Bottom 5>\n",
      "space_id\n",
      "insuretoken.eth     241\n",
      "thehong.eth         242\n",
      "xxx.freesubs.eth    243\n",
      "haitang.eth         244\n",
      "01meta.eth          245\n",
      "Name: votes, dtype: int32\n"
     ]
    }
   ],
   "source": [
    "space_votes_rank = space_votes.rank(method='first', ascending=False).astype(int).sort_values(ascending=True)\n",
    "print(\"<Top 5>\")\n",
    "print(space_votes_rank[:5])\n",
    "print()\n",
    "print(\"<Bottom 5>\")\n",
    "print(space_votes_rank[-5:])"
   ]
  },
  {
   "cell_type": "markdown",
   "metadata": {},
   "source": [
    "# 4. Proposal Dates"
   ]
  },
  {
   "cell_type": "markdown",
   "metadata": {},
   "source": [
    "### Number of Proposals per Month - [\"start\", \"end\", \"created\"]\n",
    "- start: proposal start date\n",
    "- end: proposal end date\n",
    "- created: proposal created date"
   ]
  },
  {
   "cell_type": "code",
   "execution_count": 25,
   "metadata": {},
   "outputs": [
    {
     "data": {
      "image/png": "[encoded data removed]",
      "text/plain": [
       "<Figure size 1200x800 with 3 Axes>"
      ]
     },
     "metadata": {},
     "output_type": "display_data"
    }
   ],
   "source": [
    "# First, convert the 'start' column to datetime if it's not already\n",
    "df['start'] = pd.to_datetime(df['start'])\n",
    "df['end'] = pd.to_datetime(df['end'])\n",
    "df['created'] = pd.to_datetime(df['created'])\n",
    "\n",
    "# Extract the month and year from the 'start' column\n",
    "df['year_month_start'] = df['start'].dt.to_period('M')\n",
    "df['year_month_end'] = df['end'].dt.to_period('M')\n",
    "df['year_month_created'] = df['created'].dt.to_period('M')\n",
    "\n",
    "# Now count the number of occurrences per month\n",
    "monthly_counts_start = df['year_month_start'].value_counts().sort_index()\n",
    "monthly_counts_end = df['year_month_end'].value_counts().sort_index()\n",
    "monthly_counts_created = df['year_month_created'].value_counts().sort_index()\n",
    "\n",
    "# Plotting the histogram with less crowded x-axis labels\n",
    "plt.figure(figsize=(12, 8))\n",
    "\n",
    "# First subplot for 'start'\n",
    "plt.subplot(3, 1, 1)\n",
    "monthly_counts_start.plot(kind='bar', color='skyblue', alpha=0.7)\n",
    "plt.xlabel('Month')\n",
    "plt.ylabel('Count of Proposals')\n",
    "plt.title('Number of Proposals per Month - Start', pad=20, fontsize=16)\n",
    "\n",
    "# Second subplot for 'end'\n",
    "plt.subplot(3, 1, 2)\n",
    "monthly_counts_end.plot(kind='bar', color='lightgreen', alpha=0.7)\n",
    "plt.xlabel('Month')\n",
    "plt.ylabel('Count of Proposals')\n",
    "plt.title('Number of Proposals per Month - End', pad=20, fontsize=16)\n",
    "\n",
    "# Third subplot for 'created'\n",
    "plt.subplot(3, 1, 3)\n",
    "monthly_counts_created.plot(kind='bar', color='coral', alpha=0.7)\n",
    "plt.xlabel('Month')\n",
    "plt.ylabel('Count of Proposals')\n",
    "plt.title('The Number of Proposals per Month - Created', pad=20, fontsize=16)\n",
    "\n",
    "plt.tight_layout()\n",
    "plt.show()"
   ]
  },
  {
   "cell_type": "markdown",
   "metadata": {},
   "source": [
    "### Duration of Proposal \n",
    "- Unit: Hour"
   ]
  },
  {
   "cell_type": "code",
   "execution_count": 26,
   "metadata": {},
   "outputs": [
    {
     "data": {
      "text/plain": [
       "count     20767.000000\n",
       "mean        185.428421\n",
       "std        1365.078343\n",
       "min           0.359722\n",
       "25%          72.000000\n",
       "50%          96.514722\n",
       "75%         168.000000\n",
       "max      176653.250000\n",
       "Name: duration, dtype: float64"
      ]
     },
     "execution_count": 26,
     "metadata": {},
     "output_type": "execute_result"
    }
   ],
   "source": [
    "# Calculate the duration for each proposal\n",
    "df['duration'] = (df['end'] - df['start']).dt.total_seconds() / 3600  # Convert to hours\n",
    "df[\"duration\"].describe()"
   ]
  },
  {
   "cell_type": "markdown",
   "metadata": {},
   "source": [
    "Remove the top and bottom 5% of the duration values"
   ]
  },
  {
   "cell_type": "code",
   "execution_count": 27,
   "metadata": {},
   "outputs": [
    {
     "data": {
      "text/plain": [
       "count    18202.000000\n",
       "mean       112.794814\n",
       "std         52.561070\n",
       "min         37.498611\n",
       "25%         72.000000\n",
       "50%         96.000000\n",
       "75%        167.962431\n",
       "max        335.995833\n",
       "Name: duration, dtype: float64"
      ]
     },
     "execution_count": 27,
     "metadata": {},
     "output_type": "execute_result"
    }
   ],
   "source": [
    "top = df[\"duration\"].quantile(0.95)\n",
    "bottom = df[\"duration\"].quantile(0.05)\n",
    "simple_duration = df[(df[\"duration\"] > bottom) & (df[\"duration\"] < top)][\"duration\"]\n",
    "simple_duration.describe()"
   ]
  },
  {
   "cell_type": "code",
   "execution_count": 28,
   "metadata": {},
   "outputs": [
    {
     "data": {
      "image/png": "[encoded data removed]",
      "text/plain": [
       "<Figure size 1200x600 with 1 Axes>"
      ]
     },
     "metadata": {},
     "output_type": "display_data"
    }
   ],
   "source": [
    "plt.figure(figsize=(12, 6))\n",
    "plt.hist(simple_duration, bins=150, color='skyblue', edgecolor='black',)\n",
    "plt.xlabel('Duration (Hours)')\n",
    "plt.ylabel('Number of Proposals')\n",
    "plt.title('Distribution of Proposal Durations after Removing Outliers (5% on Each Side)',\n",
    "            pad=20, fontsize=16)\n",
    "plt.show()"
   ]
  }
 ],
 "metadata": {
  "kernelspec": {
   "display_name": "Python 3",
   "language": "python",
   "name": "python3"
  },
  "language_info": {
   "codemirror_mode": {
    "name": "ipython",
    "version": 3
   },
   "file_extension": ".py",
   "mimetype": "text/x-python",
   "name": "python",
   "nbconvert_exporter": "python",
   "pygments_lexer": "ipython3",
   "version": "3.10.5"
  }
 },
 "nbformat": 4,
 "nbformat_minor": 2
}
