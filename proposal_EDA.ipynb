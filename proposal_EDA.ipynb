{
 "cells": [
  {
   "cell_type": "code",
   "execution_count": 1,
   "metadata": {},
   "outputs": [],
   "source": [
    "import pandas as pd\n",
    "import numpy as np\n",
    "import matplotlib.pyplot as plt\n",
    "\n",
    "df = pd.read_excel('../proposals_preprocess_0812.xlsx')"
   ]
  },
  {
   "cell_type": "markdown",
   "metadata": {},
   "source": [
    "# 1. Intro: Simple Statistics of Proposal Dataset"
   ]
  },
  {
   "cell_type": "markdown",
   "metadata": {},
   "source": [
    "- Total rows: 20918\n",
    "- Columns"
   ]
  },
  {
   "cell_type": "code",
   "execution_count": 2,
   "metadata": {},
   "outputs": [
    {
     "data": {
      "text/plain": [
       "((20918, 37),\n",
       " Index(['id', 'end', 'app', 'ipfs', 'type', 'body', 'link', 'title', 'start',\n",
       "        'state', 'votes', 'author', 'symbol', 'quorum', 'scores', 'created',\n",
       "        'updated', 'network', 'plugins', 'choices', 'privacy', 'flagged',\n",
       "        'snapshot', 'strategies', 'validation', 'discussion', 'quorumType',\n",
       "        '__typename', 'scores_state', 'scores_total', 'scores_updated',\n",
       "        'scores_by_strategy', 'space_id', 'lang', 'Class A', 'Class B',\n",
       "        'Class C'],\n",
       "       dtype='object'))"
      ]
     },
     "execution_count": 2,
     "metadata": {},
     "output_type": "execute_result"
    }
   ],
   "source": [
    "df.shape, df.columns"
   ]
  },
  {
   "cell_type": "markdown",
   "metadata": {},
   "source": [
    "### Columns Containing NaN Values"
   ]
  },
  {
   "cell_type": "code",
   "execution_count": 3,
   "metadata": {},
   "outputs": [
    {
     "name": "stdout",
     "output_type": "stream",
     "text": [
      "app 8767\n",
      "title 6\n",
      "symbol 5037\n",
      "updated 20731\n",
      "privacy 20287\n",
      "discussion 13466\n",
      "scores_state 9\n"
     ]
    }
   ],
   "source": [
    "for c in df.columns[:-3]:\n",
    "    x = df[c].isna().sum()\n",
    "    if x > 0:\n",
    "        print(c, x)"
   ]
  },
  {
   "cell_type": "markdown",
   "metadata": {},
   "source": [
    "### Columns That Are Nearly Empty"
   ]
  },
  {
   "cell_type": "code",
   "execution_count": 4,
   "metadata": {},
   "outputs": [
    {
     "name": "stdout",
     "output_type": "stream",
     "text": [
      "plugins {} 20596\n",
      "\n",
      "validation {'params': {}} 20601\n",
      "\n",
      "quorum 0.0 16085\n",
      "\n"
     ]
    }
   ],
   "source": [
    "for c in [\"plugins\", \"validation\", \"quorum\"]:\n",
    "    temp = df[c].value_counts() \n",
    "    print(c, temp.index[0], temp[0])\n",
    "    print()"
   ]
  },
  {
   "cell_type": "markdown",
   "metadata": {},
   "source": [
    "### Sample data"
   ]
  },
  {
   "cell_type": "code",
   "execution_count": 5,
   "metadata": {},
   "outputs": [
    {
     "data": {
      "text/plain": [
       "id                       QmRzgJ9aVQ8xRjduZJiXUiuVjFCNGmYkpksrr1oJDsbhW6\n",
       "end                                                 2020-09-24 21:00:00\n",
       "app                                                                 NaN\n",
       "ipfs                     QmRzgJ9aVQ8xRjduZJiXUiuVjFCNGmYkpksrr1oJDsbhW6\n",
       "type                                                      single-choice\n",
       "body                  I would like to propose the immortalization of...\n",
       "link                  https://snapshot.org/#/aavegotchi.eth/proposal...\n",
       "title                                    Immortalize Community Champion\n",
       "start                                               2020-09-17 11:40:00\n",
       "state                                                            closed\n",
       "votes                                                                14\n",
       "author                       0xDA5b2cd0d0Bb26E79FB3210233dDABdB7de131C9\n",
       "symbol                                                              NaN\n",
       "quorum                                                              0.0\n",
       "scores                       [93.83155905318044, 0, 134.78372990920667]\n",
       "created                                             2020-09-18 03:48:05\n",
       "updated                                                             NaN\n",
       "network                                                             137\n",
       "plugins                                                              {}\n",
       "choices                                         ['Yes', 'yerp', 'yeet']\n",
       "privacy                                                             NaN\n",
       "flagged                                                           False\n",
       "snapshot                                                      109257480\n",
       "strategies            [{'network': '137', 'params': {'symbol': 'GHST...\n",
       "validation                                               {'params': {}}\n",
       "discussion                                                          NaN\n",
       "quorumType                                                      default\n",
       "__typename                                                     Proposal\n",
       "scores_state                                                      final\n",
       "scores_total                                                 228.615289\n",
       "scores_updated                                               1704798511\n",
       "scores_by_strategy    [[35.36902093069, 58.46253812249043], [0, 0], ...\n",
       "space_id                                                 aavegotchi.eth\n",
       "lang                                                                 en\n",
       "Class A                                                             NaN\n",
       "Class B                                                             NaN\n",
       "Class C                                                             NaN\n",
       "Name: 100, dtype: object"
      ]
     },
     "execution_count": 5,
     "metadata": {},
     "output_type": "execute_result"
    }
   ],
   "source": [
    "df.iloc[100]"
   ]
  },
  {
   "cell_type": "code",
   "execution_count": 6,
   "metadata": {},
   "outputs": [
    {
     "data": {
      "text/html": [
       "<div>\n",
       "<style scoped>\n",
       "    .dataframe tbody tr th:only-of-type {\n",
       "        vertical-align: middle;\n",
       "    }\n",
       "\n",
       "    .dataframe tbody tr th {\n",
       "        vertical-align: top;\n",
       "    }\n",
       "\n",
       "    .dataframe thead th {\n",
       "        text-align: right;\n",
       "    }\n",
       "</style>\n",
       "<table border=\"1\" class=\"dataframe\">\n",
       "  <thead>\n",
       "    <tr style=\"text-align: right;\">\n",
       "      <th></th>\n",
       "      <th>id</th>\n",
       "      <th>end</th>\n",
       "      <th>app</th>\n",
       "      <th>ipfs</th>\n",
       "      <th>type</th>\n",
       "      <th>body</th>\n",
       "      <th>link</th>\n",
       "      <th>title</th>\n",
       "      <th>start</th>\n",
       "      <th>state</th>\n",
       "      <th>...</th>\n",
       "      <th>__typename</th>\n",
       "      <th>scores_state</th>\n",
       "      <th>scores_total</th>\n",
       "      <th>scores_updated</th>\n",
       "      <th>scores_by_strategy</th>\n",
       "      <th>space_id</th>\n",
       "      <th>lang</th>\n",
       "      <th>Class A</th>\n",
       "      <th>Class B</th>\n",
       "      <th>Class C</th>\n",
       "    </tr>\n",
       "  </thead>\n",
       "  <tbody>\n",
       "    <tr>\n",
       "      <th>0</th>\n",
       "      <td>QmSXpyHBrkjzjmGpdYxKvYoRAMvdJNp7rrnyvJqTdtpayZ</td>\n",
       "      <td>2020-07-20 01:00:00</td>\n",
       "      <td>NaN</td>\n",
       "      <td>QmSXpyHBrkjzjmGpdYxKvYoRAMvdJNp7rrnyvJqTdtpayZ</td>\n",
       "      <td>single-choice</td>\n",
       "      <td>Read the formatted version of this proposal at...</td>\n",
       "      <td>https://snapshot.org/#/balancer.eth/proposal/Q...</td>\n",
       "      <td>balFactor: incentivizing BAL liquidity on Bala...</td>\n",
       "      <td>2020-07-19 01:00:00</td>\n",
       "      <td>closed</td>\n",
       "      <td>...</td>\n",
       "      <td>Proposal</td>\n",
       "      <td>final</td>\n",
       "      <td>301890.797262</td>\n",
       "      <td>1636666475</td>\n",
       "      <td>[[297407.78291458864, 4306.498731651296, 0], [...</td>\n",
       "      <td>balancer.eth</td>\n",
       "      <td>en</td>\n",
       "      <td>NaN</td>\n",
       "      <td>NaN</td>\n",
       "      <td>NaN</td>\n",
       "    </tr>\n",
       "    <tr>\n",
       "      <th>1</th>\n",
       "      <td>QmXYVj4GBu16GfuTLouxQSvbB8w3G2EAvYq9TAxX38ruKb</td>\n",
       "      <td>2020-07-20 01:00:00</td>\n",
       "      <td>NaN</td>\n",
       "      <td>QmXYVj4GBu16GfuTLouxQSvbB8w3G2EAvYq9TAxX38ruKb</td>\n",
       "      <td>single-choice</td>\n",
       "      <td>Read the formatted version of this proposal at...</td>\n",
       "      <td>https://snapshot.org/#/balancer.eth/proposal/Q...</td>\n",
       "      <td>Modifying feeFactor: toward reducing the minin...</td>\n",
       "      <td>2020-07-19 01:00:00</td>\n",
       "      <td>closed</td>\n",
       "      <td>...</td>\n",
       "      <td>Proposal</td>\n",
       "      <td>final</td>\n",
       "      <td>250818.946655</td>\n",
       "      <td>1636666543</td>\n",
       "      <td>[[247042.11576416524, 3767.59570725957, 0], [9...</td>\n",
       "      <td>balancer.eth</td>\n",
       "      <td>en</td>\n",
       "      <td>NaN</td>\n",
       "      <td>NaN</td>\n",
       "      <td>NaN</td>\n",
       "    </tr>\n",
       "    <tr>\n",
       "      <th>2</th>\n",
       "      <td>QmboDWvsXYXPZb44arPVoMa3LHuv74YsGZ3cSoG6uj4oZe</td>\n",
       "      <td>2020-07-20 01:00:00</td>\n",
       "      <td>NaN</td>\n",
       "      <td>QmboDWvsXYXPZb44arPVoMa3LHuv74YsGZ3cSoG6uj4oZe</td>\n",
       "      <td>single-choice</td>\n",
       "      <td>Read the formatted version of this proposal at...</td>\n",
       "      <td>https://snapshot.org/#/balancer.eth/proposal/Q...</td>\n",
       "      <td>Modifying wrapFactor: applying a 0.7 factor to...</td>\n",
       "      <td>2020-07-19 01:00:00</td>\n",
       "      <td>closed</td>\n",
       "      <td>...</td>\n",
       "      <td>Proposal</td>\n",
       "      <td>final</td>\n",
       "      <td>296856.624307</td>\n",
       "      <td>1636666548</td>\n",
       "      <td>[[281362.73565358046, 3153.664203614811, 0], [...</td>\n",
       "      <td>balancer.eth</td>\n",
       "      <td>en</td>\n",
       "      <td>NaN</td>\n",
       "      <td>NaN</td>\n",
       "      <td>NaN</td>\n",
       "    </tr>\n",
       "    <tr>\n",
       "      <th>3</th>\n",
       "      <td>QmeWmvdFCTq5tnFHqgFmAVJDCccTYjg1zWb9cfUByg7zbz</td>\n",
       "      <td>2020-07-29 01:00:00</td>\n",
       "      <td>NaN</td>\n",
       "      <td>QmeWmvdFCTq5tnFHqgFmAVJDCccTYjg1zWb9cfUByg7zbz</td>\n",
       "      <td>single-choice</td>\n",
       "      <td>[This proposal is also on Balancer's forum.](\\...</td>\n",
       "      <td>https://snapshot.org/#/balancer.eth/proposal/Q...</td>\n",
       "      <td>First batch of grants from Balancer Ecosystem ...</td>\n",
       "      <td>2020-07-28 01:00:00</td>\n",
       "      <td>closed</td>\n",
       "      <td>...</td>\n",
       "      <td>Proposal</td>\n",
       "      <td>final</td>\n",
       "      <td>129011.648708</td>\n",
       "      <td>1636666857</td>\n",
       "      <td>[[70361.16645469955, 58640.079706512006, 0], [...</td>\n",
       "      <td>balancer.eth</td>\n",
       "      <td>en</td>\n",
       "      <td>NaN</td>\n",
       "      <td>NaN</td>\n",
       "      <td>NaN</td>\n",
       "    </tr>\n",
       "    <tr>\n",
       "      <th>4</th>\n",
       "      <td>QmUadcUgd3jAhJbofgrnKNMfeuGFvMmybhCkttW4gGfYYJ</td>\n",
       "      <td>2020-08-03 01:00:00</td>\n",
       "      <td>NaN</td>\n",
       "      <td>QmUadcUgd3jAhJbofgrnKNMfeuGFvMmybhCkttW4gGfYYJ</td>\n",
       "      <td>single-choice</td>\n",
       "      <td>[This proposal has been posted by user 5325235...</td>\n",
       "      <td>https://snapshot.org/#/balancer.eth/proposal/Q...</td>\n",
       "      <td>Modifying wrapFactor: applying a 0.2 factor to...</td>\n",
       "      <td>2020-08-02 01:00:00</td>\n",
       "      <td>closed</td>\n",
       "      <td>...</td>\n",
       "      <td>Proposal</td>\n",
       "      <td>final</td>\n",
       "      <td>349071.151033</td>\n",
       "      <td>1636666863</td>\n",
       "      <td>[[180634.79301153703, 147781.31511566267, 0], ...</td>\n",
       "      <td>balancer.eth</td>\n",
       "      <td>en</td>\n",
       "      <td>NaN</td>\n",
       "      <td>NaN</td>\n",
       "      <td>NaN</td>\n",
       "    </tr>\n",
       "  </tbody>\n",
       "</table>\n",
       "<p>5 rows × 37 columns</p>\n",
       "</div>"
      ],
      "text/plain": [
       "                                               id                 end  app  \\\n",
       "0  QmSXpyHBrkjzjmGpdYxKvYoRAMvdJNp7rrnyvJqTdtpayZ 2020-07-20 01:00:00  NaN   \n",
       "1  QmXYVj4GBu16GfuTLouxQSvbB8w3G2EAvYq9TAxX38ruKb 2020-07-20 01:00:00  NaN   \n",
       "2  QmboDWvsXYXPZb44arPVoMa3LHuv74YsGZ3cSoG6uj4oZe 2020-07-20 01:00:00  NaN   \n",
       "3  QmeWmvdFCTq5tnFHqgFmAVJDCccTYjg1zWb9cfUByg7zbz 2020-07-29 01:00:00  NaN   \n",
       "4  QmUadcUgd3jAhJbofgrnKNMfeuGFvMmybhCkttW4gGfYYJ 2020-08-03 01:00:00  NaN   \n",
       "\n",
       "                                             ipfs           type  \\\n",
       "0  QmSXpyHBrkjzjmGpdYxKvYoRAMvdJNp7rrnyvJqTdtpayZ  single-choice   \n",
       "1  QmXYVj4GBu16GfuTLouxQSvbB8w3G2EAvYq9TAxX38ruKb  single-choice   \n",
       "2  QmboDWvsXYXPZb44arPVoMa3LHuv74YsGZ3cSoG6uj4oZe  single-choice   \n",
       "3  QmeWmvdFCTq5tnFHqgFmAVJDCccTYjg1zWb9cfUByg7zbz  single-choice   \n",
       "4  QmUadcUgd3jAhJbofgrnKNMfeuGFvMmybhCkttW4gGfYYJ  single-choice   \n",
       "\n",
       "                                                body  \\\n",
       "0  Read the formatted version of this proposal at...   \n",
       "1  Read the formatted version of this proposal at...   \n",
       "2  Read the formatted version of this proposal at...   \n",
       "3  [This proposal is also on Balancer's forum.](\\...   \n",
       "4  [This proposal has been posted by user 5325235...   \n",
       "\n",
       "                                                link  \\\n",
       "0  https://snapshot.org/#/balancer.eth/proposal/Q...   \n",
       "1  https://snapshot.org/#/balancer.eth/proposal/Q...   \n",
       "2  https://snapshot.org/#/balancer.eth/proposal/Q...   \n",
       "3  https://snapshot.org/#/balancer.eth/proposal/Q...   \n",
       "4  https://snapshot.org/#/balancer.eth/proposal/Q...   \n",
       "\n",
       "                                               title               start  \\\n",
       "0  balFactor: incentivizing BAL liquidity on Bala... 2020-07-19 01:00:00   \n",
       "1  Modifying feeFactor: toward reducing the minin... 2020-07-19 01:00:00   \n",
       "2  Modifying wrapFactor: applying a 0.7 factor to... 2020-07-19 01:00:00   \n",
       "3  First batch of grants from Balancer Ecosystem ... 2020-07-28 01:00:00   \n",
       "4  Modifying wrapFactor: applying a 0.2 factor to... 2020-08-02 01:00:00   \n",
       "\n",
       "    state  ...  __typename scores_state   scores_total  scores_updated  \\\n",
       "0  closed  ...    Proposal        final  301890.797262      1636666475   \n",
       "1  closed  ...    Proposal        final  250818.946655      1636666543   \n",
       "2  closed  ...    Proposal        final  296856.624307      1636666548   \n",
       "3  closed  ...    Proposal        final  129011.648708      1636666857   \n",
       "4  closed  ...    Proposal        final  349071.151033      1636666863   \n",
       "\n",
       "                                  scores_by_strategy      space_id  lang  \\\n",
       "0  [[297407.78291458864, 4306.498731651296, 0], [...  balancer.eth    en   \n",
       "1  [[247042.11576416524, 3767.59570725957, 0], [9...  balancer.eth    en   \n",
       "2  [[281362.73565358046, 3153.664203614811, 0], [...  balancer.eth    en   \n",
       "3  [[70361.16645469955, 58640.079706512006, 0], [...  balancer.eth    en   \n",
       "4  [[180634.79301153703, 147781.31511566267, 0], ...  balancer.eth    en   \n",
       "\n",
       "   Class A Class B Class C  \n",
       "0      NaN     NaN     NaN  \n",
       "1      NaN     NaN     NaN  \n",
       "2      NaN     NaN     NaN  \n",
       "3      NaN     NaN     NaN  \n",
       "4      NaN     NaN     NaN  \n",
       "\n",
       "[5 rows x 37 columns]"
      ]
     },
     "execution_count": 6,
     "metadata": {},
     "output_type": "execute_result"
    }
   ],
   "source": [
    "df.head()"
   ]
  },
  {
   "cell_type": "markdown",
   "metadata": {},
   "source": [
    "### Columns with Nearly Identical Values"
   ]
  },
  {
   "cell_type": "code",
   "execution_count": 7,
   "metadata": {},
   "outputs": [
    {
     "name": "stdout",
     "output_type": "stream",
     "text": [
      "default    20918\n",
      "Name: quorumType, dtype: int64\n",
      "\n",
      "final    20909\n",
      "Name: scores_state, dtype: int64\n",
      "\n",
      "Proposal    20918\n",
      "Name: __typename, dtype: int64\n",
      "\n",
      "closed    20918\n",
      "Name: state, dtype: int64\n",
      "\n",
      "en    20918\n",
      "Name: lang, dtype: int64\n",
      "\n",
      "shutter    631\n",
      "Name: privacy, dtype: int64\n",
      "\n"
     ]
    }
   ],
   "source": [
    "for c in [\"quorumType\", \"scores_state\", \"__typename\", \"state\", \"lang\", \"privacy\"]:\n",
    "    print(df[c].value_counts())\n",
    "    print()\n",
    "\n",
    "# 단, privacy는 대부분 null "
   ]
  },
  {
   "cell_type": "markdown",
   "metadata": {},
   "source": [
    "### Count of Each Value in the Specified Column"
   ]
  },
  {
   "cell_type": "code",
   "execution_count": 8,
   "metadata": {},
   "outputs": [
    {
     "data": {
      "text/plain": [
       "0x5E23D08324f017d5425e59A2782C9ae27aCE0958    1269\n",
       "0xBB7B59Afa3A0E5Be143b8fE9C641F00c1ecB9d69    1082\n",
       "0x724061efDFef4a421e8be05133ad24922D07b5Bf     322\n",
       "0xc3d6f21c79C2567A1858d8b93a4EDBD9dB399d9d     315\n",
       "0xFAD69Bd739c64cC8e3f1C3bb3B60fe4f160174Cc     294\n",
       "                                              ... \n",
       "0xFf918a3Ff6CCc3722197B555a7a30de9A37906dB       1\n",
       "0x01DF0F4fcc595fdDab5F084E9a6118d75a894050       1\n",
       "0x6210477B3025BF5ea50A35D39e7D2875dC11661c       1\n",
       "0x853AebEc29B1DABA31de05aD58738Ed1507D3b82       1\n",
       "0xA11DA8B2D9A7883eb636d7de426025e5fD9fda1A       1\n",
       "Name: author, Length: 3421, dtype: int64"
      ]
     },
     "execution_count": 8,
     "metadata": {},
     "output_type": "execute_result"
    }
   ],
   "source": [
    "df[\"author\"].value_counts()"
   ]
  },
  {
   "cell_type": "code",
   "execution_count": 9,
   "metadata": {},
   "outputs": [
    {
     "data": {
      "text/plain": [
       "count    3421.000000\n",
       "mean        6.114586\n",
       "std        33.200820\n",
       "min         1.000000\n",
       "25%         1.000000\n",
       "50%         1.000000\n",
       "75%         3.000000\n",
       "max      1269.000000\n",
       "Name: author, dtype: float64"
      ]
     },
     "execution_count": 9,
     "metadata": {},
     "output_type": "execute_result"
    }
   ],
   "source": [
    "df[\"author\"].value_counts().describe()"
   ]
  },
  {
   "cell_type": "code",
   "execution_count": 10,
   "metadata": {},
   "outputs": [
    {
     "data": {
      "text/plain": [
       "[0, 0]                                    28\n",
       "[12, 0]                                   13\n",
       "[1090149.7629480332, 0, 2000342.6]        12\n",
       "[12, 0, 0]                                12\n",
       "[895035.2139744707, 0, 2000342.6]         11\n",
       "                                          ..\n",
       "[1167167.2142442812, 0, 0]                 1\n",
       "[63.25911802403418, 173395.8274078204]     1\n",
       "[1545895.425194297, 35757.66917005914]     1\n",
       "[11585557.50133734, 0]                     1\n",
       "[28154353.961499177, 2173.91304347826]     1\n",
       "Name: scores, Length: 20522, dtype: int64"
      ]
     },
     "execution_count": 10,
     "metadata": {},
     "output_type": "execute_result"
    }
   ],
   "source": [
    "df[\"scores\"].value_counts()"
   ]
  },
  {
   "cell_type": "code",
   "execution_count": 11,
   "metadata": {},
   "outputs": [
    {
     "data": {
      "text/plain": [
       "1        16023\n",
       "56        2357\n",
       "137        902\n",
       "42161      577\n",
       "250        275\n",
       "1088       245\n",
       "1284       204\n",
       "100        102\n",
       "43114       79\n",
       "592         50\n",
       "2400        47\n",
       "10          34\n",
       "321         17\n",
       "324          3\n",
       "4            2\n",
       "8453         1\n",
       "Name: network, dtype: int64"
      ]
     },
     "execution_count": 11,
     "metadata": {},
     "output_type": "execute_result"
    }
   ],
   "source": [
    "df[\"network\"].value_counts()"
   ]
  },
  {
   "cell_type": "code",
   "execution_count": 12,
   "metadata": {},
   "outputs": [
    {
     "data": {
      "text/plain": [
       "['for', 'against', 'abstain']                                                                                                                                             3073\n",
       "['yes', 'no']                                                                                                                                                             3035\n",
       "['for', 'against']                                                                                                                                                        1649\n",
       "['yes', 'no', 'abstain']                                                                                                                                                  1247\n",
       "['yae', 'nay', 'abstain']                                                                                                                                                  403\n",
       "                                                                                                                                                                          ... \n",
       "['0x224de3b8d173956f702b72b8de6dc0', '0x9ded35aef86f3c826ff8fe9240f9e7', '0x08a5678b176fbdb6c8b917ebb4922b']                                                                 1\n",
       "['create new farming/pool reward token that supports longterm 10x growth', 'leave things exactly how they are']                                                              1\n",
       "['add dodo as collateral at 135%', 'add dodo as collateral at 140%', 'add dodo as collateral at 145%', 'add dodo as collateral at 150%', 'further discussions needed']       1\n",
       "['claim, match and compound', 'do nothing']                                                                                                                                  1\n",
       "['fund zeromev $5k', 'do not fund zeromev']                                                                                                                                  1\n",
       "Name: choices, Length: 7358, dtype: int64"
      ]
     },
     "execution_count": 12,
     "metadata": {},
     "output_type": "execute_result"
    }
   ],
   "source": [
    "df[\"choices\"].str.lower().value_counts()"
   ]
  },
  {
   "cell_type": "code",
   "execution_count": 13,
   "metadata": {},
   "outputs": [
    {
     "data": {
      "text/plain": [
       "[{'network': '56', 'params': {'symbol': 'CAKE', 'address': '0x0E09FaBB73Bd3Ade0a17ECC321fD13a19e81cE82', 'decimals': 18}}]                                                                                                                                                                                                                                                                                                                                                                                                                                                                                                                                                                                                                                                                                                                                                                                                                                                                                                                                                                                                                                                                                                                                                                                                                                                                                                                                                                                                                                                                                                                                                                                                                                                                                                                                                                                                                                                                                                                                                                                                                                                                                                                                                                                                                                                                                                                                                                                                                                                                                                                                                                                                                                                                                                                                                                                                                                                                                                                                                                                                                                                                                                                                                                                                                                                                                                                                                                                                                                                                                                                                                                                                                                                                                                                                                                                                                   1549\n",
       "[{'network': '1', 'params': {'symbol': 'WMANA', 'address': '0xfd09cf7cfffa9932e33668311c4777cb9db3c9be', 'decimals': 18}}, {'network': '1', 'params': {'symbol': 'LAND', 'address': '0xf87e31492faf9a91b02ee0deaad50d51d56d5d4d', 'multiplier': 2000}}, {'network': '1', 'params': {'symbol': 'ESTATE', 'address': '0x959e104e1a4db6317fa58f8295f586e1a978c297', 'multiplier': 2000}}, {'network': '1', 'params': {'name': 'multichain', 'graphs': {'137': 'https://api.thegraph.com/subgraphs/name/decentraland/blocks-matic-mainnet'}, 'symbol': 'MANA', 'strategies': [{'name': 'erc20-balance-of', 'params': {'address': '0x0f5d2fb29fb7d3cfee444a200298f468908cc942', 'decimals': 18}, 'network': '1'}, {'name': 'erc20-balance-of', 'params': {'address': '0xA1c57f48F0Deb89f569dFbE6E2B7f46D33606fD4', 'decimals': 18}, 'network': '137'}]}}, {'network': '1', 'params': {'symbol': 'NAMES', 'address': '0x2a187453064356c898cae034eaed119e1663acb8', 'multiplier': 100}}, {'network': '1', 'params': {'symbol': 'VP (delegated)', 'strategies': [{'name': 'erc20-balance-of', 'params': {'symbol': 'WMANA', 'address': '0xfd09cf7cfffa9932e33668311c4777cb9db3c9be', 'decimals': 18}}, {'name': 'erc721-with-multiplier', 'params': {'symbol': 'LAND', 'address': '0xf87e31492faf9a91b02ee0deaad50d51d56d5d4d', 'multiplier': 2000}}, {'name': 'decentraland-estate-size', 'params': {'symbol': 'ESTATE', 'address': '0x959e104e1a4db6317fa58f8295f586e1a978c297', 'multiplier': 2000}}, {'name': 'multichain', 'params': {'name': 'multichain', 'graphs': {'137': 'https://api.thegraph.com/subgraphs/name/decentraland/blocks-matic-mainnet'}, 'symbol': 'MANA', 'strategies': [{'name': 'erc20-balance-of', 'params': {'address': '0x0f5d2fb29fb7d3cfee444a200298f468908cc942', 'decimals': 18}, 'network': '1'}, {'name': 'erc20-balance-of', 'params': {'address': '0xA1c57f48F0Deb89f569dFbE6E2B7f46D33606fD4', 'decimals': 18}, 'network': '137'}]}}, {'name': 'erc721-with-multiplier', 'params': {'symbol': 'NAMES', 'address': '0x2a187453064356c898cae034eaed119e1663acb8', 'multiplier': 100}}]}}]                                                                                                                                                                                                                                                                                                                                                                                                                                                                                                                                                                                                                                                                                                                                                                                                                                                                                                                                                                                                                                                                                                                                                                                                                                                                                                                                                                                                                                                                                                                                                                                                                                                                                                                                                                                                                       1026\n",
       "[{'network': '1', 'params': {'symbol': 'WMANA', 'address': '0xfd09cf7cfffa9932e33668311c4777cb9db3c9be', 'decimals': 18}}, {'network': '1', 'params': {'symbol': 'LAND', 'address': '0xf87e31492faf9a91b02ee0deaad50d51d56d5d4d', 'multiplier': 2000}}, {'network': '1', 'params': {'symbol': 'ESTATE', 'address': '0x959e104e1a4db6317fa58f8295f586e1a978c297', 'multiplier': 2000}}, {'network': '1', 'params': {'name': 'multichain', 'graphs': {'137': 'https://api.thegraph.com/subgraphs/name/decentraland/blocks-matic-mainnet'}, 'symbol': 'MANA', 'strategies': [{'name': 'erc20-balance-of', 'params': {'address': '0x0f5d2fb29fb7d3cfee444a200298f468908cc942', 'decimals': 18}, 'network': '1'}, {'name': 'erc20-balance-of', 'params': {'address': '0xA1c57f48F0Deb89f569dFbE6E2B7f46D33606fD4', 'decimals': 18}, 'network': '137'}]}}, {'network': '1', 'params': {'symbol': 'NAMES', 'address': '0x2a187453064356c898cae034eaed119e1663acb8', 'multiplier': 100}}, {'network': '1', 'params': {'symbol': 'VP (delegated)', 'strategies': [{'name': 'erc20-balance-of', 'params': {'symbol': 'WMANA', 'address': '0xfd09cf7cfffa9932e33668311c4777cb9db3c9be', 'decimals': 18}}, {'name': 'erc721-with-multiplier', 'params': {'symbol': 'LAND', 'address': '0xf87e31492faf9a91b02ee0deaad50d51d56d5d4d', 'multiplier': 2000}}, {'name': 'decentraland-estate-size', 'params': {'symbol': 'ESTATE', 'address': '0x959e104e1a4db6317fa58f8295f586e1a978c297', 'multiplier': 2000}}, {'name': 'multichain', 'params': {'name': 'multichain', 'graphs': {'137': 'https://api.thegraph.com/subgraphs/name/decentraland/blocks-matic-mainnet'}, 'symbol': 'MANA', 'strategies': [{'name': 'erc20-balance-of', 'params': {'address': '0x0f5d2fb29fb7d3cfee444a200298f468908cc942', 'decimals': 18}, 'network': '1'}, {'name': 'erc20-balance-of', 'params': {'address': '0xA1c57f48F0Deb89f569dFbE6E2B7f46D33606fD4', 'decimals': 18}, 'network': '137'}]}}, {'name': 'erc721-with-multiplier', 'params': {'symbol': 'NAMES', 'address': '0x2a187453064356c898cae034eaed119e1663acb8', 'multiplier': 100}}, {'name': 'decentraland-wearable-rarity', 'params': {'symbol': 'WEARABLE', 'collections': ['0x32b7495895264ac9d0b12d32afd435453458b1c6', '0xd35147be6401dcb20811f2104c33de8e97ed6818', '0xc04528c14c8ffd84c7c1fb6719b4a89853035cdd', '0xc1f4b0eea2bd6690930e6c66efd3e197d620b9c2', '0xf64dc33a192e056bb5f0e5049356a0498b502d50', '0xc3af02c0fd486c8e9da5788b915d6fff3f049866'], 'multipliers': {'epic': 10, 'rare': 5, 'mythic': 1000, 'uncommon': 1, 'legendary': 100}}}, {'name': 'decentraland-rental-lessors', 'params': {'symbol': 'RENTAL', 'addresses': {'land': '0xf87e31492faf9a91b02ee0deaad50d51d56d5d4d', 'estate': '0x959e104e1a4db6317fa58f8295f586e1a978c297'}, 'subgraphs': {'rentals': 'https://api.thegraph.com/subgraphs/name/decentraland/rentals-ethereum-mainnet', 'marketplace': 'https://api.thegraph.com/subgraphs/name/decentraland/marketplace'}, 'multipliers': {'land': 2000, 'estateSize': 2000}}}]}}, {'network': '1', 'params': {'symbol': 'WEARABLE', 'collections': ['0x32b7495895264ac9d0b12d32afd435453458b1c6', '0xd35147be6401dcb20811f2104c33de8e97ed6818', '0xc04528c14c8ffd84c7c1fb6719b4a89853035cdd', '0xc1f4b0eea2bd6690930e6c66efd3e197d620b9c2', '0xf64dc33a192e056bb5f0e5049356a0498b502d50', '0xc3af02c0fd486c8e9da5788b915d6fff3f049866'], 'multipliers': {'epic': 10, 'rare': 5, 'mythic': 1000, 'uncommon': 1, 'legendary': 100}}}, {'network': '1', 'params': {'symbol': 'RENTAL', 'addresses': {'land': '0xf87e31492faf9a91b02ee0deaad50d51d56d5d4d', 'estate': '0x959e104e1a4db6317fa58f8295f586e1a978c297'}, 'subgraphs': {'rentals': 'https://api.thegraph.com/subgraphs/name/decentraland/rentals-ethereum-mainnet', 'marketplace': 'https://api.thegraph.com/subgraphs/name/decentraland/marketplace'}, 'multipliers': {'land': 2000, 'estateSize': 2000}}}]     967\n",
       "[{'network': '1', 'params': {'symbol': 'vBNT', 'address': '0x892f481BD6E9d7D26aE365211D9B45175d5D00e4', 'decimals': 18, 'methodABI': {'name': 'votesOf', 'type': 'function', 'inputs': [{'name': '_voter', 'type': 'address', 'internalType': 'address'}], 'outputs': [{'name': '', 'type': 'uint256', 'internalType': 'uint256'}], 'stateMutability': 'view'}}}, {'network': '1', 'params': {'symbol': 'vBNT (delegated)', 'strategies': [{'name': 'contract-call', 'params': {'address': '0x892f481BD6E9d7D26aE365211D9B45175d5D00e4', 'decimals': 18, 'methodABI': {'name': 'votesOf', 'type': 'function', 'inputs': [{'name': '_voter', 'type': 'address', 'internalType': 'address'}], 'outputs': [{'name': '', 'type': 'uint256', 'internalType': 'uint256'}], 'stateMutability': 'view'}}}]}}]                                                                                                                                                                                                                                                                                                                                                                                                                                                                                                                                                                                                                                                                                                                                                                                                                                                                                                                                                                                                                                                                                                                                                                                                                                                                                                                                                                                                                                                                                                                                                                                                                                                                                                                                                                                                                                                                                                                                                                                                                                                                                                                                                                                                                                                                                                                                                                                                                                                                                                                                                                                                                                                                                                                                                                                                                                                                                                                                                                                                                                                                                                                                         445\n",
       "[{'network': '1', 'params': {'symbol': 'aAAVE', 'address': '0xffc97d72e13e01096502cb8eb52dee56f74dad7b', 'decimals': 18}}, {'network': '1', 'params': {'symbol': 'AAVE+stkAAVE', 'decimals': 18, 'powerType': 'vote', 'governanceStrategy': '0xb7e383ef9b1e9189fc0f71fb30af8aa14377429e'}}, {'network': '1', 'params': {'graphs': {'137': 'https://api.thegraph.com/subgraphs/name/sameepsi/maticblocks'}, 'symbol': 'Matic AAVE+amAAVE', 'strategies': [{'name': 'erc20-balance-of', 'params': {'symbol': 'AAVE', 'address': '0xD6DF932A45C0f255f85145f286eA0b292B21C90B', 'decimals': 18}, 'network': '137'}, {'name': 'erc20-balance-of', 'params': {'symbol': 'amAAVE', 'address': '0x1d2a0E5EC8E5bBDCA5CB219e649B565d8e5c3360', 'decimals': 18}, 'network': 137}]}}, {'network': '1', 'params': {'args': ['%{address}'], 'symbol': 'AAVE in stkBPT', 'address': '0xC0259c59D9f980E3b5e2574cD78C9A9Bc6A8E3fc', 'decimals': 18, 'methodABI': {'name': 'balanceOf', 'type': 'function', 'inputs': [{'name': 'account', 'type': 'address', 'internalType': 'address'}], 'outputs': [{'name': '', 'type': 'uint256', 'internalType': 'uint256'}], 'stateMutability': 'view'}}}]                                                                                                                                                                                                                                                                                                                                                                                                                                                                                                                                                                                                                                                                                                                                                                                                                                                                                                                                                                                                                                                                                                                                                                                                                                                                                                                                                                                                                                                                                                                                                                                                                                                                                                                                                                                                                                                                                                                                                                                                                                                                                                                                                                                                                                                                                                                                                                                                                                                                                                                                                                                                                                                                                                                                                               406\n",
       "                                                                                                                                                                                                                                                                                                                                                                                                                                                                                                                                                                                                                                                                                                                                                                                                                                                                                                                                                                                                                                                                                                                                                                                                                                                                                                                                                                                                                                                                                                                                                                                                                                                                                                                                                                                                                                                                                                                                                                                                                                                                                                                                                                                                                                                                                                                                                                                                                                                                                                                                                                                                                                                                                                                                                                                                                                                                                                                                                                                                                                                                                                                                                                                                                                                                                                                                                                                                                                                                                                                                                                                                                                                                                                                                                                                                                                                                                                                                             ... \n",
       "[{'network': '56', 'params': {'symbol': 'BIFI', 'strategies': [{'name': 'erc20-balance-of', 'params': {'address': '0xC7CB2f504AED1414F01b89EFF3E32A3a44cd9ecC', 'decimals': 18}, 'network': '56', 'description': 'bsc-legacy'}, {'name': 'erc20-balance-of', 'params': {'address': '0x2f8649bC64D7133aA56b0e22A620A76409955570', 'decimals': 18}, 'network': '56', 'description': 'bsc-active'}, {'name': 'erc20-balance-of', 'params': {'address': '0xd6cd30b5D4CbAB7951a05CC6Be36423980ad74f3', 'decimals': 18}, 'network': '56', 'description': 'bsc-vested-bifi'}, {'name': 'erc20-balance-of', 'params': {'address': '0x192e6768b53029c49609275846cc119b20ad6e76', 'decimals': 18}, 'network': '56', 'description': 'bsc-moonpot'}, {'name': 'erc20-balance-of', 'params': {'address': '0x777DE3cCd7c8F18306663eD97aeA0C30f4ee5146', 'decimals': 18}, 'network': '137', 'description': 'polygon'}, {'name': 'erc20-balance-of', 'params': {'address': '0x6CA2b0C24059B8322B87f04209d7B183621C50c4', 'decimals': 18}, 'network': '137', 'description': 'polygon-giddy'}, {'name': 'erc20-balance-of', 'params': {'address': '0xfbD63fadb7B13E0599c3643405276f97217147B2', 'decimals': 18}, 'network': '42161', 'description': 'arbitrum'}, {'name': 'erc20-balance-of', 'params': {'address': '0x7920f58FdA180C8B3d2CaE7280b5A0FFAF229978', 'decimals': 18}, 'network': '42161', 'description': 'arbitrum-pae'}, {'name': 'erc20-balance-of', 'params': {'address': '0x74037AEe034D2bD5cD2eEc043FE5ad9cE2e90275', 'decimals': 18}, 'network': '43114', 'description': 'avax'}, {'name': 'erc20-balance-of', 'params': {'address': '0xE9FA52Cb4454e06a2608Ee7D4c0c5530BF8dc3B0', 'decimals': 18}, 'network': '1285', 'description': 'moonriver'}, {'name': 'erc20-balance-of', 'params': {'address': '0x0CBEc620B4fB839558d73947F4444F107885D38c', 'decimals': 18}, 'network': '250', 'description': 'fantom'}, {'name': 'erc20-balance-of', 'params': {'address': '0xC754f80126F63c5B0903D86D684c322e0dC0701C', 'decimals': 18}, 'network': '250', 'description': 'fantom-qidao'}, {'name': 'erc20-balance-of', 'params': {'address': '0xdd8DaFE541bBAD18d9fa7233a0e3b22dE366D72C', 'decimals': 18}, 'network': '250', 'description': 'fantom-moonpot'}, {'name': 'erc20-balance-of', 'params': {'address': '0xB88a3FbB5136d3F1B96aF208ddce5a103D9EaE7A', 'decimals': 18}, 'network': '25', 'description': 'cronos'}, {'name': 'erc20-balance-of', 'params': {'address': '0xeCD68D935Fd331EbA27381929845737346577943', 'decimals': 18}, 'network': '1284', 'description': 'moonbeam'}, {'name': 'erc20-balance-of', 'params': {'address': '0xeCD68D935Fd331EbA27381929845737346577943', 'decimals': 18}, 'network': '1313161554', 'description': 'aurora'}, {'name': 'erc20-balance-of', 'params': {'address': '0x46963fE344f51E902783515d6A308855A8C16f96', 'decimals': 18}, 'network': '122', 'description': 'fuse'}, {'name': 'erc20-balance-of', 'params': {'address': '0xDCd038F3004a752DdDDfe3A5E412ca0D1f809649', 'decimals': 18}, 'network': '10', 'description': 'optimism'}]}}]                                                                                                                                                                                                                                                                                                                                                                                                                                                                                                                                                                                                                                                                                                                                                                                                                                                   1\n",
       "[{'network': '1', 'params': {'symbol': 'SNX', 'address': '0xc011a73ee8576fb46f5e1c5751ca3b9fe0af2a6f', 'network': '1', 'decimals': 18}}, {'network': '10', 'params': {'symbol': 'SNX', 'address': '0x8700daec35af8ff88c16bdf0418774cb3d7599b4', 'decimals': 18}}]                                                                                                                                                                                                                                                                                                                                                                                                                                                                                                                                                                                                                                                                                                                                                                                                                                                                                                                                                                                                                                                                                                                                                                                                                                                                                                                                                                                                                                                                                                                                                                                                                                                                                                                                                                                                                                                                                                                                                                                                                                                                                                                                                                                                                                                                                                                                                                                                                                                                                                                                                                                                                                                                                                                                                                                                                                                                                                                                                                                                                                                                                                                                                                                                                                                                                                                                                                                                                                                                                                                                                                                                                                                                               1\n",
       "[{'network': '137', 'params': {'symbol': 'QUICK', 'address': '0x831753DD7087CaC61aB5644b308642cc1c33Dc13', 'decimals': 18}}]                                                                                                                                                                                                                                                                                                                                                                                                                                                                                                                                                                                                                                                                                                                                                                                                                                                                                                                                                                                                                                                                                                                                                                                                                                                                                                                                                                                                                                                                                                                                                                                                                                                                                                                                                                                                                                                                                                                                                                                                                                                                                                                                                                                                                                                                                                                                                                                                                                                                                                                                                                                                                                                                                                                                                                                                                                                                                                                                                                                                                                                                                                                                                                                                                                                                                                                                                                                                                                                                                                                                                                                                                                                                                                                                                                                                                    1\n",
       "[{'network': '1', 'params': {'symbol': 'PAL', 'address': '0xAB846Fb6C81370327e784Ae7CbB6d6a6af6Ff4BF'}}, {'network': '1', 'params': {'symbol': 'hPAL', 'address': '0x624D822934e87D3534E435b83ff5C19769Efd9f6'}}]                                                                                                                                                                                                                                                                                                                                                                                                                                                                                                                                                                                                                                                                                                                                                                                                                                                                                                                                                                                                                                                                                                                                                                                                                                                                                                                                                                                                                                                                                                                                                                                                                                                                                                                                                                                                                                                                                                                                                                                                                                                                                                                                                                                                                                                                                                                                                                                                                                                                                                                                                                                                                                                                                                                                                                                                                                                                                                                                                                                                                                                                                                                                                                                                                                                                                                                                                                                                                                                                                                                                                                                                                                                                                                                               1\n",
       "[{'network': '1', 'params': {'value': 1, 'symbol': 'VOTE'}}]                                                                                                                                                                                                                                                                                                                                                                                                                                                                                                                                                                                                                                                                                                                                                                                                                                                                                                                                                                                                                                                                                                                                                                                                                                                                                                                                                                                                                                                                                                                                                                                                                                                                                                                                                                                                                                                                                                                                                                                                                                                                                                                                                                                                                                                                                                                                                                                                                                                                                                                                                                                                                                                                                                                                                                                                                                                                                                                                                                                                                                                                                                                                                                                                                                                                                                                                                                                                                                                                                                                                                                                                                                                                                                                                                                                                                                                                                    1\n",
       "Name: strategies, Length: 850, dtype: int64"
      ]
     },
     "execution_count": 13,
     "metadata": {},
     "output_type": "execute_result"
    }
   ],
   "source": [
    "df[\"strategies\"].value_counts()"
   ]
  },
  {
   "cell_type": "code",
   "execution_count": 14,
   "metadata": {},
   "outputs": [
    {
     "data": {
      "text/plain": [
       "1.200000e+01    51\n",
       "1.300000e+01    46\n",
       "1.100000e+01    43\n",
       "1.000000e+01    42\n",
       "1.400000e+01    42\n",
       "                ..\n",
       "5.474768e+06     1\n",
       "1.287215e+05     1\n",
       "1.405948e+05     1\n",
       "2.500000e+02     1\n",
       "2.815653e+07     1\n",
       "Name: scores_total, Length: 19191, dtype: int64"
      ]
     },
     "execution_count": 14,
     "metadata": {},
     "output_type": "execute_result"
    }
   ],
   "source": [
    "df[\"scores_total\"].value_counts()"
   ]
  },
  {
   "cell_type": "code",
   "execution_count": 15,
   "metadata": {},
   "outputs": [
    {
     "data": {
      "text/plain": [
       "[[0], [0]]                                                                                                                                                                                                     28\n",
       "[[12], [0]]                                                                                                                                                                                                    13\n",
       "[[761588.5729547191, 328561.1899933141], [0, 0], [2000099.23, 243.37]]                                                                                                                                         12\n",
       "[[12], [0], [0]]                                                                                                                                                                                               12\n",
       "[[780331.6535529103, 114703.56042156044], [0, 0], [2000099.23, 243.37]]                                                                                                                                        11\n",
       "                                                                                                                                                                                                               ..\n",
       "[[616.155595963204], [0.2461750854261068], [0.001724049297680974]]                                                                                                                                              1\n",
       "[[127819.104354896, 261588.97617627017, 0, 0], [25899.760677711423, 45056.86806903853, 149272.5765917, 0]]                                                                                                      1\n",
       "[[0, 1858000, 168000, 406.8794666517732, 1700, 0], [0, 6000, 88000, 4783.804436344011, 4900, 797026.0521034603]]                                                                                                1\n",
       "[[897991.0833736225, 0.5285702757954766, 0, 89009.33904912174, 5037.03673181367, 1201387.331737347, 2500.2466255563763, 272379], [178871.25706672625, 0, 0, 246878.7752710008, 983.1965788648072, 0, 0, 0]]     1\n",
       "[[28154353.961499177], [2173.91304347826]]                                                                                                                                                                      1\n",
       "Name: scores_by_strategy, Length: 20556, dtype: int64"
      ]
     },
     "execution_count": 15,
     "metadata": {},
     "output_type": "execute_result"
    }
   ],
   "source": [
    "df[\"scores_by_strategy\"].value_counts()"
   ]
  },
  {
   "cell_type": "markdown",
   "metadata": {},
   "source": [
    "# 2. Proposal Counts for Each Space"
   ]
  },
  {
   "cell_type": "markdown",
   "metadata": {},
   "source": [
    "### Proposal Counts for Each Space\n",
    "- Total count\n",
    "- Mean\n",
    "- Standard Deviation\n",
    "- Percentile"
   ]
  },
  {
   "cell_type": "code",
   "execution_count": 16,
   "metadata": {},
   "outputs": [
    {
     "data": {
      "text/plain": [
       "count     245.000000\n",
       "mean       85.379592\n",
       "std       198.386212\n",
       "min         1.000000\n",
       "25%        22.000000\n",
       "50%        39.000000\n",
       "75%        78.000000\n",
       "max      2351.000000\n",
       "Name: space_id, dtype: float64"
      ]
     },
     "execution_count": 16,
     "metadata": {},
     "output_type": "execute_result"
    }
   ],
   "source": [
    "space_counts = df['space_id'].value_counts()\n",
    "space_counts.describe()"
   ]
  },
  {
   "cell_type": "code",
   "execution_count": 17,
   "metadata": {},
   "outputs": [
    {
     "name": "stdout",
     "output_type": "stream",
     "text": [
      "Spaces under 5 proposals: (21,)\n",
      "Spaces under 10 proposals: (28,)\n"
     ]
    },
    {
     "data": {
      "text/plain": [
       "poktdao.eth               10\n",
       "primexyz.eth               9\n",
       "concentratordao.eth        9\n",
       "infinex.eth                8\n",
       "pnounsdao.eth              7\n",
       "paragonsdao.eth            7\n",
       "btcismylove.eth            7\n",
       "goopsnapshot.eth           5\n",
       "web3-no1.eth               4\n",
       "digitalriyal.eth           3\n",
       "rusha.eth                  3\n",
       "babyfive.eth               3\n",
       "meiridi.eth                3\n",
       "dorg.eth                   3\n",
       "insuretoken.eth            2\n",
       "thehong.eth                2\n",
       "fabien.eth                 2\n",
       "xxx.freesubs.eth           1\n",
       "defjnite.eth               1\n",
       "haitang.eth                1\n",
       "01meta.eth                 1\n",
       "cuchorapido.eth            1\n",
       "biteren.eth                1\n",
       "apollodao.eth              1\n",
       "pozoaxel.eth               1\n",
       "lens.changliuchuan.eth     1\n",
       "kwenta.eth                 1\n",
       "signinhere.eth             1\n",
       "Name: space_id, dtype: int64"
      ]
     },
     "execution_count": 17,
     "metadata": {},
     "output_type": "execute_result"
    }
   ],
   "source": [
    "print(\"Spaces under 5 proposals:\", space_counts[space_counts <= 5].shape)\n",
    "\n",
    "print(\"Spaces under 10 proposals:\", space_counts[space_counts <= 10].shape)\n",
    "space_counts[space_counts <= 10]"
   ]
  },
  {
   "cell_type": "code",
   "execution_count": 18,
   "metadata": {},
   "outputs": [
    {
     "name": "stdout",
     "output_type": "stream",
     "text": [
      "Spaces under 2 proposals: 14\n"
     ]
    },
    {
     "data": {
      "text/html": [
       "<div>\n",
       "<style scoped>\n",
       "    .dataframe tbody tr th:only-of-type {\n",
       "        vertical-align: middle;\n",
       "    }\n",
       "\n",
       "    .dataframe tbody tr th {\n",
       "        vertical-align: top;\n",
       "    }\n",
       "\n",
       "    .dataframe thead th {\n",
       "        text-align: right;\n",
       "    }\n",
       "</style>\n",
       "<table border=\"1\" class=\"dataframe\">\n",
       "  <thead>\n",
       "    <tr style=\"text-align: right;\">\n",
       "      <th></th>\n",
       "      <th>title</th>\n",
       "      <th>body</th>\n",
       "      <th>space_id</th>\n",
       "    </tr>\n",
       "  </thead>\n",
       "  <tbody>\n",
       "    <tr>\n",
       "      <th>14775</th>\n",
       "      <td>Proposal - Make Polygon a Country</td>\n",
       "      <td>If no one is saying I got a Proposal For you: ...</td>\n",
       "      <td>01meta.eth</td>\n",
       "    </tr>\n",
       "    <tr>\n",
       "      <th>3016</th>\n",
       "      <td>Partnership &amp; Mutual Grant with Gitcoin</td>\n",
       "      <td>Developer DAOs mission is to accelerate the ed...</td>\n",
       "      <td>apollodao.eth</td>\n",
       "    </tr>\n",
       "    <tr>\n",
       "      <th>14367</th>\n",
       "      <td>FROGAGA Lucky Box Airdrops</td>\n",
       "      <td>Upcoming trending NFT series! #FROGAGA Lucky B...</td>\n",
       "      <td>biteren.eth</td>\n",
       "    </tr>\n",
       "    <tr>\n",
       "      <th>14539</th>\n",
       "      <td>Propuesta para sueldo retroactivo de Stovedove</td>\n",
       "      <td>User: Stovedove\\nCantidad: 150,000\\n75%: 112,5...</td>\n",
       "      <td>cuchorapido.eth</td>\n",
       "    </tr>\n",
       "    <tr>\n",
       "      <th>15028</th>\n",
       "      <td>Have you already done Tabi?</td>\n",
       "      <td>According to developers, the funds will be pri...</td>\n",
       "      <td>defjnite.eth</td>\n",
       "    </tr>\n",
       "    <tr>\n",
       "      <th>1603</th>\n",
       "      <td>This is a long title this is a long title this...</td>\n",
       "      <td>This is a long title this is a long title this...</td>\n",
       "      <td>fabien.eth</td>\n",
       "    </tr>\n",
       "    <tr>\n",
       "      <th>4899</th>\n",
       "      <td>Snapshot Hackathon #1</td>\n",
       "      <td>Weight rank the projects you like\\n*\\n# Treasu...</td>\n",
       "      <td>fabien.eth</td>\n",
       "    </tr>\n",
       "    <tr>\n",
       "      <th>14997</th>\n",
       "      <td>[Phase 2] HIP-54: Airdrop to Democratic Heroes</td>\n",
       "      <td>Modify the term of office of the elected Missi...</td>\n",
       "      <td>haitang.eth</td>\n",
       "    </tr>\n",
       "    <tr>\n",
       "      <th>2467</th>\n",
       "      <td>[Transitioning to Contribution Phase]</td>\n",
       "      <td>[Different Phases]:\\ninSure DeFi has been crea...</td>\n",
       "      <td>insuretoken.eth</td>\n",
       "    </tr>\n",
       "    <tr>\n",
       "      <th>14549</th>\n",
       "      <td>Community Growth Incentive Programs - Reimburs...</td>\n",
       "      <td>In order to drive the natural growth of our co...</td>\n",
       "      <td>insuretoken.eth</td>\n",
       "    </tr>\n",
       "    <tr>\n",
       "      <th>19756</th>\n",
       "      <td>KIP-123: Launch $KSX (Community Temp Check)</td>\n",
       "      <td># Simple Summary\\nThis KIP introduces the $KSX...</td>\n",
       "      <td>kwenta.eth</td>\n",
       "    </tr>\n",
       "    <tr>\n",
       "      <th>18273</th>\n",
       "      <td>You need to be a core member of the space in o...</td>\n",
       "      <td>You need to be a core member of the space in o...</td>\n",
       "      <td>lens.changliuchuan.eth</td>\n",
       "    </tr>\n",
       "    <tr>\n",
       "      <th>18264</th>\n",
       "      <td>Should ZkSync use Gitcoin Passport as a requir...</td>\n",
       "      <td>The Gitcoin Passport is an excellent way to pr...</td>\n",
       "      <td>pozoaxel.eth</td>\n",
       "    </tr>\n",
       "    <tr>\n",
       "      <th>20211</th>\n",
       "      <td>Official AIRDROP | ZkSync x Polygon</td>\n",
       "      <td>Official AIRDROP | ZkSync x Polygon\\nMint NFT ...</td>\n",
       "      <td>signinhere.eth</td>\n",
       "    </tr>\n",
       "    <tr>\n",
       "      <th>15003</th>\n",
       "      <td>[Phase 3] HIP-56 - Length of stay of the Missi...</td>\n",
       "      <td>Proof of Humanity was born as a 1p1v DAO witho...</td>\n",
       "      <td>thehong.eth</td>\n",
       "    </tr>\n",
       "    <tr>\n",
       "      <th>14982</th>\n",
       "      <td>[Phase 2] HIP-75: Remove the Mission Board Mem...</td>\n",
       "      <td>This HIP aims to remove the figure of Mission ...</td>\n",
       "      <td>thehong.eth</td>\n",
       "    </tr>\n",
       "    <tr>\n",
       "      <th>15583</th>\n",
       "      <td>Aleo Network Development Priorities</td>\n",
       "      <td>This vote is designed to engage the Aleo commu...</td>\n",
       "      <td>xxx.freesubs.eth</td>\n",
       "    </tr>\n",
       "  </tbody>\n",
       "</table>\n",
       "</div>"
      ],
      "text/plain": [
       "                                                   title  \\\n",
       "14775                  Proposal - Make Polygon a Country   \n",
       "3016             Partnership & Mutual Grant with Gitcoin   \n",
       "14367                         FROGAGA Lucky Box Airdrops   \n",
       "14539     Propuesta para sueldo retroactivo de Stovedove   \n",
       "15028                        Have you already done Tabi?   \n",
       "1603   This is a long title this is a long title this...   \n",
       "4899                               Snapshot Hackathon #1   \n",
       "14997     [Phase 2] HIP-54: Airdrop to Democratic Heroes   \n",
       "2467               [Transitioning to Contribution Phase]   \n",
       "14549  Community Growth Incentive Programs - Reimburs...   \n",
       "19756        KIP-123: Launch $KSX (Community Temp Check)   \n",
       "18273  You need to be a core member of the space in o...   \n",
       "18264  Should ZkSync use Gitcoin Passport as a requir...   \n",
       "20211                Official AIRDROP | ZkSync x Polygon   \n",
       "15003  [Phase 3] HIP-56 - Length of stay of the Missi...   \n",
       "14982  [Phase 2] HIP-75: Remove the Mission Board Mem...   \n",
       "15583                Aleo Network Development Priorities   \n",
       "\n",
       "                                                    body  \\\n",
       "14775  If no one is saying I got a Proposal For you: ...   \n",
       "3016   Developer DAOs mission is to accelerate the ed...   \n",
       "14367  Upcoming trending NFT series! #FROGAGA Lucky B...   \n",
       "14539  User: Stovedove\\nCantidad: 150,000\\n75%: 112,5...   \n",
       "15028  According to developers, the funds will be pri...   \n",
       "1603   This is a long title this is a long title this...   \n",
       "4899   Weight rank the projects you like\\n*\\n# Treasu...   \n",
       "14997  Modify the term of office of the elected Missi...   \n",
       "2467   [Different Phases]:\\ninSure DeFi has been crea...   \n",
       "14549  In order to drive the natural growth of our co...   \n",
       "19756  # Simple Summary\\nThis KIP introduces the $KSX...   \n",
       "18273  You need to be a core member of the space in o...   \n",
       "18264  The Gitcoin Passport is an excellent way to pr...   \n",
       "20211  Official AIRDROP | ZkSync x Polygon\\nMint NFT ...   \n",
       "15003  Proof of Humanity was born as a 1p1v DAO witho...   \n",
       "14982  This HIP aims to remove the figure of Mission ...   \n",
       "15583  This vote is designed to engage the Aleo commu...   \n",
       "\n",
       "                     space_id  \n",
       "14775              01meta.eth  \n",
       "3016            apollodao.eth  \n",
       "14367             biteren.eth  \n",
       "14539         cuchorapido.eth  \n",
       "15028            defjnite.eth  \n",
       "1603               fabien.eth  \n",
       "4899               fabien.eth  \n",
       "14997             haitang.eth  \n",
       "2467          insuretoken.eth  \n",
       "14549         insuretoken.eth  \n",
       "19756              kwenta.eth  \n",
       "18273  lens.changliuchuan.eth  \n",
       "18264            pozoaxel.eth  \n",
       "20211          signinhere.eth  \n",
       "15003             thehong.eth  \n",
       "14982             thehong.eth  \n",
       "15583        xxx.freesubs.eth  "
      ]
     },
     "execution_count": 18,
     "metadata": {},
     "output_type": "execute_result"
    }
   ],
   "source": [
    "temp = space_counts[space_counts <= 2].index.tolist()\n",
    "\n",
    "print(\"Spaces under 2 proposals:\", len(temp))\n",
    "\n",
    "df[df[\"space_id\"].isin(temp)][[\"title\", \"body\", \"space_id\"]].sort_values(by=\"space_id\")"
   ]
  },
  {
   "cell_type": "code",
   "execution_count": 19,
   "metadata": {},
   "outputs": [
    {
     "data": {
      "image/png": "[encoded data removed]",
      "text/plain": [
       "<Figure size 1200x800 with 1 Axes>"
      ]
     },
     "metadata": {},
     "output_type": "display_data"
    }
   ],
   "source": [
    "log_space_counts = np.log10(space_counts)\n",
    "\n",
    "plt.figure(figsize=(12, 8))\n",
    "log_space_counts.plot(kind='bar', color='lightblue')\n",
    "plt.xlabel('Space ID')\n",
    "plt.ylabel('Log10 of the Count of Proposals')\n",
    "plt.title('Log10 of the Number of Proposals per Space',\n",
    "          pad=20, fontsize=16)\n",
    "plt.xticks([], [])  # Remove x-axis ticks\n",
    "plt.show()"
   ]
  },
  {
   "cell_type": "markdown",
   "metadata": {},
   "source": [
    "### Number of Followers, Proposals, and Votes for Each Space \n",
    "- Proposal count and vote count in this section are the number ***before preprocessing deletion***"
   ]
  },
  {
   "cell_type": "code",
   "execution_count": 20,
   "metadata": {},
   "outputs": [
    {
     "name": "stdout",
     "output_type": "stream",
     "text": [
      "(245, 47)\n"
     ]
    },
    {
     "data": {
      "text/plain": [
       "<matplotlib.legend.Legend at 0x1f76780b3d0>"
      ]
     },
     "execution_count": 20,
     "metadata": {},
     "output_type": "execute_result"
    },
    {
     "data": {
      "image/png": "[encoded data removed]",
      "text/plain": [
       "<Figure size 640x480 with 1 Axes>"
      ]
     },
     "metadata": {},
     "output_type": "display_data"
    }
   ],
   "source": [
    "df_space = pd.read_excel('../spaces_cut.xlsx')\n",
    "df_space = df_space[df_space['id'].isin(space_counts.index)]\n",
    "print(df_space.shape)\n",
    "\n",
    "plt.hist(df_space['followersCount'].apply(np.log), label=\"followersCount\", alpha=0.5, bins=30)\n",
    "plt.hist(df_space['proposalsCount'].apply(np.log), label=\"proposalsCount\", alpha=0.5, bins=30)\n",
    "plt.hist(df_space['votesCount'].apply(np.log), label=\"votesCount\", alpha=0.5, bins=30)\n",
    "plt.xlabel('Log10 of the Count')\n",
    "plt.ylabel('Frequency')\n",
    "plt.title('Log10 of the Number of Followers, Proposals, and Votes for Each Space ',\n",
    "          pad=20, fontsize=16)\n",
    "plt.legend()"
   ]
  },
  {
   "cell_type": "code",
   "execution_count": 21,
   "metadata": {},
   "outputs": [
    {
     "data": {
      "text/html": [
       "<div>\n",
       "<style scoped>\n",
       "    .dataframe tbody tr th:only-of-type {\n",
       "        vertical-align: middle;\n",
       "    }\n",
       "\n",
       "    .dataframe tbody tr th {\n",
       "        vertical-align: top;\n",
       "    }\n",
       "\n",
       "    .dataframe thead th {\n",
       "        text-align: right;\n",
       "    }\n",
       "</style>\n",
       "<table border=\"1\" class=\"dataframe\">\n",
       "  <thead>\n",
       "    <tr style=\"text-align: right;\">\n",
       "      <th></th>\n",
       "      <th>followersCount</th>\n",
       "      <th>proposalsCount</th>\n",
       "      <th>votesCount</th>\n",
       "    </tr>\n",
       "  </thead>\n",
       "  <tbody>\n",
       "    <tr>\n",
       "      <th>count</th>\n",
       "      <td>245.000000</td>\n",
       "      <td>245.000000</td>\n",
       "      <td>2.450000e+02</td>\n",
       "    </tr>\n",
       "    <tr>\n",
       "      <th>mean</th>\n",
       "      <td>12399.938776</td>\n",
       "      <td>152.853061</td>\n",
       "      <td>1.293534e+05</td>\n",
       "    </tr>\n",
       "    <tr>\n",
       "      <th>std</th>\n",
       "      <td>65209.787856</td>\n",
       "      <td>333.606993</td>\n",
       "      <td>1.209157e+06</td>\n",
       "    </tr>\n",
       "    <tr>\n",
       "      <th>min</th>\n",
       "      <td>102.000000</td>\n",
       "      <td>21.000000</td>\n",
       "      <td>2.130000e+02</td>\n",
       "    </tr>\n",
       "    <tr>\n",
       "      <th>25%</th>\n",
       "      <td>243.000000</td>\n",
       "      <td>36.000000</td>\n",
       "      <td>1.501000e+03</td>\n",
       "    </tr>\n",
       "    <tr>\n",
       "      <th>50%</th>\n",
       "      <td>652.000000</td>\n",
       "      <td>66.000000</td>\n",
       "      <td>3.471000e+03</td>\n",
       "    </tr>\n",
       "    <tr>\n",
       "      <th>75%</th>\n",
       "      <td>2797.000000</td>\n",
       "      <td>119.000000</td>\n",
       "      <td>1.224000e+04</td>\n",
       "    </tr>\n",
       "    <tr>\n",
       "      <th>max</th>\n",
       "      <td>917335.000000</td>\n",
       "      <td>3725.000000</td>\n",
       "      <td>1.794336e+07</td>\n",
       "    </tr>\n",
       "  </tbody>\n",
       "</table>\n",
       "</div>"
      ],
      "text/plain": [
       "       followersCount  proposalsCount    votesCount\n",
       "count      245.000000      245.000000  2.450000e+02\n",
       "mean     12399.938776      152.853061  1.293534e+05\n",
       "std      65209.787856      333.606993  1.209157e+06\n",
       "min        102.000000       21.000000  2.130000e+02\n",
       "25%        243.000000       36.000000  1.501000e+03\n",
       "50%        652.000000       66.000000  3.471000e+03\n",
       "75%       2797.000000      119.000000  1.224000e+04\n",
       "max     917335.000000     3725.000000  1.794336e+07"
      ]
     },
     "execution_count": 21,
     "metadata": {},
     "output_type": "execute_result"
    }
   ],
   "source": [
    "df_space[['followersCount', 'proposalsCount', 'votesCount']].describe()"
   ]
  },
  {
   "cell_type": "markdown",
   "metadata": {},
   "source": [
    "# 3. Total votes by spaces"
   ]
  },
  {
   "cell_type": "markdown",
   "metadata": {},
   "source": [
    "### Aggregate Vote Counts per Space"
   ]
  },
  {
   "cell_type": "code",
   "execution_count": 22,
   "metadata": {},
   "outputs": [
    {
     "data": {
      "text/plain": [
       "count         2.450000\n",
       "mean       1263.504939\n",
       "std       11998.070901\n",
       "min           0.120000\n",
       "25%           8.470000\n",
       "50%          27.100000\n",
       "75%         110.720000\n",
       "max      177959.240000\n",
       "Name: votes, dtype: float64"
      ]
     },
     "execution_count": 22,
     "metadata": {},
     "output_type": "execute_result"
    }
   ],
   "source": [
    "space_votes = df.groupby('space_id')['votes'].sum()\n",
    "space_votes.describe() / 100 # divide by 100 due to the large numbers"
   ]
  },
  {
   "cell_type": "code",
   "execution_count": 23,
   "metadata": {},
   "outputs": [
    {
     "data": {
      "text/plain": [
       "space_id\n",
       "stgdao.eth                17795924\n",
       "arbitrumfoundation.eth     5289055\n",
       "aave.eth                   3105225\n",
       "cakevote.eth                434550\n",
       "aavegotchi.eth              396624\n",
       "gmx.eth                     305324\n",
       "uniswapgovernance.eth       275334\n",
       "metislayer2.eth             242695\n",
       "speraxdao.eth               213315\n",
       "gitcoindao.eth              180367\n",
       "Name: votes, dtype: int64"
      ]
     },
     "execution_count": 23,
     "metadata": {},
     "output_type": "execute_result"
    }
   ],
   "source": [
    "space_votes.sort_values(ascending=False).head(10)"
   ]
  },
  {
   "cell_type": "markdown",
   "metadata": {},
   "source": [
    "### Rankings: Top 5 and Bottom 5 by Total Votes"
   ]
  },
  {
   "cell_type": "code",
   "execution_count": 24,
   "metadata": {},
   "outputs": [
    {
     "name": "stdout",
     "output_type": "stream",
     "text": [
      "<Top 5>\n",
      "space_id\n",
      "stgdao.eth                1\n",
      "arbitrumfoundation.eth    2\n",
      "aave.eth                  3\n",
      "cakevote.eth              4\n",
      "aavegotchi.eth            5\n",
      "Name: votes, dtype: int32\n",
      "\n",
      "<Bottom 5>\n",
      "space_id\n",
      "insuretoken.eth     241\n",
      "thehong.eth         242\n",
      "xxx.freesubs.eth    243\n",
      "haitang.eth         244\n",
      "01meta.eth          245\n",
      "Name: votes, dtype: int32\n"
     ]
    }
   ],
   "source": [
    "space_votes_rank = space_votes.rank(method='first', ascending=False).astype(int).sort_values(ascending=True)\n",
    "print(\"<Top 5>\")\n",
    "print(space_votes_rank[:5])\n",
    "print()\n",
    "print(\"<Bottom 5>\")\n",
    "print(space_votes_rank[-5:])"
   ]
  },
  {
   "cell_type": "markdown",
   "metadata": {},
   "source": [
    "# 4. Proposal Dates"
   ]
  },
  {
   "cell_type": "markdown",
   "metadata": {},
   "source": [
    "### Number of Proposals per Month - [\"start\", \"end\", \"created\"]\n",
    "- start: proposal start date\n",
    "- end: proposal end date\n",
    "- created: proposal created date"
   ]
  },
  {
   "cell_type": "code",
   "execution_count": 25,
   "metadata": {},
   "outputs": [
    {
     "data": {
      "image/png": "[encoded data removed]",
      "text/plain": [
       "<Figure size 1200x800 with 3 Axes>"
      ]
     },
     "metadata": {},
     "output_type": "display_data"
    }
   ],
   "source": [
    "# First, convert the 'start' column to datetime if it's not already\n",
    "df['start'] = pd.to_datetime(df['start'])\n",
    "df['end'] = pd.to_datetime(df['end'])\n",
    "df['created'] = pd.to_datetime(df['created'])\n",
    "\n",
    "# Extract the month and year from the 'start' column\n",
    "df['year_month_start'] = df['start'].dt.to_period('M')\n",
    "df['year_month_end'] = df['end'].dt.to_period('M')\n",
    "df['year_month_created'] = df['created'].dt.to_period('M')\n",
    "\n",
    "# Now count the number of occurrences per month\n",
    "monthly_counts_start = df['year_month_start'].value_counts().sort_index()\n",
    "monthly_counts_end = df['year_month_end'].value_counts().sort_index()\n",
    "monthly_counts_created = df['year_month_created'].value_counts().sort_index()\n",
    "\n",
    "# Plotting the histogram with less crowded x-axis labels\n",
    "plt.figure(figsize=(12, 8))\n",
    "\n",
    "# First subplot for 'start'\n",
    "plt.subplot(3, 1, 1)\n",
    "monthly_counts_start.plot(kind='bar', color='skyblue', alpha=0.7)\n",
    "plt.xlabel('Month')\n",
    "plt.ylabel('Count of Proposals')\n",
    "plt.title('Number of Proposals per Month - Start', pad=20, fontsize=16)\n",
    "\n",
    "# Second subplot for 'end'\n",
    "plt.subplot(3, 1, 2)\n",
    "monthly_counts_end.plot(kind='bar', color='lightgreen', alpha=0.7)\n",
    "plt.xlabel('Month')\n",
    "plt.ylabel('Count of Proposals')\n",
    "plt.title('Number of Proposals per Month - End', pad=20, fontsize=16)\n",
    "\n",
    "# Third subplot for 'created'\n",
    "plt.subplot(3, 1, 3)\n",
    "monthly_counts_created.plot(kind='bar', color='coral', alpha=0.7)\n",
    "plt.xlabel('Month')\n",
    "plt.ylabel('Count of Proposals')\n",
    "plt.title('The Number of Proposals per Month - Created', pad=20, fontsize=16)\n",
    "\n",
    "plt.tight_layout()\n",
    "plt.show()"
   ]
  },
  {
   "cell_type": "markdown",
   "metadata": {},
   "source": [
    "### Duration of Proposal \n",
    "- Unit: Hour"
   ]
  },
  {
   "cell_type": "code",
   "execution_count": 26,
   "metadata": {},
   "outputs": [
    {
     "data": {
      "text/plain": [
       "count     20918.000000\n",
       "mean        186.032557\n",
       "std        1361.365462\n",
       "min           0.359722\n",
       "25%          72.000000\n",
       "50%          96.920556\n",
       "75%         168.000000\n",
       "max      176653.250000\n",
       "Name: duration, dtype: float64"
      ]
     },
     "execution_count": 26,
     "metadata": {},
     "output_type": "execute_result"
    }
   ],
   "source": [
    "# Calculate the duration for each proposal\n",
    "df['duration'] = (df['end'] - df['start']).dt.total_seconds() / 3600  # Convert to hours\n",
    "df[\"duration\"].describe()"
   ]
  },
  {
   "cell_type": "markdown",
   "metadata": {},
   "source": [
    "Remove the top and bottom 5% of the duration values"
   ]
  },
  {
   "cell_type": "code",
   "execution_count": 27,
   "metadata": {},
   "outputs": [
    {
     "data": {
      "text/plain": [
       "count    18321.000000\n",
       "mean       112.858122\n",
       "std         52.572517\n",
       "min         37.498611\n",
       "25%         72.000000\n",
       "50%         96.000000\n",
       "75%        167.971389\n",
       "max        335.995833\n",
       "Name: duration, dtype: float64"
      ]
     },
     "execution_count": 27,
     "metadata": {},
     "output_type": "execute_result"
    }
   ],
   "source": [
    "top = df[\"duration\"].quantile(0.95)\n",
    "bottom = df[\"duration\"].quantile(0.05)\n",
    "simple_duration = df[(df[\"duration\"] > bottom) & (df[\"duration\"] < top)][\"duration\"]\n",
    "simple_duration.describe()"
   ]
  },
  {
   "cell_type": "code",
   "execution_count": 28,
   "metadata": {},
   "outputs": [
    {
     "data": {
      "image/png": "[encoded data removed]",
      "text/plain": [
       "<Figure size 1200x600 with 1 Axes>"
      ]
     },
     "metadata": {},
     "output_type": "display_data"
    }
   ],
   "source": [
    "plt.figure(figsize=(12, 6))\n",
    "plt.hist(simple_duration, bins=150, color='skyblue', edgecolor='black',)\n",
    "plt.xlabel('Duration (Hours)')\n",
    "plt.ylabel('Number of Proposals')\n",
    "plt.title('Distribution of Proposal Durations after Removing Outliers (5% on Each Side)',\n",
    "            pad=20, fontsize=16)\n",
    "plt.show()"
   ]
  }
 ],
 "metadata": {
  "kernelspec": {
   "display_name": "Python 3",
   "language": "python",
   "name": "python3"
  },
  "language_info": {
   "codemirror_mode": {
    "name": "ipython",
    "version": 3
   },
   "file_extension": ".py",
   "mimetype": "text/x-python",
   "name": "python",
   "nbconvert_exporter": "python",
   "pygments_lexer": "ipython3",
   "version": "3.10.5"
  }
 },
 "nbformat": 4,
 "nbformat_minor": 2
}
