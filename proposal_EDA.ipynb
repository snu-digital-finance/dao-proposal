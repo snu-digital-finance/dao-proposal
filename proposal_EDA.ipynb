{
 "cells": [
  {
   "cell_type": "code",
   "execution_count": 1,
   "metadata": {},
   "outputs": [],
   "source": [
    "import pandas as pd\n",
    "import numpy as np\n",
    "import matplotlib.pyplot as plt\n",
    "\n",
    "df = pd.read_excel('proposals_preprocess_0812_cleaned.xlsx')"
   ]
  },
  {
   "cell_type": "markdown",
   "metadata": {},
   "source": [
    "# 1. Intro: Simple Statistics of Proposal Dataset"
   ]
  },
  {
   "cell_type": "markdown",
   "metadata": {},
   "source": [
    "- Total rows: 20750\n",
    "  - Before removing similar proposals: 20918\n",
    "\n",
    "- Columns"
   ]
  },
  {
   "cell_type": "code",
   "execution_count": 2,
   "metadata": {},
   "outputs": [
    {
     "data": {
      "text/plain": [
       "((20750, 39),\n",
       " Index(['id', 'end', 'app', 'ipfs', 'type', 'body', 'link', 'title', 'start',\n",
       "        'state', 'votes', 'author', 'symbol', 'quorum', 'scores', 'created',\n",
       "        'updated', 'network', 'plugins', 'choices', 'privacy', 'flagged',\n",
       "        'snapshot', 'strategies', 'validation', 'discussion', 'quorumType',\n",
       "        '__typename', 'scores_state', 'scores_total', 'scores_updated',\n",
       "        'scores_by_strategy', 'space_id', 'lang', 'Class A', 'Class B',\n",
       "        'Class C', 'body_lower', 'title_lower'],\n",
       "       dtype='object'))"
      ]
     },
     "execution_count": 2,
     "metadata": {},
     "output_type": "execute_result"
    }
   ],
   "source": [
    "df.shape, df.columns"
   ]
  },
  {
   "cell_type": "markdown",
   "metadata": {},
   "source": [
    "### Columns Containing NaN Values"
   ]
  },
  {
   "cell_type": "code",
   "execution_count": 3,
   "metadata": {},
   "outputs": [
    {
     "name": "stdout",
     "output_type": "stream",
     "text": [
      "app 8707\n",
      "symbol 4999\n",
      "updated 20563\n",
      "privacy 20119\n",
      "discussion 13309\n",
      "scores_state 9\n",
      "Class A 20488\n",
      "Class B 20519\n"
     ]
    }
   ],
   "source": [
    "for c in df.columns[:-3]:\n",
    "    x = df[c].isna().sum()\n",
    "    if x > 0:\n",
    "        print(c, x)"
   ]
  },
  {
   "cell_type": "markdown",
   "metadata": {},
   "source": [
    "### Columns That Are Nearly Empty"
   ]
  },
  {
   "cell_type": "code",
   "execution_count": 4,
   "metadata": {},
   "outputs": [
    {
     "name": "stdout",
     "output_type": "stream",
     "text": [
      "plugins {} 20428\n",
      "\n",
      "validation {'params': {}} 20433\n",
      "\n",
      "quorum 0.0 15931\n",
      "\n"
     ]
    }
   ],
   "source": [
    "for c in [\"plugins\", \"validation\", \"quorum\"]:\n",
    "    temp = df[c].value_counts() \n",
    "    print(c, temp.index[0], temp[0])\n",
    "    print()"
   ]
  },
  {
   "cell_type": "markdown",
   "metadata": {},
   "source": [
    "### Sample data"
   ]
  },
  {
   "cell_type": "code",
   "execution_count": 5,
   "metadata": {},
   "outputs": [
    {
     "data": {
      "text/plain": [
       "id                    0x89f4f8ea61c728fbb6e60fc97826fd955dbeb9e3e7d6...\n",
       "end                                                 2023-06-27 20:46:00\n",
       "app                                                            snapshot\n",
       "ipfs                  bafkreidwgmggjxoxvlzhzy6fgxnzx3doxwifb3x6yzoug...\n",
       "type                                                      single-choice\n",
       "body                  Summary:\\nThe proposal is to remove the old sd...\n",
       "link                  https://snapshot.org/#/stakedao.eth/proposal/0...\n",
       "title                 #SDGP 16 - Remove old sdTKN/TKN curve gauges f...\n",
       "start                                               2023-06-22 20:46:51\n",
       "state                                                            closed\n",
       "votes                                                                22\n",
       "author                       0x41717436744232Fb66E85fFAf388a8a33BC7397a\n",
       "symbol                                                            veSDT\n",
       "quorum                                                              0.0\n",
       "scores                                        [2233745.925800096, 0, 0]\n",
       "created                                             2023-06-22 20:47:52\n",
       "updated                                                             NaN\n",
       "network                                                               1\n",
       "plugins                                                              {}\n",
       "choices               ['Yes, remove it', 'No, don’t remove it', 'Abs...\n",
       "privacy                                                             NaN\n",
       "flagged                                                           False\n",
       "snapshot                                                       17534949\n",
       "strategies            [{'network': '1', 'params': {'symbol': 'veSDT'...\n",
       "validation                                               {'params': {}}\n",
       "discussion                                                          NaN\n",
       "quorumType                                                      default\n",
       "__typename                                                     Proposal\n",
       "scores_state                                                      final\n",
       "scores_total                                               2233745.9258\n",
       "scores_updated                                               1687866372\n",
       "scores_by_strategy                      [[2233745.925800096], [0], [0]]\n",
       "space_id                                                   stakedao.eth\n",
       "lang                                                                 en\n",
       "Class A                                                             NaN\n",
       "Class B                                                             NaN\n",
       "Class C                                                             NaN\n",
       "body_lower            summary \\nthe proposal is to remove the old sd...\n",
       "title_lower           #sdgp 16 - remove old sdtkn/tkn curve gauges f...\n",
       "Name: 100, dtype: object"
      ]
     },
     "execution_count": 5,
     "metadata": {},
     "output_type": "execute_result"
    }
   ],
   "source": [
    "df.iloc[100]"
   ]
  },
  {
   "cell_type": "code",
   "execution_count": 6,
   "metadata": {},
   "outputs": [
    {
     "data": {
      "text/html": [
       "<div>\n",
       "<style scoped>\n",
       "    .dataframe tbody tr th:only-of-type {\n",
       "        vertical-align: middle;\n",
       "    }\n",
       "\n",
       "    .dataframe tbody tr th {\n",
       "        vertical-align: top;\n",
       "    }\n",
       "\n",
       "    .dataframe thead th {\n",
       "        text-align: right;\n",
       "    }\n",
       "</style>\n",
       "<table border=\"1\" class=\"dataframe\">\n",
       "  <thead>\n",
       "    <tr style=\"text-align: right;\">\n",
       "      <th></th>\n",
       "      <th>id</th>\n",
       "      <th>end</th>\n",
       "      <th>app</th>\n",
       "      <th>ipfs</th>\n",
       "      <th>type</th>\n",
       "      <th>body</th>\n",
       "      <th>link</th>\n",
       "      <th>title</th>\n",
       "      <th>start</th>\n",
       "      <th>state</th>\n",
       "      <th>...</th>\n",
       "      <th>scores_total</th>\n",
       "      <th>scores_updated</th>\n",
       "      <th>scores_by_strategy</th>\n",
       "      <th>space_id</th>\n",
       "      <th>lang</th>\n",
       "      <th>Class A</th>\n",
       "      <th>Class B</th>\n",
       "      <th>Class C</th>\n",
       "      <th>body_lower</th>\n",
       "      <th>title_lower</th>\n",
       "    </tr>\n",
       "  </thead>\n",
       "  <tbody>\n",
       "    <tr>\n",
       "      <th>0</th>\n",
       "      <td>0xab8d72078b8146091ba0c28bb73d34263f7678f1a973...</td>\n",
       "      <td>2024-02-12 20:33:00</td>\n",
       "      <td>decentraland-governance</td>\n",
       "      <td>bafkreifcsoflgpysjp6hkhtkous64sextisaozfclojfq...</td>\n",
       "      <td>single-choice</td>\n",
       "      <td>(AGA)\\nShould the following $100,000 grant i...</td>\n",
       "      <td>https://snapshot.org/#/snapshot.dcl.eth/propos...</td>\n",
       "      <td>\"EmpathyVision\".  Bridging Communities for peo...</td>\n",
       "      <td>2024-01-29 20:33:00</td>\n",
       "      <td>closed</td>\n",
       "      <td>...</td>\n",
       "      <td>1.680106e+07</td>\n",
       "      <td>1708004204</td>\n",
       "      <td>[[0, 4000, 0, 3.805217354170137, 300, 0, 100, ...</td>\n",
       "      <td>snapshot.dcl.eth</td>\n",
       "      <td>en</td>\n",
       "      <td>NaN</td>\n",
       "      <td>NaN</td>\n",
       "      <td>NaN</td>\n",
       "      <td>aga \\nshould the following  100 000 grant in t...</td>\n",
       "      <td>\"empathyvision\".  bridging communities for peo...</td>\n",
       "    </tr>\n",
       "    <tr>\n",
       "      <th>1</th>\n",
       "      <td>QmbyTP2pemJae9XbX8UNWEydhdTKw9xCFR7SFTKeowXizo</td>\n",
       "      <td>2021-09-30 08:45:00</td>\n",
       "      <td>NaN</td>\n",
       "      <td>QmbyTP2pemJae9XbX8UNWEydhdTKw9xCFR7SFTKeowXizo</td>\n",
       "      <td>single-choice</td>\n",
       "      <td>I've thought it would be interesting to use Ch...</td>\n",
       "      <td>https://snapshot.org/#/aavegotchi.eth/proposal...</td>\n",
       "      <td>\"Goodie Bags\" (Portals) for Wearables</td>\n",
       "      <td>2021-09-02 08:45:00</td>\n",
       "      <td>closed</td>\n",
       "      <td>...</td>\n",
       "      <td>5.034102e+06</td>\n",
       "      <td>1636757389</td>\n",
       "      <td>[[1447799.037800684, 2283644, 55787.5905787104...</td>\n",
       "      <td>aavegotchi.eth</td>\n",
       "      <td>en</td>\n",
       "      <td>NaN</td>\n",
       "      <td>NaN</td>\n",
       "      <td>NaN</td>\n",
       "      <td>i ve thought it would be interesting to use ch...</td>\n",
       "      <td>\"goodie bags\" (portals) for wearables</td>\n",
       "    </tr>\n",
       "    <tr>\n",
       "      <th>2</th>\n",
       "      <td>0x872bfadf89dee5dcea47992b94ebff05bd24dcf9a02d...</td>\n",
       "      <td>2023-06-09 20:50:46</td>\n",
       "      <td>snapshot</td>\n",
       "      <td>bafkreibhim56meukyl3gehpatuh75gmo3f4hanrcr5sxy...</td>\n",
       "      <td>basic</td>\n",
       "      <td># TL;DR\\n*Requesting 0.69 ETH commission and V...</td>\n",
       "      <td>https://snapshot.org/#/gnars.eth/proposal/0x87...</td>\n",
       "      <td>\"Pixel 189\" - a Gnars Pixelord Commission wort...</td>\n",
       "      <td>2023-06-06 20:50:46</td>\n",
       "      <td>closed</td>\n",
       "      <td>...</td>\n",
       "      <td>4.630000e+02</td>\n",
       "      <td>1686311455</td>\n",
       "      <td>[[169, 207], [60, 19], [8, 0]]</td>\n",
       "      <td>gnars.eth</td>\n",
       "      <td>en</td>\n",
       "      <td>NaN</td>\n",
       "      <td>NaN</td>\n",
       "      <td>NaN</td>\n",
       "      <td>tl dr\\n requesting 0 69 eth commission and vot...</td>\n",
       "      <td>\"pixel 189\" - a gnars pixelord commission wort...</td>\n",
       "    </tr>\n",
       "    <tr>\n",
       "      <th>3</th>\n",
       "      <td>QmZZNMgwz2yAsmcSSZeqUqETNbp84KinkvPZpecv2Gx25w</td>\n",
       "      <td>2020-09-12 21:00:00</td>\n",
       "      <td>NaN</td>\n",
       "      <td>QmZZNMgwz2yAsmcSSZeqUqETNbp84KinkvPZpecv2Gx25w</td>\n",
       "      <td>single-choice</td>\n",
       "      <td>Dark mode is a must to have on any website in ...</td>\n",
       "      <td>https://snapshot.org/#/sushigov.eth/proposal/Q...</td>\n",
       "      <td>\"Seaweed mode\" (Dark mode)</td>\n",
       "      <td>2020-09-10 21:00:00</td>\n",
       "      <td>closed</td>\n",
       "      <td>...</td>\n",
       "      <td>1.332321e+03</td>\n",
       "      <td>1636667979</td>\n",
       "      <td>[[1332.3211264507845], [0]]</td>\n",
       "      <td>sushigov.eth</td>\n",
       "      <td>en</td>\n",
       "      <td>NaN</td>\n",
       "      <td>NaN</td>\n",
       "      <td>NaN</td>\n",
       "      <td>dark mode is a must to have on any website in ...</td>\n",
       "      <td>\"seaweed mode\" (dark mode)</td>\n",
       "    </tr>\n",
       "    <tr>\n",
       "      <th>4</th>\n",
       "      <td>0xe3acdc622e4a9dafe1d14cc8766b5c0c97fc47004746...</td>\n",
       "      <td>2024-06-09 18:04:57</td>\n",
       "      <td>snapshot</td>\n",
       "      <td>bafkreibih33eegb2blf3h7odyn7bvizy7symawvo3ofrb...</td>\n",
       "      <td>single-choice</td>\n",
       "      <td>Swapr proposes to deploy a SHU/USDC pool in Sw...</td>\n",
       "      <td>https://snapshot.org/#/shutterdao0x36.eth/prop...</td>\n",
       "      <td>\"Temp Check\" - Deploy a SHU/USDC Pool in Swapr...</td>\n",
       "      <td>2024-06-06 18:04:57</td>\n",
       "      <td>closed</td>\n",
       "      <td>...</td>\n",
       "      <td>3.544875e+07</td>\n",
       "      <td>1717923907</td>\n",
       "      <td>[[29902617.138216257], [1086.95652173913], [55...</td>\n",
       "      <td>shutterdao0x36.eth</td>\n",
       "      <td>en</td>\n",
       "      <td>NaN</td>\n",
       "      <td>NaN</td>\n",
       "      <td>NaN</td>\n",
       "      <td>swapr proposes to deploy a shu usdc pool in sw...</td>\n",
       "      <td>\"temp check\" - deploy a shu/usdc pool in swapr...</td>\n",
       "    </tr>\n",
       "  </tbody>\n",
       "</table>\n",
       "<p>5 rows × 39 columns</p>\n",
       "</div>"
      ],
      "text/plain": [
       "                                                  id                 end  \\\n",
       "0  0xab8d72078b8146091ba0c28bb73d34263f7678f1a973... 2024-02-12 20:33:00   \n",
       "1     QmbyTP2pemJae9XbX8UNWEydhdTKw9xCFR7SFTKeowXizo 2021-09-30 08:45:00   \n",
       "2  0x872bfadf89dee5dcea47992b94ebff05bd24dcf9a02d... 2023-06-09 20:50:46   \n",
       "3     QmZZNMgwz2yAsmcSSZeqUqETNbp84KinkvPZpecv2Gx25w 2020-09-12 21:00:00   \n",
       "4  0xe3acdc622e4a9dafe1d14cc8766b5c0c97fc47004746... 2024-06-09 18:04:57   \n",
       "\n",
       "                       app                                               ipfs  \\\n",
       "0  decentraland-governance  bafkreifcsoflgpysjp6hkhtkous64sextisaozfclojfq...   \n",
       "1                      NaN     QmbyTP2pemJae9XbX8UNWEydhdTKw9xCFR7SFTKeowXizo   \n",
       "2                 snapshot  bafkreibhim56meukyl3gehpatuh75gmo3f4hanrcr5sxy...   \n",
       "3                      NaN     QmZZNMgwz2yAsmcSSZeqUqETNbp84KinkvPZpecv2Gx25w   \n",
       "4                 snapshot  bafkreibih33eegb2blf3h7odyn7bvizy7symawvo3ofrb...   \n",
       "\n",
       "            type                                               body  \\\n",
       "0  single-choice    (AGA)\\nShould the following $100,000 grant i...   \n",
       "1  single-choice  I've thought it would be interesting to use Ch...   \n",
       "2          basic  # TL;DR\\n*Requesting 0.69 ETH commission and V...   \n",
       "3  single-choice  Dark mode is a must to have on any website in ...   \n",
       "4  single-choice  Swapr proposes to deploy a SHU/USDC pool in Sw...   \n",
       "\n",
       "                                                link  \\\n",
       "0  https://snapshot.org/#/snapshot.dcl.eth/propos...   \n",
       "1  https://snapshot.org/#/aavegotchi.eth/proposal...   \n",
       "2  https://snapshot.org/#/gnars.eth/proposal/0x87...   \n",
       "3  https://snapshot.org/#/sushigov.eth/proposal/Q...   \n",
       "4  https://snapshot.org/#/shutterdao0x36.eth/prop...   \n",
       "\n",
       "                                               title               start  \\\n",
       "0  \"EmpathyVision\".  Bridging Communities for peo... 2024-01-29 20:33:00   \n",
       "1              \"Goodie Bags\" (Portals) for Wearables 2021-09-02 08:45:00   \n",
       "2  \"Pixel 189\" - a Gnars Pixelord Commission wort... 2023-06-06 20:50:46   \n",
       "3                        \"Seaweed mode\" (Dark mode)  2020-09-10 21:00:00   \n",
       "4  \"Temp Check\" - Deploy a SHU/USDC Pool in Swapr... 2024-06-06 18:04:57   \n",
       "\n",
       "    state  ...  scores_total scores_updated  \\\n",
       "0  closed  ...  1.680106e+07     1708004204   \n",
       "1  closed  ...  5.034102e+06     1636757389   \n",
       "2  closed  ...  4.630000e+02     1686311455   \n",
       "3  closed  ...  1.332321e+03     1636667979   \n",
       "4  closed  ...  3.544875e+07     1717923907   \n",
       "\n",
       "                                  scores_by_strategy            space_id lang  \\\n",
       "0  [[0, 4000, 0, 3.805217354170137, 300, 0, 100, ...    snapshot.dcl.eth   en   \n",
       "1  [[1447799.037800684, 2283644, 55787.5905787104...      aavegotchi.eth   en   \n",
       "2                     [[169, 207], [60, 19], [8, 0]]           gnars.eth   en   \n",
       "3                        [[1332.3211264507845], [0]]        sushigov.eth   en   \n",
       "4  [[29902617.138216257], [1086.95652173913], [55...  shutterdao0x36.eth   en   \n",
       "\n",
       "  Class A  Class B  Class C  \\\n",
       "0     NaN      NaN      NaN   \n",
       "1     NaN      NaN      NaN   \n",
       "2     NaN      NaN      NaN   \n",
       "3     NaN      NaN      NaN   \n",
       "4     NaN      NaN      NaN   \n",
       "\n",
       "                                          body_lower  \\\n",
       "0  aga \\nshould the following  100 000 grant in t...   \n",
       "1  i ve thought it would be interesting to use ch...   \n",
       "2  tl dr\\n requesting 0 69 eth commission and vot...   \n",
       "3  dark mode is a must to have on any website in ...   \n",
       "4  swapr proposes to deploy a shu usdc pool in sw...   \n",
       "\n",
       "                                         title_lower  \n",
       "0  \"empathyvision\".  bridging communities for peo...  \n",
       "1              \"goodie bags\" (portals) for wearables  \n",
       "2  \"pixel 189\" - a gnars pixelord commission wort...  \n",
       "3                         \"seaweed mode\" (dark mode)  \n",
       "4  \"temp check\" - deploy a shu/usdc pool in swapr...  \n",
       "\n",
       "[5 rows x 39 columns]"
      ]
     },
     "execution_count": 6,
     "metadata": {},
     "output_type": "execute_result"
    }
   ],
   "source": [
    "df.head()"
   ]
  },
  {
   "cell_type": "markdown",
   "metadata": {},
   "source": [
    "### Columns with Nearly Identical Values"
   ]
  },
  {
   "cell_type": "code",
   "execution_count": 7,
   "metadata": {},
   "outputs": [
    {
     "name": "stdout",
     "output_type": "stream",
     "text": [
      "default    20750\n",
      "Name: quorumType, dtype: int64\n",
      "\n",
      "final    20741\n",
      "Name: scores_state, dtype: int64\n",
      "\n",
      "Proposal    20750\n",
      "Name: __typename, dtype: int64\n",
      "\n",
      "closed    20750\n",
      "Name: state, dtype: int64\n",
      "\n",
      "en    20750\n",
      "Name: lang, dtype: int64\n",
      "\n",
      "shutter    631\n",
      "Name: privacy, dtype: int64\n",
      "\n"
     ]
    }
   ],
   "source": [
    "for c in [\"quorumType\", \"scores_state\", \"__typename\", \"state\", \"lang\"]:\n",
    "    print(df[c].value_counts())\n",
    "    print()\n",
    "\n",
    "# 단, privacy는 대부분 null "
   ]
  },
  {
   "cell_type": "markdown",
   "metadata": {},
   "source": [
    "### Count of Each Value in the Specified Column"
   ]
  },
  {
   "cell_type": "code",
   "execution_count": 8,
   "metadata": {},
   "outputs": [
    {
     "data": {
      "text/plain": [
       "0x5E23D08324f017d5425e59A2782C9ae27aCE0958    1230\n",
       "0xBB7B59Afa3A0E5Be143b8fE9C641F00c1ecB9d69    1071\n",
       "0x724061efDFef4a421e8be05133ad24922D07b5Bf     322\n",
       "0xc3d6f21c79C2567A1858d8b93a4EDBD9dB399d9d     315\n",
       "0xFAD69Bd739c64cC8e3f1C3bb3B60fe4f160174Cc     294\n",
       "                                              ... \n",
       "0xA7F63376169ccC087EB1160E62ceCcB146C1d555       1\n",
       "0xB357E7575a780980E4ceE86654A6aCd0cC13b77f       1\n",
       "0x7e9ec322bd8CDB9c0e8585B1EbEf8b85e2C17767       1\n",
       "0x462D986C59f47599ae2884162C9b8d87b3FAAa6f       1\n",
       "0x63009AE2Bad374C3aDACa32c220F704581363aF4       1\n",
       "Name: author, Length: 3409, dtype: int64"
      ]
     },
     "execution_count": 8,
     "metadata": {},
     "output_type": "execute_result"
    }
   ],
   "source": [
    "df[\"author\"].value_counts()"
   ]
  },
  {
   "cell_type": "code",
   "execution_count": 9,
   "metadata": {},
   "outputs": [
    {
     "data": {
      "text/plain": [
       "count    3409.000000\n",
       "mean        6.086829\n",
       "std        32.697048\n",
       "min         1.000000\n",
       "25%         1.000000\n",
       "50%         1.000000\n",
       "75%         3.000000\n",
       "max      1230.000000\n",
       "Name: author, dtype: float64"
      ]
     },
     "execution_count": 9,
     "metadata": {},
     "output_type": "execute_result"
    }
   ],
   "source": [
    "df[\"author\"].value_counts().describe()"
   ]
  },
  {
   "cell_type": "code",
   "execution_count": 10,
   "metadata": {},
   "outputs": [
    {
     "data": {
      "text/plain": [
       "[0, 0]                                                         28\n",
       "[12, 0]                                                        13\n",
       "[1090149.7629480332, 0, 2000342.6]                             12\n",
       "[12, 0, 0]                                                     12\n",
       "[895035.2139744707, 0, 2000342.6]                              11\n",
       "                                                               ..\n",
       "[97, 1439]                                                      1\n",
       "[49, 1472]                                                      1\n",
       "[2, 444, 0, 0]                                                  1\n",
       "[1027, 12]                                                      1\n",
       "[21551.668878425327, 5536832.137618381, 1113471.6192419045]     1\n",
       "Name: scores, Length: 20354, dtype: int64"
      ]
     },
     "execution_count": 10,
     "metadata": {},
     "output_type": "execute_result"
    }
   ],
   "source": [
    "df[\"scores\"].value_counts()"
   ]
  },
  {
   "cell_type": "code",
   "execution_count": 11,
   "metadata": {},
   "outputs": [
    {
     "data": {
      "text/plain": [
       "1        15920\n",
       "56        2299\n",
       "137        897\n",
       "42161      577\n",
       "250        274\n",
       "1088       244\n",
       "1284       204\n",
       "100        102\n",
       "43114       79\n",
       "592         50\n",
       "2400        47\n",
       "10          34\n",
       "321         17\n",
       "324          3\n",
       "4            2\n",
       "8453         1\n",
       "Name: network, dtype: int64"
      ]
     },
     "execution_count": 11,
     "metadata": {},
     "output_type": "execute_result"
    }
   ],
   "source": [
    "df[\"network\"].value_counts()"
   ]
  },
  {
   "cell_type": "code",
   "execution_count": 12,
   "metadata": {},
   "outputs": [
    {
     "data": {
      "text/plain": [
       "['for', 'against', 'abstain']                                                                3065\n",
       "['yes', 'no']                                                                                3000\n",
       "['for', 'against']                                                                           1646\n",
       "['yes', 'no', 'abstain']                                                                     1239\n",
       "['yae', 'nay', 'abstain']                                                                     401\n",
       "                                                                                             ... \n",
       "['option 1', 'option 2 ', 'keep it as it is ']                                                  1\n",
       "['yes, free my cake', 'no, i would rather pay bail.']                                           1\n",
       "['stop the migration in two months', \"don't stop the migration\", \"let's discuss further\"]       1\n",
       "['yes - approve grant request', 'no - do not approve']                                          1\n",
       "['yes - lets do it', 'no - we have a better idea', 'invalid question/options']                  1\n",
       "Name: choices, Length: 7325, dtype: int64"
      ]
     },
     "execution_count": 12,
     "metadata": {},
     "output_type": "execute_result"
    }
   ],
   "source": [
    "df[\"choices\"].str.lower().value_counts()"
   ]
  },
  {
   "cell_type": "code",
   "execution_count": 13,
   "metadata": {},
   "outputs": [
    {
     "data": {
      "text/plain": [
       "[{'network': '56', 'params': {'symbol': 'CAKE', 'address': '0x0E09FaBB73Bd3Ade0a17ECC321fD13a19e81cE82', 'decimals': 18}}]                                                                                                                                                                                                                                                                                                                                                                                                                                                                                                                                                                                                                                                                                                                                                                                                                                                                                                                                                                                                                                                                                                                                                                                                                                                                                                                                                                                                                                                                                                                                                                                                                                                                                                                                                                                                                                                                                                                                                                                                                                                                                                                                                                                                                                                                                                                                                                                                                                                                                                                                                                                                                                                                                                                                                                                                                                                                                                                                                                                                                                                                                                                                                                                                                                                                                                                                                                                                                                                                                                                                                                                                                                                                                                                                                                                                                   1491\n",
       "[{'network': '1', 'params': {'symbol': 'WMANA', 'address': '0xfd09cf7cfffa9932e33668311c4777cb9db3c9be', 'decimals': 18}}, {'network': '1', 'params': {'symbol': 'LAND', 'address': '0xf87e31492faf9a91b02ee0deaad50d51d56d5d4d', 'multiplier': 2000}}, {'network': '1', 'params': {'symbol': 'ESTATE', 'address': '0x959e104e1a4db6317fa58f8295f586e1a978c297', 'multiplier': 2000}}, {'network': '1', 'params': {'name': 'multichain', 'graphs': {'137': 'https://api.thegraph.com/subgraphs/name/decentraland/blocks-matic-mainnet'}, 'symbol': 'MANA', 'strategies': [{'name': 'erc20-balance-of', 'params': {'address': '0x0f5d2fb29fb7d3cfee444a200298f468908cc942', 'decimals': 18}, 'network': '1'}, {'name': 'erc20-balance-of', 'params': {'address': '0xA1c57f48F0Deb89f569dFbE6E2B7f46D33606fD4', 'decimals': 18}, 'network': '137'}]}}, {'network': '1', 'params': {'symbol': 'NAMES', 'address': '0x2a187453064356c898cae034eaed119e1663acb8', 'multiplier': 100}}, {'network': '1', 'params': {'symbol': 'VP (delegated)', 'strategies': [{'name': 'erc20-balance-of', 'params': {'symbol': 'WMANA', 'address': '0xfd09cf7cfffa9932e33668311c4777cb9db3c9be', 'decimals': 18}}, {'name': 'erc721-with-multiplier', 'params': {'symbol': 'LAND', 'address': '0xf87e31492faf9a91b02ee0deaad50d51d56d5d4d', 'multiplier': 2000}}, {'name': 'decentraland-estate-size', 'params': {'symbol': 'ESTATE', 'address': '0x959e104e1a4db6317fa58f8295f586e1a978c297', 'multiplier': 2000}}, {'name': 'multichain', 'params': {'name': 'multichain', 'graphs': {'137': 'https://api.thegraph.com/subgraphs/name/decentraland/blocks-matic-mainnet'}, 'symbol': 'MANA', 'strategies': [{'name': 'erc20-balance-of', 'params': {'address': '0x0f5d2fb29fb7d3cfee444a200298f468908cc942', 'decimals': 18}, 'network': '1'}, {'name': 'erc20-balance-of', 'params': {'address': '0xA1c57f48F0Deb89f569dFbE6E2B7f46D33606fD4', 'decimals': 18}, 'network': '137'}]}}, {'name': 'erc721-with-multiplier', 'params': {'symbol': 'NAMES', 'address': '0x2a187453064356c898cae034eaed119e1663acb8', 'multiplier': 100}}]}}]                                                                                                                                                                                                                                                                                                                                                                                                                                                                                                                                                                                                                                                                                                                                                                                                                                                                                                                                                                                                                                                                                                                                                                                                                                                                                                                                                                                                                                                                                                                                                                                                                                                                                                                                                                                                                        995\n",
       "[{'network': '1', 'params': {'symbol': 'WMANA', 'address': '0xfd09cf7cfffa9932e33668311c4777cb9db3c9be', 'decimals': 18}}, {'network': '1', 'params': {'symbol': 'LAND', 'address': '0xf87e31492faf9a91b02ee0deaad50d51d56d5d4d', 'multiplier': 2000}}, {'network': '1', 'params': {'symbol': 'ESTATE', 'address': '0x959e104e1a4db6317fa58f8295f586e1a978c297', 'multiplier': 2000}}, {'network': '1', 'params': {'name': 'multichain', 'graphs': {'137': 'https://api.thegraph.com/subgraphs/name/decentraland/blocks-matic-mainnet'}, 'symbol': 'MANA', 'strategies': [{'name': 'erc20-balance-of', 'params': {'address': '0x0f5d2fb29fb7d3cfee444a200298f468908cc942', 'decimals': 18}, 'network': '1'}, {'name': 'erc20-balance-of', 'params': {'address': '0xA1c57f48F0Deb89f569dFbE6E2B7f46D33606fD4', 'decimals': 18}, 'network': '137'}]}}, {'network': '1', 'params': {'symbol': 'NAMES', 'address': '0x2a187453064356c898cae034eaed119e1663acb8', 'multiplier': 100}}, {'network': '1', 'params': {'symbol': 'VP (delegated)', 'strategies': [{'name': 'erc20-balance-of', 'params': {'symbol': 'WMANA', 'address': '0xfd09cf7cfffa9932e33668311c4777cb9db3c9be', 'decimals': 18}}, {'name': 'erc721-with-multiplier', 'params': {'symbol': 'LAND', 'address': '0xf87e31492faf9a91b02ee0deaad50d51d56d5d4d', 'multiplier': 2000}}, {'name': 'decentraland-estate-size', 'params': {'symbol': 'ESTATE', 'address': '0x959e104e1a4db6317fa58f8295f586e1a978c297', 'multiplier': 2000}}, {'name': 'multichain', 'params': {'name': 'multichain', 'graphs': {'137': 'https://api.thegraph.com/subgraphs/name/decentraland/blocks-matic-mainnet'}, 'symbol': 'MANA', 'strategies': [{'name': 'erc20-balance-of', 'params': {'address': '0x0f5d2fb29fb7d3cfee444a200298f468908cc942', 'decimals': 18}, 'network': '1'}, {'name': 'erc20-balance-of', 'params': {'address': '0xA1c57f48F0Deb89f569dFbE6E2B7f46D33606fD4', 'decimals': 18}, 'network': '137'}]}}, {'name': 'erc721-with-multiplier', 'params': {'symbol': 'NAMES', 'address': '0x2a187453064356c898cae034eaed119e1663acb8', 'multiplier': 100}}, {'name': 'decentraland-wearable-rarity', 'params': {'symbol': 'WEARABLE', 'collections': ['0x32b7495895264ac9d0b12d32afd435453458b1c6', '0xd35147be6401dcb20811f2104c33de8e97ed6818', '0xc04528c14c8ffd84c7c1fb6719b4a89853035cdd', '0xc1f4b0eea2bd6690930e6c66efd3e197d620b9c2', '0xf64dc33a192e056bb5f0e5049356a0498b502d50', '0xc3af02c0fd486c8e9da5788b915d6fff3f049866'], 'multipliers': {'epic': 10, 'rare': 5, 'mythic': 1000, 'uncommon': 1, 'legendary': 100}}}, {'name': 'decentraland-rental-lessors', 'params': {'symbol': 'RENTAL', 'addresses': {'land': '0xf87e31492faf9a91b02ee0deaad50d51d56d5d4d', 'estate': '0x959e104e1a4db6317fa58f8295f586e1a978c297'}, 'subgraphs': {'rentals': 'https://api.thegraph.com/subgraphs/name/decentraland/rentals-ethereum-mainnet', 'marketplace': 'https://api.thegraph.com/subgraphs/name/decentraland/marketplace'}, 'multipliers': {'land': 2000, 'estateSize': 2000}}}]}}, {'network': '1', 'params': {'symbol': 'WEARABLE', 'collections': ['0x32b7495895264ac9d0b12d32afd435453458b1c6', '0xd35147be6401dcb20811f2104c33de8e97ed6818', '0xc04528c14c8ffd84c7c1fb6719b4a89853035cdd', '0xc1f4b0eea2bd6690930e6c66efd3e197d620b9c2', '0xf64dc33a192e056bb5f0e5049356a0498b502d50', '0xc3af02c0fd486c8e9da5788b915d6fff3f049866'], 'multipliers': {'epic': 10, 'rare': 5, 'mythic': 1000, 'uncommon': 1, 'legendary': 100}}}, {'network': '1', 'params': {'symbol': 'RENTAL', 'addresses': {'land': '0xf87e31492faf9a91b02ee0deaad50d51d56d5d4d', 'estate': '0x959e104e1a4db6317fa58f8295f586e1a978c297'}, 'subgraphs': {'rentals': 'https://api.thegraph.com/subgraphs/name/decentraland/rentals-ethereum-mainnet', 'marketplace': 'https://api.thegraph.com/subgraphs/name/decentraland/marketplace'}, 'multipliers': {'land': 2000, 'estateSize': 2000}}}]     956\n",
       "[{'network': '1', 'params': {'symbol': 'vBNT', 'address': '0x892f481BD6E9d7D26aE365211D9B45175d5D00e4', 'decimals': 18, 'methodABI': {'name': 'votesOf', 'type': 'function', 'inputs': [{'name': '_voter', 'type': 'address', 'internalType': 'address'}], 'outputs': [{'name': '', 'type': 'uint256', 'internalType': 'uint256'}], 'stateMutability': 'view'}}}, {'network': '1', 'params': {'symbol': 'vBNT (delegated)', 'strategies': [{'name': 'contract-call', 'params': {'address': '0x892f481BD6E9d7D26aE365211D9B45175d5D00e4', 'decimals': 18, 'methodABI': {'name': 'votesOf', 'type': 'function', 'inputs': [{'name': '_voter', 'type': 'address', 'internalType': 'address'}], 'outputs': [{'name': '', 'type': 'uint256', 'internalType': 'uint256'}], 'stateMutability': 'view'}}}]}}]                                                                                                                                                                                                                                                                                                                                                                                                                                                                                                                                                                                                                                                                                                                                                                                                                                                                                                                                                                                                                                                                                                                                                                                                                                                                                                                                                                                                                                                                                                                                                                                                                                                                                                                                                                                                                                                                                                                                                                                                                                                                                                                                                                                                                                                                                                                                                                                                                                                                                                                                                                                                                                                                                                                                                                                                                                                                                                                                                                                                                                                                                                                                         445\n",
       "[{'network': '1', 'params': {'symbol': 'aAAVE', 'address': '0xffc97d72e13e01096502cb8eb52dee56f74dad7b', 'decimals': 18}}, {'network': '1', 'params': {'symbol': 'AAVE+stkAAVE', 'decimals': 18, 'powerType': 'vote', 'governanceStrategy': '0xb7e383ef9b1e9189fc0f71fb30af8aa14377429e'}}, {'network': '1', 'params': {'graphs': {'137': 'https://api.thegraph.com/subgraphs/name/sameepsi/maticblocks'}, 'symbol': 'Matic AAVE+amAAVE', 'strategies': [{'name': 'erc20-balance-of', 'params': {'symbol': 'AAVE', 'address': '0xD6DF932A45C0f255f85145f286eA0b292B21C90B', 'decimals': 18}, 'network': '137'}, {'name': 'erc20-balance-of', 'params': {'symbol': 'amAAVE', 'address': '0x1d2a0E5EC8E5bBDCA5CB219e649B565d8e5c3360', 'decimals': 18}, 'network': 137}]}}, {'network': '1', 'params': {'args': ['%{address}'], 'symbol': 'AAVE in stkBPT', 'address': '0xC0259c59D9f980E3b5e2574cD78C9A9Bc6A8E3fc', 'decimals': 18, 'methodABI': {'name': 'balanceOf', 'type': 'function', 'inputs': [{'name': 'account', 'type': 'address', 'internalType': 'address'}], 'outputs': [{'name': '', 'type': 'uint256', 'internalType': 'uint256'}], 'stateMutability': 'view'}}}]                                                                                                                                                                                                                                                                                                                                                                                                                                                                                                                                                                                                                                                                                                                                                                                                                                                                                                                                                                                                                                                                                                                                                                                                                                                                                                                                                                                                                                                                                                                                                                                                                                                                                                                                                                                                                                                                                                                                                                                                                                                                                                                                                                                                                                                                                                                                                                                                                                                                                                                                                                                                                                                                                                                                                               405\n",
       "                                                                                                                                                                                                                                                                                                                                                                                                                                                                                                                                                                                                                                                                                                                                                                                                                                                                                                                                                                                                                                                                                                                                                                                                                                                                                                                                                                                                                                                                                                                                                                                                                                                                                                                                                                                                                                                                                                                                                                                                                                                                                                                                                                                                                                                                                                                                                                                                                                                                                                                                                                                                                                                                                                                                                                                                                                                                                                                                                                                                                                                                                                                                                                                                                                                                                                                                                                                                                                                                                                                                                                                                                                                                                                                                                                                                                                                                                                                                             ... \n",
       "[{'network': '1', 'params': {'symbol': 'OGN', 'address': '0x8207c1ffc5b6804f6024322ccf34f29c3541ae26', 'decimals': 18}}, {'network': '1', 'params': {'symbol': 'veOGV', 'weight': 0.017434, 'address': '0x0C4576Ca1c365868E162554AF8e385dc3e7C66D9', 'decimals': 18}}, {'network': '1', 'params': {'symbol': 'OGN and veOGV', 'strategies': [{'name': 'ogn', 'params': {'symbol': 'OGN', 'decimals': 18, 'ognAddress': '0x8207c1ffc5b6804f6024322ccf34f29c3541ae26', 'seriesAddress': '0xCcE8E784c777fb9435F89f4E45f8b7FC49f7669f'}}, {'name': 'erc20-balance-of-weighted', 'params': {'symbol': 'veOGV', 'weight': 0.017434, 'address': '0x0C4576Ca1c365868E162554AF8e385dc3e7C66D9', 'decimals': 18}}]}}]                                                                                                                                                                                                                                                                                                                                                                                                                                                                                                                                                                                                                                                                                                                                                                                                                                                                                                                                                                                                                                                                                                                                                                                                                                                                                                                                                                                                                                                                                                                                                                                                                                                                                                                                                                                                                                                                                                                                                                                                                                                                                                                                                                                                                                                                                                                                                                                                                                                                                                                                                                                                                                                                                                                                                                                                                                                                                                                                                                                                                                                                                                                                                                                                                                     1\n",
       "[{'network': '56', 'params': {'symbol': 'GAL', 'address': '0xe4Cc45Bb5DBDA06dB6183E8bf016569f40497Aa5', 'decimals': 18}}, {'network': '56', 'params': {'symbol': 'GAL', 'address': '0xe4Cc45Bb5DBDA06dB6183E8bf016569f40497Aa5', 'decimals': 18}}, {'network': '1', 'params': {'symbol': 'GAL', 'address': '0x5fAa989Af96Af85384b8a938c2EdE4A7378D9875', 'decimals': 18}}, {'network': '1', 'params': {'symbol': 'GAL', 'address': '0x5fAa989Af96Af85384b8a938c2EdE4A7378D9875', 'decimals': 18}}]                                                                                                                                                                                                                                                                                                                                                                                                                                                                                                                                                                                                                                                                                                                                                                                                                                                                                                                                                                                                                                                                                                                                                                                                                                                                                                                                                                                                                                                                                                                                                                                                                                                                                                                                                                                                                                                                                                                                                                                                                                                                                                                                                                                                                                                                                                                                                                                                                                                                                                                                                                                                                                                                                                                                                                                                                                                                                                                                                                                                                                                                                                                                                                                                                                                                                                                                                                                                                                              1\n",
       "[{'network': '1', 'params': {'graphs': {'56': 'https://api.thegraph.com/subgraphs/name/apyvision/block-info', '137': 'https://api.thegraph.com/subgraphs/name/sameepsi/maticblocks', '35441': 'https://explorer.q.org/graphiql', '43114': 'https://api.thegraph.com/subgraphs/name/dasconnor/avalanche-blocks'}, 'symbol': 'SURE', 'strategies': [{'name': 'erc20-balance-of', 'params': {'address': '0xcb86c6a22cb56b6cf40cafedb06ba0df188a416e', 'decimals': 18}, 'network': '1'}, {'name': 'erc20-balance-of', 'params': {'address': '0xF88332547c680F755481Bf489D890426248BB275', 'decimals': 18}, 'network': '137'}, {'name': 'erc20-balance-of', 'params': {'address': '0x9b17baadf0f21f03e35249e0e59723f34994f806', 'decimals': 18}, 'network': '56'}, {'name': 'erc20-balance-of', 'params': {'address': '0x5fc17416925789e0852fbfcd81c490ca4abc51f9', 'decimals': 18}, 'network': 43114}]}}, {'network': '1', 'params': {'api': 'https://insuretoken.net/snapshotAPI/api-post.php', 'symbol': 'SURE', 'decimals': 18}}]                                                                                                                                                                                                                                                                                                                                                                                                                                                                                                                                                                                                                                                                                                                                                                                                                                                                                                                                                                                                                                                                                                                                                                                                                                                                                                                                                                                                                                                                                                                                                                                                                                                                                                                                                                                                                                                                                                                                                                                                                                                                                                                                                                                                                                                                                                                                                                                                                                                                                                                                                                                                                                                                                                                                                                                                                                                                                                                1\n",
       "[{'network': '1', 'params': {'symbol': 'PDT', 'address': '0x375abb85c329753b1ba849a601438ae77eec9893', 'decimals': 18}}, {'network': '1', 'params': {'symbol': 'pdt', 'address': '0xe09c8a88982a85c5b76b1756ec6172d4ad2549d6', 'decimals': 18, 'methodABI': {'name': 'stakeDetails', 'type': 'function', 'inputs': [{'name': 'account', 'type': 'address', 'internalType': 'address'}], 'outputs': [{'name': 'amountStaked', 'type': 'uint256', 'internalType': 'uint256'}], 'stateMutability': 'view'}}}]                                                                                                                                                                                                                                                                                                                                                                                                                                                                                                                                                                                                                                                                                                                                                                                                                                                                                                                                                                                                                                                                                                                                                                                                                                                                                                                                                                                                                                                                                                                                                                                                                                                                                                                                                                                                                                                                                                                                                                                                                                                                                                                                                                                                                                                                                                                                                                                                                                                                                                                                                                                                                                                                                                                                                                                                                                                                                                                                                                                                                                                                                                                                                                                                                                                                                                                                                                                                                                      1\n",
       "[{'network': '1', 'params': {'symbol': 'CITIZEN', 'address': '0xbDdE08BD57e5C9fD563eE7aC61618CB2ECdc0ce0', 'defaultWeight': 0, 'tokenIdWeightRanges': [{'end': 4000999, 'start': 4000000, 'weight': 5}]}}, {'network': '1', 'params': {'symbol': 'CITIZEN', 'address': '0xbdde08bd57e5c9fd563ee7ac61618cb2ecdc0ce0', 'defaultWeight': 0, 'tokenIdWeightRanges': [{'end': 3000999, 'start': 3000000, 'weight': 5}]}}, {'network': '1', 'params': {'symbol': 'CITIZEN', 'address': '0xbdde08bd57e5c9fd563ee7ac61618cb2ecdc0ce0', 'defaultWeight': 0, 'tokenIdWeightRanges': [{'end': 999, 'start': 0, 'weight': 5}]}}, {'network': '1', 'params': {'symbol': 'CITIZEN', 'address': '0xa7d8d9ef8d8ce8992df33d8b8cf4aebabd5bd270', 'defaultWeight': 0, 'tokenIdWeightRanges': [{'end': 189000999, 'start': 189000000, 'weight': 5}]}}, {'network': '1', 'params': {'symbol': 'CITIZEN', 'address': '0xa7d8d9ef8d8ce8992df33d8b8cf4aebabd5bd270', 'defaultWeight': 0, 'tokenIdWeightRanges': [{'end': 95000692, 'start': 95000000, 'weight': 5}, {'end': 95000694, 'start': 95000694, 'weight': 5}, {'end': 95000703, 'start': 95000697, 'weight': 5}, {'end': 95000705, 'start': 95000705, 'weight': 5}, {'end': 95000708, 'start': 95000707, 'weight': 5}, {'end': 95000717, 'start': 95000714, 'weight': 5}, {'end': 95000719, 'start': 95000719, 'weight': 5}, {'end': 95000728, 'start': 95000723, 'weight': 5}, {'end': 95000732, 'start': 95000730, 'weight': 5}, {'end': 95000737, 'start': 95000734, 'weight': 5}, {'end': 95000740, 'start': 95000739, 'weight': 5}, {'end': 95000745, 'start': 95000742, 'weight': 5}, {'end': 95000748, 'start': 95000747, 'weight': 5}, {'end': 95000763, 'start': 95000750, 'weight': 5}, {'end': 95000769, 'start': 95000765, 'weight': 5}, {'end': 95000772, 'start': 95000771, 'weight': 5}, {'end': 95000774, 'start': 95000774, 'weight': 5}, {'end': 95000779, 'start': 95000776, 'weight': 5}, {'end': 95000781, 'start': 95000781, 'weight': 5}, {'end': 95000785, 'start': 95000784, 'weight': 5}, {'end': 95000795, 'start': 95000787, 'weight': 5}, {'end': 95000803, 'start': 95000797, 'weight': 5}, {'end': 95000807, 'start': 95000805, 'weight': 5}, {'end': 95000814, 'start': 95000810, 'weight': 5}, {'end': 95000817, 'start': 95000816, 'weight': 5}, {'end': 95000819, 'start': 95000819, 'weight': 5}, {'end': 95000827, 'start': 95000821, 'weight': 5}, {'end': 95000829, 'start': 95000829, 'weight': 5}, {'end': 95000832, 'start': 95000831, 'weight': 5}, {'end': 95000834, 'start': 95000834, 'weight': 5}, {'end': 95000839, 'start': 95000836, 'weight': 5}, {'end': 95000846, 'start': 95000842, 'weight': 5}, {'end': 95000866, 'start': 95000848, 'weight': 5}, {'end': 95000873, 'start': 95000868, 'weight': 5}, {'end': 95000876, 'start': 95000876, 'weight': 5}, {'end': 95000884, 'start': 95000878, 'weight': 5}, {'end': 95000895, 'start': 95000886, 'weight': 5}, {'end': 95000897, 'start': 95000897, 'weight': 5}, {'end': 95000902, 'start': 95000899, 'weight': 5}, {'end': 95000905, 'start': 95000904, 'weight': 5}, {'end': 95000920, 'start': 95000908, 'weight': 5}, {'end': 95000925, 'start': 95000924, 'weight': 5}, {'end': 95000933, 'start': 95000927, 'weight': 5}, {'end': 95000935, 'start': 95000935, 'weight': 5}, {'end': 95000938, 'start': 95000938, 'weight': 5}, {'end': 95000942, 'start': 95000941, 'weight': 5}, {'end': 95000945, 'start': 95000944, 'weight': 5}, {'end': 95000951, 'start': 95000950, 'weight': 5}, {'end': 95000977, 'start': 95000953, 'weight': 5}, {'end': 95000993, 'start': 95000979, 'weight': 5}, {'end': 95000999, 'start': 95000997, 'weight': 5}]}}]                                                                                                                                                                                                                                            1\n",
       "Name: strategies, Length: 850, dtype: int64"
      ]
     },
     "execution_count": 13,
     "metadata": {},
     "output_type": "execute_result"
    }
   ],
   "source": [
    "df[\"strategies\"].value_counts()"
   ]
  },
  {
   "cell_type": "code",
   "execution_count": 14,
   "metadata": {},
   "outputs": [
    {
     "data": {
      "text/plain": [
       "1.200000e+01    51\n",
       "1.300000e+01    46\n",
       "1.100000e+01    43\n",
       "1.000000e+01    42\n",
       "1.400000e+01    42\n",
       "                ..\n",
       "1.334301e+08     1\n",
       "1.277415e+08     1\n",
       "1.084305e+08     1\n",
       "6.387885e+07     1\n",
       "6.671855e+06     1\n",
       "Name: scores_total, Length: 19028, dtype: int64"
      ]
     },
     "execution_count": 14,
     "metadata": {},
     "output_type": "execute_result"
    }
   ],
   "source": [
    "df[\"scores_total\"].value_counts()"
   ]
  },
  {
   "cell_type": "code",
   "execution_count": 15,
   "metadata": {},
   "outputs": [
    {
     "data": {
      "text/plain": [
       "[[0], [0]]                                                                                                                                                                                           28\n",
       "[[12], [0]]                                                                                                                                                                                          13\n",
       "[[761588.5729547191, 328561.1899933141], [0, 0], [2000099.23, 243.37]]                                                                                                                               12\n",
       "[[12], [0], [0]]                                                                                                                                                                                     12\n",
       "[[14], [0]]                                                                                                                                                                                          11\n",
       "                                                                                                                                                                                                     ..\n",
       "[[29, 0, 32, 36, 0, 0], [431, 16, 451, 515, 20, 6]]                                                                                                                                                   1\n",
       "[[12, 0, 12, 25, 0, 0], [443, 16, 466, 521, 20, 6]]                                                                                                                                                   1\n",
       "[[0, 0, 0, 2, 0, 0], [142, 0, 167, 135, 0, 0], [0, 0, 0, 0, 0, 0], [0, 0, 0, 0, 0, 0]]                                                                                                                1\n",
       "[[1027], [12]]                                                                                                                                                                                        1\n",
       "[[0, 2000, 8000, 544.6688784253295, 10300, 0, 707, 0], [0, 42000, 90000, 45809.448875802045, 288900, 5008010.688742576, 62112, 0], [0, 6000, 0, 604.1958310006115, 300, 1106567.423410904, 0, 0]]     1\n",
       "Name: scores_by_strategy, Length: 20388, dtype: int64"
      ]
     },
     "execution_count": 15,
     "metadata": {},
     "output_type": "execute_result"
    }
   ],
   "source": [
    "df[\"scores_by_strategy\"].value_counts()"
   ]
  },
  {
   "cell_type": "markdown",
   "metadata": {},
   "source": [
    "# 2. Proposal Counts for Each Space"
   ]
  },
  {
   "cell_type": "markdown",
   "metadata": {},
   "source": [
    "### Proposal Counts for Each Space\n",
    "- Total count\n",
    "- Mean\n",
    "- Standard Deviation\n",
    "- Percentile"
   ]
  },
  {
   "cell_type": "code",
   "execution_count": 16,
   "metadata": {},
   "outputs": [
    {
     "data": {
      "text/plain": [
       "count     245.000000\n",
       "mean       84.693878\n",
       "std       194.119365\n",
       "min         1.000000\n",
       "25%        22.000000\n",
       "50%        38.000000\n",
       "75%        78.000000\n",
       "max      2301.000000\n",
       "Name: space_id, dtype: float64"
      ]
     },
     "execution_count": 16,
     "metadata": {},
     "output_type": "execute_result"
    }
   ],
   "source": [
    "space_counts = df['space_id'].value_counts()\n",
    "space_counts.describe()"
   ]
  },
  {
   "cell_type": "code",
   "execution_count": 17,
   "metadata": {},
   "outputs": [
    {
     "name": "stdout",
     "output_type": "stream",
     "text": [
      "Spaces under 5 proposals: (21,)\n",
      "Spaces under 10 proposals: (28,)\n"
     ]
    },
    {
     "data": {
      "text/plain": [
       "poktdao.eth               10\n",
       "concentratordao.eth        9\n",
       "primexyz.eth               9\n",
       "infinex.eth                8\n",
       "paragonsdao.eth            7\n",
       "btcismylove.eth            7\n",
       "pnounsdao.eth              7\n",
       "goopsnapshot.eth           5\n",
       "web3-no1.eth               4\n",
       "meiridi.eth                3\n",
       "babyfive.eth               3\n",
       "dorg.eth                   3\n",
       "rusha.eth                  3\n",
       "digitalriyal.eth           2\n",
       "thehong.eth                2\n",
       "fabien.eth                 2\n",
       "insuretoken.eth            2\n",
       "pozoaxel.eth               1\n",
       "biteren.eth                1\n",
       "haitang.eth                1\n",
       "cuchorapido.eth            1\n",
       "01meta.eth                 1\n",
       "kwenta.eth                 1\n",
       "apollodao.eth              1\n",
       "signinhere.eth             1\n",
       "defjnite.eth               1\n",
       "xxx.freesubs.eth           1\n",
       "lens.changliuchuan.eth     1\n",
       "Name: space_id, dtype: int64"
      ]
     },
     "execution_count": 17,
     "metadata": {},
     "output_type": "execute_result"
    }
   ],
   "source": [
    "print(\"Spaces under 5 proposals:\", space_counts[space_counts <= 5].shape)\n",
    "\n",
    "print(\"Spaces under 10 proposals:\", space_counts[space_counts <= 10].shape)\n",
    "space_counts[space_counts <= 10]"
   ]
  },
  {
   "cell_type": "code",
   "execution_count": 18,
   "metadata": {},
   "outputs": [
    {
     "name": "stdout",
     "output_type": "stream",
     "text": [
      "Spaces under 2 proposals: 15\n"
     ]
    },
    {
     "data": {
      "text/html": [
       "<div>\n",
       "<style scoped>\n",
       "    .dataframe tbody tr th:only-of-type {\n",
       "        vertical-align: middle;\n",
       "    }\n",
       "\n",
       "    .dataframe tbody tr th {\n",
       "        vertical-align: top;\n",
       "    }\n",
       "\n",
       "    .dataframe thead th {\n",
       "        text-align: right;\n",
       "    }\n",
       "</style>\n",
       "<table border=\"1\" class=\"dataframe\">\n",
       "  <thead>\n",
       "    <tr style=\"text-align: right;\">\n",
       "      <th></th>\n",
       "      <th>title</th>\n",
       "      <th>body</th>\n",
       "      <th>space_id</th>\n",
       "    </tr>\n",
       "  </thead>\n",
       "  <tbody>\n",
       "    <tr>\n",
       "      <th>15429</th>\n",
       "      <td>Proposal - Make Polygon a Country</td>\n",
       "      <td>If no one is saying I got a Proposal For you: ...</td>\n",
       "      <td>01meta.eth</td>\n",
       "    </tr>\n",
       "    <tr>\n",
       "      <th>14900</th>\n",
       "      <td>Partnership &amp; Mutual Grant with Gitcoin</td>\n",
       "      <td>Developer DAOs mission is to accelerate the ed...</td>\n",
       "      <td>apollodao.eth</td>\n",
       "    </tr>\n",
       "    <tr>\n",
       "      <th>10369</th>\n",
       "      <td>FROGAGA Lucky Box Airdrops</td>\n",
       "      <td>Upcoming trending NFT series! #FROGAGA Lucky B...</td>\n",
       "      <td>biteren.eth</td>\n",
       "    </tr>\n",
       "    <tr>\n",
       "      <th>16436</th>\n",
       "      <td>Propuesta para sueldo retroactivo de Stovedove</td>\n",
       "      <td>User: Stovedove\\nCantidad: 150,000\\n75%: 112,5...</td>\n",
       "      <td>cuchorapido.eth</td>\n",
       "    </tr>\n",
       "    <tr>\n",
       "      <th>11279</th>\n",
       "      <td>Have you already done Tabi?</td>\n",
       "      <td>According to developers, the funds will be pri...</td>\n",
       "      <td>defjnite.eth</td>\n",
       "    </tr>\n",
       "    <tr>\n",
       "      <th>12785</th>\n",
       "      <td>Launch quests | $ZK</td>\n",
       "      <td>Perform simple tasks and wait for drop $ZK tok...</td>\n",
       "      <td>digitalriyal.eth</td>\n",
       "    </tr>\n",
       "    <tr>\n",
       "      <th>19480</th>\n",
       "      <td>Topaz  Aptos  AIRDR0P APT</td>\n",
       "      <td>The long-awaited drop from Topaz.\\nTo particip...</td>\n",
       "      <td>digitalriyal.eth</td>\n",
       "    </tr>\n",
       "    <tr>\n",
       "      <th>19308</th>\n",
       "      <td>This is a long title this is a long title this...</td>\n",
       "      <td>This is a long title this is a long title this...</td>\n",
       "      <td>fabien.eth</td>\n",
       "    </tr>\n",
       "    <tr>\n",
       "      <th>18665</th>\n",
       "      <td>Snapshot Hackathon #1</td>\n",
       "      <td>Weight rank the projects you like\\n*\\n# Treasu...</td>\n",
       "      <td>fabien.eth</td>\n",
       "    </tr>\n",
       "    <tr>\n",
       "      <th>3779</th>\n",
       "      <td>[Phase 2] HIP-54: Airdrop to Democratic Heroes</td>\n",
       "      <td>Modify the term of office of the elected Missi...</td>\n",
       "      <td>haitang.eth</td>\n",
       "    </tr>\n",
       "    <tr>\n",
       "      <th>8152</th>\n",
       "      <td>Community Growth Incentive Programs - Reimburs...</td>\n",
       "      <td>In order to drive the natural growth of our co...</td>\n",
       "      <td>insuretoken.eth</td>\n",
       "    </tr>\n",
       "    <tr>\n",
       "      <th>4535</th>\n",
       "      <td>[Transitioning to Contribution Phase]</td>\n",
       "      <td>[Different Phases]:\\ninSure DeFi has been crea...</td>\n",
       "      <td>insuretoken.eth</td>\n",
       "    </tr>\n",
       "    <tr>\n",
       "      <th>12638</th>\n",
       "      <td>KIP-123: Launch $KSX (Community Temp Check)</td>\n",
       "      <td># Simple Summary\\nThis KIP introduces the $KSX...</td>\n",
       "      <td>kwenta.eth</td>\n",
       "    </tr>\n",
       "    <tr>\n",
       "      <th>20732</th>\n",
       "      <td>You need to be a core member of the space in o...</td>\n",
       "      <td>You need to be a core member of the space in o...</td>\n",
       "      <td>lens.changliuchuan.eth</td>\n",
       "    </tr>\n",
       "    <tr>\n",
       "      <th>18420</th>\n",
       "      <td>Should ZkSync use Gitcoin Passport as a requir...</td>\n",
       "      <td>The Gitcoin Passport is an excellent way to pr...</td>\n",
       "      <td>pozoaxel.eth</td>\n",
       "    </tr>\n",
       "    <tr>\n",
       "      <th>14399</th>\n",
       "      <td>Official AIRDROP | ZkSync x Polygon</td>\n",
       "      <td>Official AIRDROP | ZkSync x Polygon\\nMint NFT ...</td>\n",
       "      <td>signinhere.eth</td>\n",
       "    </tr>\n",
       "    <tr>\n",
       "      <th>3798</th>\n",
       "      <td>[Phase 3] HIP-56 - Length of stay of the Missi...</td>\n",
       "      <td>Proof of Humanity was born as a 1p1v DAO witho...</td>\n",
       "      <td>thehong.eth</td>\n",
       "    </tr>\n",
       "    <tr>\n",
       "      <th>3785</th>\n",
       "      <td>[Phase 2] HIP-75: Remove the Mission Board Mem...</td>\n",
       "      <td>This HIP aims to remove the figure of Mission ...</td>\n",
       "      <td>thehong.eth</td>\n",
       "    </tr>\n",
       "    <tr>\n",
       "      <th>6253</th>\n",
       "      <td>Aleo Network Development Priorities</td>\n",
       "      <td>This vote is designed to engage the Aleo commu...</td>\n",
       "      <td>xxx.freesubs.eth</td>\n",
       "    </tr>\n",
       "  </tbody>\n",
       "</table>\n",
       "</div>"
      ],
      "text/plain": [
       "                                                   title  \\\n",
       "15429                  Proposal - Make Polygon a Country   \n",
       "14900            Partnership & Mutual Grant with Gitcoin   \n",
       "10369                         FROGAGA Lucky Box Airdrops   \n",
       "16436     Propuesta para sueldo retroactivo de Stovedove   \n",
       "11279                        Have you already done Tabi?   \n",
       "12785                               Launch quests | $ZK    \n",
       "19480                          Topaz  Aptos  AIRDR0P APT   \n",
       "19308  This is a long title this is a long title this...   \n",
       "18665                              Snapshot Hackathon #1   \n",
       "3779      [Phase 2] HIP-54: Airdrop to Democratic Heroes   \n",
       "8152   Community Growth Incentive Programs - Reimburs...   \n",
       "4535               [Transitioning to Contribution Phase]   \n",
       "12638        KIP-123: Launch $KSX (Community Temp Check)   \n",
       "20732  You need to be a core member of the space in o...   \n",
       "18420  Should ZkSync use Gitcoin Passport as a requir...   \n",
       "14399                Official AIRDROP | ZkSync x Polygon   \n",
       "3798   [Phase 3] HIP-56 - Length of stay of the Missi...   \n",
       "3785   [Phase 2] HIP-75: Remove the Mission Board Mem...   \n",
       "6253                 Aleo Network Development Priorities   \n",
       "\n",
       "                                                    body  \\\n",
       "15429  If no one is saying I got a Proposal For you: ...   \n",
       "14900  Developer DAOs mission is to accelerate the ed...   \n",
       "10369  Upcoming trending NFT series! #FROGAGA Lucky B...   \n",
       "16436  User: Stovedove\\nCantidad: 150,000\\n75%: 112,5...   \n",
       "11279  According to developers, the funds will be pri...   \n",
       "12785  Perform simple tasks and wait for drop $ZK tok...   \n",
       "19480  The long-awaited drop from Topaz.\\nTo particip...   \n",
       "19308  This is a long title this is a long title this...   \n",
       "18665  Weight rank the projects you like\\n*\\n# Treasu...   \n",
       "3779   Modify the term of office of the elected Missi...   \n",
       "8152   In order to drive the natural growth of our co...   \n",
       "4535   [Different Phases]:\\ninSure DeFi has been crea...   \n",
       "12638  # Simple Summary\\nThis KIP introduces the $KSX...   \n",
       "20732  You need to be a core member of the space in o...   \n",
       "18420  The Gitcoin Passport is an excellent way to pr...   \n",
       "14399  Official AIRDROP | ZkSync x Polygon\\nMint NFT ...   \n",
       "3798   Proof of Humanity was born as a 1p1v DAO witho...   \n",
       "3785   This HIP aims to remove the figure of Mission ...   \n",
       "6253   This vote is designed to engage the Aleo commu...   \n",
       "\n",
       "                     space_id  \n",
       "15429              01meta.eth  \n",
       "14900           apollodao.eth  \n",
       "10369             biteren.eth  \n",
       "16436         cuchorapido.eth  \n",
       "11279            defjnite.eth  \n",
       "12785        digitalriyal.eth  \n",
       "19480        digitalriyal.eth  \n",
       "19308              fabien.eth  \n",
       "18665              fabien.eth  \n",
       "3779              haitang.eth  \n",
       "8152          insuretoken.eth  \n",
       "4535          insuretoken.eth  \n",
       "12638              kwenta.eth  \n",
       "20732  lens.changliuchuan.eth  \n",
       "18420            pozoaxel.eth  \n",
       "14399          signinhere.eth  \n",
       "3798              thehong.eth  \n",
       "3785              thehong.eth  \n",
       "6253         xxx.freesubs.eth  "
      ]
     },
     "execution_count": 18,
     "metadata": {},
     "output_type": "execute_result"
    }
   ],
   "source": [
    "temp = space_counts[space_counts <= 2].index.tolist()\n",
    "\n",
    "print(\"Spaces under 2 proposals:\", len(temp))\n",
    "\n",
    "df[df[\"space_id\"].isin(temp)][[\"title\", \"body\", \"space_id\"]].sort_values(by=\"space_id\")"
   ]
  },
  {
   "cell_type": "code",
   "execution_count": 19,
   "metadata": {},
   "outputs": [
    {
     "data": {
      "image/png": "[encoded data removed]",
      "text/plain": [
       "<Figure size 1200x800 with 1 Axes>"
      ]
     },
     "metadata": {},
     "output_type": "display_data"
    }
   ],
   "source": [
    "log_space_counts = np.log10(space_counts)\n",
    "\n",
    "plt.figure(figsize=(12, 8))\n",
    "log_space_counts.plot(kind='bar', color='lightblue')\n",
    "plt.xlabel('Space ID')\n",
    "plt.ylabel('Log10 of the Count of Proposals')\n",
    "plt.title('Log10 of the Number of Proposals per Space',\n",
    "          pad=20, fontsize=16)\n",
    "plt.xticks([], [])  # Remove x-axis ticks\n",
    "plt.show()"
   ]
  },
  {
   "cell_type": "markdown",
   "metadata": {},
   "source": [
    "### Number of Followers, Proposals, and Votes for Each Space \n",
    "- Proposal count and vote count in this section are the number ***before preprocessing deletion***"
   ]
  },
  {
   "cell_type": "code",
   "execution_count": 20,
   "metadata": {},
   "outputs": [
    {
     "name": "stdout",
     "output_type": "stream",
     "text": [
      "(245, 47)\n"
     ]
    },
    {
     "data": {
      "text/plain": [
       "<matplotlib.legend.Legend at 0x2b645b69990>"
      ]
     },
     "execution_count": 20,
     "metadata": {},
     "output_type": "execute_result"
    },
    {
     "data": {
      "image/png": "[encoded data removed]",
      "text/plain": [
       "<Figure size 640x480 with 1 Axes>"
      ]
     },
     "metadata": {},
     "output_type": "display_data"
    }
   ],
   "source": [
    "df_space = pd.read_excel('spaces_cut.xlsx')\n",
    "df_space = df_space[df_space['id'].isin(space_counts.index)]\n",
    "print(df_space.shape)\n",
    "\n",
    "plt.hist(df_space['followersCount'].apply(np.log), label=\"followersCount\", alpha=0.5, bins=30)\n",
    "plt.hist(df_space['proposalsCount'].apply(np.log), label=\"proposalsCount\", alpha=0.5, bins=30)\n",
    "plt.hist(df_space['votesCount'].apply(np.log), label=\"votesCount\", alpha=0.5, bins=30)\n",
    "plt.xlabel('Log10 of the Count')\n",
    "plt.ylabel('Frequency')\n",
    "plt.title('Log10 of the Number of Followers, Proposals, and Votes for Each Space ',\n",
    "          pad=20, fontsize=16)\n",
    "plt.legend()"
   ]
  },
  {
   "cell_type": "code",
   "execution_count": 21,
   "metadata": {},
   "outputs": [
    {
     "data": {
      "text/html": [
       "<div>\n",
       "<style scoped>\n",
       "    .dataframe tbody tr th:only-of-type {\n",
       "        vertical-align: middle;\n",
       "    }\n",
       "\n",
       "    .dataframe tbody tr th {\n",
       "        vertical-align: top;\n",
       "    }\n",
       "\n",
       "    .dataframe thead th {\n",
       "        text-align: right;\n",
       "    }\n",
       "</style>\n",
       "<table border=\"1\" class=\"dataframe\">\n",
       "  <thead>\n",
       "    <tr style=\"text-align: right;\">\n",
       "      <th></th>\n",
       "      <th>followersCount</th>\n",
       "      <th>proposalsCount</th>\n",
       "      <th>votesCount</th>\n",
       "    </tr>\n",
       "  </thead>\n",
       "  <tbody>\n",
       "    <tr>\n",
       "      <th>count</th>\n",
       "      <td>245.000000</td>\n",
       "      <td>245.000000</td>\n",
       "      <td>2.450000e+02</td>\n",
       "    </tr>\n",
       "    <tr>\n",
       "      <th>mean</th>\n",
       "      <td>12399.938776</td>\n",
       "      <td>152.853061</td>\n",
       "      <td>1.293534e+05</td>\n",
       "    </tr>\n",
       "    <tr>\n",
       "      <th>std</th>\n",
       "      <td>65209.787856</td>\n",
       "      <td>333.606993</td>\n",
       "      <td>1.209157e+06</td>\n",
       "    </tr>\n",
       "    <tr>\n",
       "      <th>min</th>\n",
       "      <td>102.000000</td>\n",
       "      <td>21.000000</td>\n",
       "      <td>2.130000e+02</td>\n",
       "    </tr>\n",
       "    <tr>\n",
       "      <th>25%</th>\n",
       "      <td>243.000000</td>\n",
       "      <td>36.000000</td>\n",
       "      <td>1.501000e+03</td>\n",
       "    </tr>\n",
       "    <tr>\n",
       "      <th>50%</th>\n",
       "      <td>652.000000</td>\n",
       "      <td>66.000000</td>\n",
       "      <td>3.471000e+03</td>\n",
       "    </tr>\n",
       "    <tr>\n",
       "      <th>75%</th>\n",
       "      <td>2797.000000</td>\n",
       "      <td>119.000000</td>\n",
       "      <td>1.224000e+04</td>\n",
       "    </tr>\n",
       "    <tr>\n",
       "      <th>max</th>\n",
       "      <td>917335.000000</td>\n",
       "      <td>3725.000000</td>\n",
       "      <td>1.794336e+07</td>\n",
       "    </tr>\n",
       "  </tbody>\n",
       "</table>\n",
       "</div>"
      ],
      "text/plain": [
       "       followersCount  proposalsCount    votesCount\n",
       "count      245.000000      245.000000  2.450000e+02\n",
       "mean     12399.938776      152.853061  1.293534e+05\n",
       "std      65209.787856      333.606993  1.209157e+06\n",
       "min        102.000000       21.000000  2.130000e+02\n",
       "25%        243.000000       36.000000  1.501000e+03\n",
       "50%        652.000000       66.000000  3.471000e+03\n",
       "75%       2797.000000      119.000000  1.224000e+04\n",
       "max     917335.000000     3725.000000  1.794336e+07"
      ]
     },
     "execution_count": 21,
     "metadata": {},
     "output_type": "execute_result"
    }
   ],
   "source": [
    "df_space[['followersCount', 'proposalsCount', 'votesCount']].describe()"
   ]
  },
  {
   "cell_type": "markdown",
   "metadata": {},
   "source": [
    "# 3. Total votes by spaces"
   ]
  },
  {
   "cell_type": "markdown",
   "metadata": {},
   "source": [
    "### Aggregate Vote Counts per Space"
   ]
  },
  {
   "cell_type": "code",
   "execution_count": 22,
   "metadata": {},
   "outputs": [
    {
     "data": {
      "text/plain": [
       "count         2.450000\n",
       "mean       1262.595306\n",
       "std       11997.815061\n",
       "min           0.120000\n",
       "25%           8.360000\n",
       "50%          27.100000\n",
       "75%         110.720000\n",
       "max      177959.240000\n",
       "Name: votes, dtype: float64"
      ]
     },
     "execution_count": 22,
     "metadata": {},
     "output_type": "execute_result"
    }
   ],
   "source": [
    "space_votes = df.groupby('space_id')['votes'].sum()\n",
    "space_votes.describe() / 100 # divide by 100 due to the large numbers"
   ]
  },
  {
   "cell_type": "code",
   "execution_count": 23,
   "metadata": {},
   "outputs": [
    {
     "data": {
      "text/plain": [
       "space_id\n",
       "stgdao.eth                17795924\n",
       "arbitrumfoundation.eth     5289055\n",
       "aave.eth                   3103339\n",
       "cakevote.eth                431105\n",
       "aavegotchi.eth              396567\n",
       "gmx.eth                     305324\n",
       "uniswapgovernance.eth       275334\n",
       "metislayer2.eth             242481\n",
       "speraxdao.eth               202107\n",
       "gitcoindao.eth              180367\n",
       "Name: votes, dtype: int64"
      ]
     },
     "execution_count": 23,
     "metadata": {},
     "output_type": "execute_result"
    }
   ],
   "source": [
    "space_votes.sort_values(ascending=False).head(10)"
   ]
  },
  {
   "cell_type": "markdown",
   "metadata": {},
   "source": [
    "### Rankings: Top 5 and Bottom 5 by Total Votes"
   ]
  },
  {
   "cell_type": "code",
   "execution_count": 24,
   "metadata": {},
   "outputs": [
    {
     "name": "stdout",
     "output_type": "stream",
     "text": [
      "<Top 5>\n",
      "space_id\n",
      "stgdao.eth                1\n",
      "arbitrumfoundation.eth    2\n",
      "aave.eth                  3\n",
      "cakevote.eth              4\n",
      "aavegotchi.eth            5\n",
      "Name: votes, dtype: int32\n",
      "\n",
      "<Bottom 5>\n",
      "space_id\n",
      "insuretoken.eth     241\n",
      "thehong.eth         242\n",
      "xxx.freesubs.eth    243\n",
      "haitang.eth         244\n",
      "01meta.eth          245\n",
      "Name: votes, dtype: int32\n"
     ]
    }
   ],
   "source": [
    "space_votes_rank = space_votes.rank(method='first', ascending=False).astype(int).sort_values(ascending=True)\n",
    "print(\"<Top 5>\")\n",
    "print(space_votes_rank[:5])\n",
    "print()\n",
    "print(\"<Bottom 5>\")\n",
    "print(space_votes_rank[-5:])"
   ]
  },
  {
   "cell_type": "markdown",
   "metadata": {},
   "source": [
    "# 4. Proposal Dates"
   ]
  },
  {
   "cell_type": "markdown",
   "metadata": {},
   "source": [
    "### Number of Proposals per Month - [\"start\", \"end\", \"created\"]\n",
    "- start: proposal start date\n",
    "- end: proposal end date\n",
    "- created: proposal created date"
   ]
  },
  {
   "cell_type": "code",
   "execution_count": 25,
   "metadata": {},
   "outputs": [
    {
     "data": {
      "image/png": "[encoded data removed]",
      "text/plain": [
       "<Figure size 1200x800 with 3 Axes>"
      ]
     },
     "metadata": {},
     "output_type": "display_data"
    }
   ],
   "source": [
    "# First, convert the 'start' column to datetime if it's not already\n",
    "df['start'] = pd.to_datetime(df['start'])\n",
    "df['end'] = pd.to_datetime(df['end'])\n",
    "df['created'] = pd.to_datetime(df['created'])\n",
    "\n",
    "# Extract the month and year from the 'start' column\n",
    "df['year_month_start'] = df['start'].dt.to_period('M')\n",
    "df['year_month_end'] = df['end'].dt.to_period('M')\n",
    "df['year_month_created'] = df['created'].dt.to_period('M')\n",
    "\n",
    "# Now count the number of occurrences per month\n",
    "monthly_counts_start = df['year_month_start'].value_counts().sort_index()\n",
    "monthly_counts_end = df['year_month_end'].value_counts().sort_index()\n",
    "monthly_counts_created = df['year_month_created'].value_counts().sort_index()\n",
    "\n",
    "# Plotting the histogram with less crowded x-axis labels\n",
    "plt.figure(figsize=(12, 8))\n",
    "\n",
    "# First subplot for 'start'\n",
    "plt.subplot(3, 1, 1)\n",
    "monthly_counts_start.plot(kind='bar', color='skyblue', alpha=0.7)\n",
    "plt.xlabel('Month')\n",
    "plt.ylabel('Count of Proposals')\n",
    "plt.title('Number of Proposals per Month - Start', pad=20, fontsize=16)\n",
    "\n",
    "# Second subplot for 'end'\n",
    "plt.subplot(3, 1, 2)\n",
    "monthly_counts_end.plot(kind='bar', color='lightgreen', alpha=0.7)\n",
    "plt.xlabel('Month')\n",
    "plt.ylabel('Count of Proposals')\n",
    "plt.title('Number of Proposals per Month - End', pad=20, fontsize=16)\n",
    "\n",
    "# Third subplot for 'created'\n",
    "plt.subplot(3, 1, 3)\n",
    "monthly_counts_created.plot(kind='bar', color='coral', alpha=0.7)\n",
    "plt.xlabel('Month')\n",
    "plt.ylabel('Count of Proposals')\n",
    "plt.title('The Number of Proposals per Month - Created', pad=20, fontsize=16)\n",
    "\n",
    "plt.tight_layout()\n",
    "plt.show()"
   ]
  },
  {
   "cell_type": "markdown",
   "metadata": {},
   "source": [
    "### Duration of Proposal \n",
    "- Unit: Hour"
   ]
  },
  {
   "cell_type": "code",
   "execution_count": 26,
   "metadata": {},
   "outputs": [
    {
     "data": {
      "text/plain": [
       "count     20750.000000\n",
       "mean        185.366363\n",
       "std        1365.633264\n",
       "min           0.359722\n",
       "25%          72.000000\n",
       "50%          96.397778\n",
       "75%         168.000000\n",
       "max      176653.250000\n",
       "Name: duration, dtype: float64"
      ]
     },
     "execution_count": 26,
     "metadata": {},
     "output_type": "execute_result"
    }
   ],
   "source": [
    "# Calculate the duration for each proposal\n",
    "df['duration'] = (df['end'] - df['start']).dt.total_seconds() / 3600  # Convert to hours\n",
    "df[\"duration\"].describe()"
   ]
  },
  {
   "cell_type": "markdown",
   "metadata": {},
   "source": [
    "Remove the top and bottom 5% of the duration values"
   ]
  },
  {
   "cell_type": "code",
   "execution_count": 27,
   "metadata": {},
   "outputs": [
    {
     "data": {
      "text/plain": [
       "count    18195.000000\n",
       "mean       112.778851\n",
       "std         52.563157\n",
       "min         37.498611\n",
       "25%         72.000000\n",
       "50%         96.000000\n",
       "75%        167.960694\n",
       "max        335.995833\n",
       "Name: duration, dtype: float64"
      ]
     },
     "execution_count": 27,
     "metadata": {},
     "output_type": "execute_result"
    }
   ],
   "source": [
    "top = df[\"duration\"].quantile(0.95)\n",
    "bottom = df[\"duration\"].quantile(0.05)\n",
    "simple_duration = df[(df[\"duration\"] > bottom) & (df[\"duration\"] < top)][\"duration\"]\n",
    "simple_duration.describe()"
   ]
  },
  {
   "cell_type": "code",
   "execution_count": 28,
   "metadata": {},
   "outputs": [
    {
     "data": {
      "image/png": "[encoded data removed]",
      "text/plain": [
       "<Figure size 1200x600 with 1 Axes>"
      ]
     },
     "metadata": {},
     "output_type": "display_data"
    }
   ],
   "source": [
    "plt.figure(figsize=(12, 6))\n",
    "plt.hist(simple_duration, bins=150, color='skyblue', edgecolor='black',)\n",
    "plt.xlabel('Duration (Hours)')\n",
    "plt.ylabel('Number of Proposals')\n",
    "plt.title('Distribution of Proposal Durations after Removing Outliers (5% on Each Side)',\n",
    "            pad=20, fontsize=16)\n",
    "plt.show()"
   ]
  }
 ],
 "metadata": {
  "kernelspec": {
   "display_name": "Python 3",
   "language": "python",
   "name": "python3"
  },
  "language_info": {
   "codemirror_mode": {
    "name": "ipython",
    "version": 3
   },
   "file_extension": ".py",
   "mimetype": "text/x-python",
   "name": "python",
   "nbconvert_exporter": "python",
   "pygments_lexer": "ipython3",
   "version": "3.10.5"
  }
 },
 "nbformat": 4,
 "nbformat_minor": 2
}
