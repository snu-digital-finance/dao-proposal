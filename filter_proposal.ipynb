{
 "cells": [
  {
   "cell_type": "code",
   "execution_count": null,
   "metadata": {},
   "outputs": [],
   "source": [
    "import pandas as pd\n",
    "df_proposals = pd.read_excel('proposals.xlsx')\n",
    "\n",
    "df_proposals['votes'].describe()"
   ]
  },
  {
   "cell_type": "markdown",
   "metadata": {},
   "source": [
    "count     80338.000000\n",
    "mean        452.022829\n",
    "std        6495.491181\n",
    "min           0.000000\n",
    "25%           1.000000\n",
    "50%           4.000000\n",
    "75%          27.000000\n",
    "max      213953.000000\n",
    "Name: votes, dtype: float64"
   ]
  },
  {
   "cell_type": "code",
   "execution_count": null,
   "metadata": {},
   "outputs": [],
   "source": [
    "import re\n",
    "\n",
    "# 유효한 문자 패턴 정의\n",
    "valid_pattern = re.compile(r'[a-zA-Z0-9!@#$%^&*()_\\-+{}\\[\\]:;≥\"\\'<>,.?/\\\\|`~\\s]')\n",
    "\n",
    "\n",
    "# 유효한 문자만 추출\n",
    "def get_valid(text):\n",
    "    if isinstance(text, str): \n",
    "        return ''.join(valid_pattern.findall(text))\n",
    "    return text  \n",
    "\n",
    "\n",
    "url_pattern = re.compile(\n",
    "    r'http[s]?://\\S+|www\\.\\S+|ipfs://\\S+', re.IGNORECASE\n",
    ")\n",
    "\n",
    "def remove_urls_and_ipfs(text):\n",
    "    if isinstance(text, str): \n",
    "        return url_pattern.sub('', text)\n",
    "    return text  \n",
    "\n",
    "\n",
    "# 빈 괄호를 탐지하기 위한 정규 표현식 패턴\n",
    "empty_parentheses_pattern = re.compile(r'\\(\\s*\\)')\n",
    "def remove_empty_parentheses(text):\n",
    "    if isinstance(text, str):  # 문자열인지 확인\n",
    "        return empty_parentheses_pattern.sub('', text)\n",
    "    return text  # 문자열이 아닌 경우 그대로 반환\n",
    "\n",
    "\n",
    "wallet_pattern = re.compile(r'\\b0x\\w+\\b', re.IGNORECASE)\n",
    "\n",
    "# 0x로 시작하는 지갑 주소를 제거하는 함수 정의\n",
    "def remove_wallet_addresses(text):\n",
    "    if isinstance(text, str):  # 문자열인지 확인\n",
    "        return wallet_pattern.sub('', text)\n",
    "    return text  # 문자열이 아닌 경우 그대로 반환\n",
    "\n",
    "# 연속된 줄 바꿈 문자를 탐지하기 위한 정규 표현식 패턴\n",
    "multiple_newlines_pattern = re.compile(r'\\n{2,}')\n",
    "\n",
    "# 연속적인 줄 바꿈 문자를 하나로 변경하는 함수 정의\n",
    "def replace_multiple_newlines(text):\n",
    "    if isinstance(text, str):  # 문자열인지 확인\n",
    "        return multiple_newlines_pattern.sub('\\n', text)\n",
    "    return text  # 문자열이 아닌 경우 그대로 반환\n",
    "\n",
    "\n"
   ]
  },
  {
   "cell_type": "code",
   "execution_count": null,
   "metadata": {},
   "outputs": [],
   "source": [
    "top20 = [\"0xgov.eth\",\n",
    "\"1inch.eth\",\n",
    "\"aave.eth\",\n",
    "\"aavegotchi.eth\",\n",
    "\"arbitrumfoundation.eth\",\n",
    "\"badgerdao.eth\",\n",
    "\"balancer.eth\",\n",
    "\"comp-vote.eth\",\n",
    "\"cvx.eth\",\n",
    "\"curve.eth\",\n",
    "\"dydxgov.eth\",\n",
    "\"ens.eth\",\n",
    "\"frax.eth\",\n",
    "\"olympusdao.eth\",\n",
    "\"opcollective.eth\",\n",
    "\"cakevote.eth\",\n",
    "\"radiantcapital.eth\",\n",
    "\"suchigov.eth\",\n",
    "\"graphprotocol.eth\",\n",
    "\"uniswapgovernance.eth\"]"
   ]
  },
  {
   "cell_type": "code",
   "execution_count": null,
   "metadata": {},
   "outputs": [],
   "source": [
    "# get valid literals\n",
    "df_proposals = df_proposals.dropna(subset=['title', 'body'])\n",
    "for v in [\"title\", \"body\"]:\n",
    "    df_proposals[v] = df_proposals[v] \\\n",
    "                        .apply(get_valid) \\\n",
    "                        .apply(remove_urls_and_ipfs) \\\n",
    "                        .apply(remove_empty_parentheses) \\\n",
    "                        .apply(remove_wallet_addresses) \\\n",
    "                        .apply(replace_multiple_newlines)\n",
    "\n",
    "\n",
    "# ![]( 제거\n",
    "df_proposals['body'] = df_proposals['body'].apply(lambda x: x.replace('![](', ''))\n",
    "\n",
    "# drop empty rows\n",
    "df_proposals = df_proposals.dropna(subset=['title', 'body'])\n",
    "\n",
    "# top20에 있는 space만 추출\n",
    "df_proposals[df_proposals[\"space_id\"].isin(top20)]\n",
    "\n",
    "# state closed\n",
    "df_proposals = df_proposals[df_proposals['state'] == 'closed']\n",
    "\n",
    "# 동일한 proposal 제거\n",
    "df_proposals = df_proposals.drop_duplicates(subset=['body'])\n",
    "\n",
    "# votes > 10 \n",
    "df_proposals = df_proposals[df_proposals['votes'] > 10]\n",
    "\n",
    "# body 문자열 150자 이상\n",
    "df_proposals = df_proposals[df_proposals['body'].apply(lambda x: len(x) >= 150)]\n"
   ]
  },
  {
   "cell_type": "code",
   "execution_count": null,
   "metadata": {},
   "outputs": [],
   "source": [
    "df_proposals.shape\n",
    "# (17006, 34)\n"
   ]
  },
  {
   "cell_type": "markdown",
   "metadata": {},
   "source": [
    "df_proposals['votes'].describe()"
   ]
  },
  {
   "cell_type": "markdown",
   "metadata": {},
   "source": [
    "count     17006.000000\n",
    "mean       1870.805774\n",
    "std       13873.625010\n",
    "min          11.000000\n",
    "25%          24.000000\n",
    "50%          56.000000\n",
    "75%         173.000000\n",
    "max      213953.000000\n",
    "Name: votes, dtype: float64"
   ]
  },
  {
   "cell_type": "code",
   "execution_count": null,
   "metadata": {},
   "outputs": [],
   "source": [
    "del df_proposals[\"space\"]\n",
    "df_proposals.to_excel('proposals_top20.xlsx', index=False, engine='xlsxwriter')"
   ]
  }
 ],
 "metadata": {
  "language_info": {
   "name": "python"
  }
 },
 "nbformat": 4,
 "nbformat_minor": 2
}
