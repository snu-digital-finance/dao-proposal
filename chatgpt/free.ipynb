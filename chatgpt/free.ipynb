{
 "cells": [
  {
   "cell_type": "code",
   "execution_count": null,
   "metadata": {},
   "outputs": [],
   "source": [
    "import undetected_chromedriver as uc\n",
    "from selenium import webdriver \n",
    "\n",
    "options = webdriver.ChromeOptions() \n",
    "# options.headless = True\n",
    "# options.add_argument(\"start-maximized\")\n",
    "# options.add_experimental_option(\"excludeSwitches\", [\"enable-automation\"])\n",
    "# options.add_experimental_option('useAutomationExtension', False)\n",
    "driver = uc.Chrome(options=options)\n",
    "driver.get(\"https://www.chatgpt.com\")"
   ]
  },
  {
   "cell_type": "code",
   "execution_count": null,
   "metadata": {},
   "outputs": [],
   "source": [
    "import time\n",
    "from selenium.webdriver.common.by import By \n",
    "from selenium.webdriver import Keys, ActionChains\n",
    "from selenium.common.exceptions import NoSuchElementException\n",
    "from selenium.webdriver.support.ui import WebDriverWait\n",
    "from selenium.webdriver.support import expected_conditions as EC\n",
    "\n",
    "def get_answer(value:str, idx:int=0)-> str:\n",
    "    text_input = driver.find_element(By.XPATH, '//*[@id=\"prompt-textarea\"]')\n",
    "\n",
    "    actions = ActionChains(driver) \\\n",
    "        .move_to_element(text_input) \\\n",
    "        .perform()\n",
    "    ActionChains(driver) \\\n",
    "        .send_keys_to_element(text_input, value) \\\n",
    "        .key_down(Keys.ENTER) \\\n",
    "        .perform()\n",
    "\n",
    "    time.sleep(1)\n",
    "    \n",
    "    driver.find_element(By.XPATH, '//*[@id=\"__next\"]/div[1]/div/main/div[1]/div[2]/div[1]/div/form/div/div[2]/div/button').click()\n",
    "    xpath = f'//*[@id=\"__next\"]/div[1]/div/main/div[1]/div[1]/div/div/div/div/div[{1+(idx*2)}]/div/div/div[2]/div/div[1]/div/div'\n",
    "\n",
    "    time.sleep(10)\n",
    "    \n",
    "    #_ = WebDriverWait(driver, 20).until(\n",
    "    #                EC.presence_of_element_located((By.XPATH, xpath))\n",
    "    #        )\n",
    "\n",
    "    old = driver.find_element(By.XPATH, xpath).text\n",
    "    new = driver.find_element(By.XPATH, xpath).text\n",
    "    while old != new:\n",
    "        old = new\n",
    "        new = driver.find_element(By.XPATH, xpath).text\n",
    "\n",
    "    return new\n"
   ]
  },
  {
   "cell_type": "code",
   "execution_count": null,
   "metadata": {},
   "outputs": [],
   "source": [
    "command = \"give me the one sentence summary of the proposal in DAO\"\n",
    "\n",
    "content = \"\"\"\n",
    "\n",
    "\n",
    "Motivation\n",
    "\n",
    "Benefits of listing:\n",
    "slisBNB is the native yield bearing and liquid staking token for BNB, built by Lista DAO. slisBNB appreciates against BNB in line with BNB’s staking APR, allowing users have the freedom to earn additional yields on different DeFi platforms while earning staking rewards passively.\n",
    "slisBNB is the largest BNB LST in terms of TVL (~$225M) and holders (350,262), listing slisBNB can bring both Aave and Lista communities the opportunities to enjoy the passive yield of supplying slisBNB on Aave as well as the Lista token airdrop.\n",
    "\n",
    "Chain to be deployed: BNB Chain\n",
    "Proof of Liquidity: Lista DAO is open to provide $2500 weekly incentives, last for 8 weeks to bootstrap the liquidity of slisBNB on Aave.\n",
    "Useful links: https://lista.org/\n",
    "Disclaimer\n",
    "This proposal is powered by core contributor of ListaDAO.\n",
    "\n",
    "The Aave Chan Initiative is not directly affiliated with Lista DAO and did not receive compensation for creation this proposal.\n",
    "\n",
    "Next Steps\n",
    "1.If consensus is reached on this [TEMP CHECK], escalate this proposal to the Snapshot stage.\n",
    "2.If the Snapshot outcome is YAE, this proposal will be escalated to ARFC stage\n",
    "3.Publication of a standard ARFC, collect community & service providers feedback before escalating proposal to ARFC snapshot stage\n",
    "4.If the ARFC snapshot outcome is YAE, publish an AIP vote for final confirmation and enforcement of the proposal\n",
    "\"\"\"\n",
    "\n"
   ]
  },
  {
   "cell_type": "code",
   "execution_count": null,
   "metadata": {},
   "outputs": [],
   "source": [
    "value = command + content \n",
    "idx = 4 # start from 1 not 0\n",
    "print(get_answer(value, idx))"
   ]
  },
  {
   "cell_type": "markdown",
   "metadata": {},
   "source": [
    "The proposal advocates for listing slisBNB, Lista DAO's liquid staking token for BNB, on Aave to provide passive yield opportunities and potential Lista token rewards for both communities, supported by liquidity incentives and a structured governance process"
   ]
  }
 ],
 "metadata": {
  "language_info": {
   "name": "python"
  }
 },
 "nbformat": 4,
 "nbformat_minor": 2
}
